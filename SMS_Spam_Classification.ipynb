{
  "nbformat": 4,
  "nbformat_minor": 0,
  "metadata": {
    "colab": {
      "name": "SMS Spam Prediction.ipynb",
      "provenance": [],
      "collapsed_sections": []
    },
    "kernelspec": {
      "name": "python3",
      "display_name": "Python 3"
    },
    "accelerator": "GPU"
  },
  "cells": [
    {
      "cell_type": "markdown",
      "metadata": {
        "id": "u3-YOtszJOZe",
        "colab_type": "text"
      },
      "source": [
        "**<h1><center>SMS SPAM PREDICTION</center></h1>**\n",
        "<h3><center>Mathan Raj Olaganathan</center>\n",
        "<center>12/02/2020</center></h3>"
      ]
    },
    {
      "cell_type": "markdown",
      "metadata": {
        "id": "b0eGnd0eJdJ_",
        "colab_type": "text"
      },
      "source": [
        "## Table of Contents\n",
        "\n",
        "<div  style=\"margin-top: 20px\">\n",
        "\n",
        "<font size = 3>\n",
        "\n",
        "1. <a href=\"#item1\">Introduction</a>\n",
        "\n",
        "2. <a href=\"#item2\">Data</a>\n",
        "\n",
        "3. <a href=\"#item3\">Exploratory Data Analysis</a>\n",
        "\n",
        "4. <a href=\"#item4\">Data Preprocessing</a>\n",
        "\n",
        "5. <a href=\"#item5\">WordCloud</a>\n",
        "\n",
        "6. <a href='#item6'>Model using ML Algorithms</a>\n",
        "\n",
        "7. <a href='#item7'>Model using Deep Learning</a>\n",
        "\n",
        "</font>\n",
        "</div>"
      ]
    },
    {
      "cell_type": "markdown",
      "metadata": {
        "id": "Zd1BkYxbJrbH",
        "colab_type": "text"
      },
      "source": [
        "<a id='item1'></a>"
      ]
    },
    {
      "cell_type": "markdown",
      "metadata": {
        "id": "EwWKTSlnJu3l",
        "colab_type": "text"
      },
      "source": [
        "## 1.Introduction"
      ]
    },
    {
      "cell_type": "markdown",
      "metadata": {
        "id": "NdhGwJymJz6X",
        "colab_type": "text"
      },
      "source": [
        "### 1.1 Background"
      ]
    },
    {
      "cell_type": "markdown",
      "metadata": {
        "id": "txoaZ9JAJ2ob",
        "colab_type": "text"
      },
      "source": [
        "The SMS Spam Collection is a set of SMS tagged messages that have been collected for SMS Spam research. It contains one set of SMS messages in English of 5,574 messages, tagged acording being ham (legitimate) or spam."
      ]
    },
    {
      "cell_type": "markdown",
      "metadata": {
        "id": "MWsDgfRPKJjW",
        "colab_type": "text"
      },
      "source": [
        "###1.3 Problem Statement"
      ]
    },
    {
      "cell_type": "markdown",
      "metadata": {
        "id": "75oJfqzSKRnq",
        "colab_type": "text"
      },
      "source": [
        "Build a prediction model that will accurately classify which texts are spam"
      ]
    },
    {
      "cell_type": "markdown",
      "metadata": {
        "id": "ACPpVdADKUIj",
        "colab_type": "text"
      },
      "source": [
        "## 2.Data"
      ]
    },
    {
      "cell_type": "markdown",
      "metadata": {
        "id": "1Uz-Aqi1KXNi",
        "colab_type": "text"
      },
      "source": [
        "The dataset is available at https://www.kaggle.com/uciml/sms-spam-collection-dataset"
      ]
    },
    {
      "cell_type": "markdown",
      "metadata": {
        "id": "koYQO6jtK2uY",
        "colab_type": "text"
      },
      "source": [
        "The files contain one message per line. Each line is composed by two columns: v1 contains the label (ham or spam) and v2 contains the raw text."
      ]
    },
    {
      "cell_type": "markdown",
      "metadata": {
        "id": "mZu6WFR8K3jF",
        "colab_type": "text"
      },
      "source": [
        "### 2.1Loading the data"
      ]
    },
    {
      "cell_type": "code",
      "metadata": {
        "id": "eK9o8343LBEp",
        "colab_type": "code",
        "outputId": "c1988a13-dcdc-43fc-87a2-24830609ab7d",
        "colab": {
          "resources": {
            "http://localhost:8080/nbextensions/google.colab/files.js": {
              "data": "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",
              "ok": true,
              "headers": [
                [
                  "content-type",
                  "application/javascript"
                ]
              ],
              "status": 200,
              "status_text": ""
            }
          },
          "base_uri": "https://localhost:8080/",
          "height": 91
        }
      },
      "source": [
        "!pip install -q kaggle\n",
        "from google.colab import files\n",
        "files.upload()"
      ],
      "execution_count": 180,
      "outputs": [
        {
          "output_type": "display_data",
          "data": {
            "text/html": [
              "\n",
              "     <input type=\"file\" id=\"files-40b29b81-7d7d-4882-a4af-50b8aaf2f260\" name=\"files[]\" multiple disabled />\n",
              "     <output id=\"result-40b29b81-7d7d-4882-a4af-50b8aaf2f260\">\n",
              "      Upload widget is only available when the cell has been executed in the\n",
              "      current browser session. Please rerun this cell to enable.\n",
              "      </output>\n",
              "      <script src=\"/nbextensions/google.colab/files.js\"></script> "
            ],
            "text/plain": [
              "<IPython.core.display.HTML object>"
            ]
          },
          "metadata": {
            "tags": []
          }
        },
        {
          "output_type": "stream",
          "text": [
            "Saving kaggle.json to kaggle (1).json\n"
          ],
          "name": "stdout"
        },
        {
          "output_type": "execute_result",
          "data": {
            "text/plain": [
              "{'kaggle.json': b'{\"username\":\"mathanraj\",\"key\":\"8de696e0ab4906782b2a37858ff26177\"}'}"
            ]
          },
          "metadata": {
            "tags": []
          },
          "execution_count": 180
        }
      ]
    },
    {
      "cell_type": "code",
      "metadata": {
        "id": "cyt0RTHaLE_F",
        "colab_type": "code",
        "colab": {
          "base_uri": "https://localhost:8080/",
          "height": 34
        },
        "outputId": "b3df37d7-8bf0-460f-c7c9-c3f472a34c3c"
      },
      "source": [
        "! mkdir ~/.kaggle\n",
        "! cp kaggle.json ~/.kaggle/\n",
        "\n",
        "# Change the permissions of the file.\n",
        "! chmod 600 ~/.kaggle/kaggle.json"
      ],
      "execution_count": 181,
      "outputs": [
        {
          "output_type": "stream",
          "text": [
            "mkdir: cannot create directory ‘/root/.kaggle’: File exists\n"
          ],
          "name": "stdout"
        }
      ]
    },
    {
      "cell_type": "code",
      "metadata": {
        "id": "arjMXiifLR02",
        "colab_type": "code",
        "outputId": "8e18eaab-b916-4135-f6a9-66ec45aa0dd1",
        "colab": {
          "base_uri": "https://localhost:8080/",
          "height": 34
        }
      },
      "source": [
        "!kaggle datasets download -d uciml/sms-spam-collection-dataset"
      ],
      "execution_count": 182,
      "outputs": [
        {
          "output_type": "stream",
          "text": [
            "sms-spam-collection-dataset.zip: Skipping, found more recently modified local copy (use --force to force download)\n"
          ],
          "name": "stdout"
        }
      ]
    },
    {
      "cell_type": "code",
      "metadata": {
        "id": "iW39nPZmMznT",
        "colab_type": "code",
        "outputId": "f2b8aa96-83d8-482c-dab7-080c78fe0a16",
        "colab": {
          "base_uri": "https://localhost:8080/",
          "height": 67
        }
      },
      "source": [
        "!unzip sms-spam-collection-dataset.zip "
      ],
      "execution_count": 183,
      "outputs": [
        {
          "output_type": "stream",
          "text": [
            "Archive:  sms-spam-collection-dataset.zip\n",
            "replace spam.csv? [y]es, [n]o, [A]ll, [N]one, [r]ename: y\n",
            "  inflating: spam.csv                \n"
          ],
          "name": "stdout"
        }
      ]
    },
    {
      "cell_type": "markdown",
      "metadata": {
        "id": "-IY_LjwYM9q6",
        "colab_type": "text"
      },
      "source": [
        "importing libraries"
      ]
    },
    {
      "cell_type": "code",
      "metadata": {
        "id": "GT0-rvfgNGOk",
        "colab_type": "code",
        "colab": {}
      },
      "source": [
        "import pandas as pd\n",
        "import numpy as np\n",
        "import matplotlib.pyplot as plt\n",
        "import seaborn as sns\n",
        "import plotly.express as px\n",
        "import plotly.graph_objects as go\n",
        "import nltk\n",
        "from nltk.corpus import stopwords\n",
        "import re\n",
        "import string\n",
        "from wordcloud import WordCloud, STOPWORDS\n",
        "from collections import Counter\n",
        "from PIL import Image\n",
        "from sklearn.model_selection import train_test_split\n",
        "from sklearn.feature_extraction.text import CountVectorizer, TfidfVectorizer, TfidfTransformer\n",
        "from sklearn.naive_bayes import MultinomialNB\n",
        "from sklearn.linear_model import LogisticRegression\n",
        "from sklearn.ensemble import RandomForestClassifier, AdaBoostClassifier, GradientBoostingClassifier\n",
        "from sklearn.tree import DecisionTreeClassifier\n",
        "from sklearn.svm import SVC\n",
        "from sklearn.pipeline import Pipeline\n",
        "from sklearn.model_selection import StratifiedKFold, RandomizedSearchCV\n",
        "from sklearn.metrics import accuracy_score, classification_report, confusion_matrix"
      ],
      "execution_count": 0,
      "outputs": []
    },
    {
      "cell_type": "code",
      "metadata": {
        "id": "OixNLVPwkoYc",
        "colab_type": "code",
        "outputId": "7e2a33ce-85b5-4818-97b6-eae98ba1d21c",
        "colab": {
          "base_uri": "https://localhost:8080/",
          "height": 67
        }
      },
      "source": [
        "nltk.download('stopwords')"
      ],
      "execution_count": 185,
      "outputs": [
        {
          "output_type": "stream",
          "text": [
            "[nltk_data] Downloading package stopwords to /root/nltk_data...\n",
            "[nltk_data]   Package stopwords is already up-to-date!\n"
          ],
          "name": "stdout"
        },
        {
          "output_type": "execute_result",
          "data": {
            "text/plain": [
              "True"
            ]
          },
          "metadata": {
            "tags": []
          },
          "execution_count": 185
        }
      ]
    },
    {
      "cell_type": "code",
      "metadata": {
        "id": "3byqAvr4NMpk",
        "colab_type": "code",
        "colab": {}
      },
      "source": [
        "df = pd.read_csv('spam.csv',encoding='ISO-8859–1')"
      ],
      "execution_count": 0,
      "outputs": []
    },
    {
      "cell_type": "code",
      "metadata": {
        "id": "qlsyc-AENQe8",
        "colab_type": "code",
        "outputId": "dcb0e483-548d-4bdb-a3d2-f9c9e397dd22",
        "colab": {
          "base_uri": "https://localhost:8080/",
          "height": 195
        }
      },
      "source": [
        "df.head()\n"
      ],
      "execution_count": 187,
      "outputs": [
        {
          "output_type": "execute_result",
          "data": {
            "text/html": [
              "<div>\n",
              "<style scoped>\n",
              "    .dataframe tbody tr th:only-of-type {\n",
              "        vertical-align: middle;\n",
              "    }\n",
              "\n",
              "    .dataframe tbody tr th {\n",
              "        vertical-align: top;\n",
              "    }\n",
              "\n",
              "    .dataframe thead th {\n",
              "        text-align: right;\n",
              "    }\n",
              "</style>\n",
              "<table border=\"1\" class=\"dataframe\">\n",
              "  <thead>\n",
              "    <tr style=\"text-align: right;\">\n",
              "      <th></th>\n",
              "      <th>v1</th>\n",
              "      <th>v2</th>\n",
              "      <th>Unnamed: 2</th>\n",
              "      <th>Unnamed: 3</th>\n",
              "      <th>Unnamed: 4</th>\n",
              "    </tr>\n",
              "  </thead>\n",
              "  <tbody>\n",
              "    <tr>\n",
              "      <th>0</th>\n",
              "      <td>ham</td>\n",
              "      <td>Go until jurong point, crazy.. Available only ...</td>\n",
              "      <td>NaN</td>\n",
              "      <td>NaN</td>\n",
              "      <td>NaN</td>\n",
              "    </tr>\n",
              "    <tr>\n",
              "      <th>1</th>\n",
              "      <td>ham</td>\n",
              "      <td>Ok lar... Joking wif u oni...</td>\n",
              "      <td>NaN</td>\n",
              "      <td>NaN</td>\n",
              "      <td>NaN</td>\n",
              "    </tr>\n",
              "    <tr>\n",
              "      <th>2</th>\n",
              "      <td>spam</td>\n",
              "      <td>Free entry in 2 a wkly comp to win FA Cup fina...</td>\n",
              "      <td>NaN</td>\n",
              "      <td>NaN</td>\n",
              "      <td>NaN</td>\n",
              "    </tr>\n",
              "    <tr>\n",
              "      <th>3</th>\n",
              "      <td>ham</td>\n",
              "      <td>U dun say so early hor... U c already then say...</td>\n",
              "      <td>NaN</td>\n",
              "      <td>NaN</td>\n",
              "      <td>NaN</td>\n",
              "    </tr>\n",
              "    <tr>\n",
              "      <th>4</th>\n",
              "      <td>ham</td>\n",
              "      <td>Nah I don't think he goes to usf, he lives aro...</td>\n",
              "      <td>NaN</td>\n",
              "      <td>NaN</td>\n",
              "      <td>NaN</td>\n",
              "    </tr>\n",
              "  </tbody>\n",
              "</table>\n",
              "</div>"
            ],
            "text/plain": [
              "     v1                                                 v2 Unnamed: 2 Unnamed: 3 Unnamed: 4\n",
              "0   ham  Go until jurong point, crazy.. Available only ...        NaN        NaN        NaN\n",
              "1   ham                      Ok lar... Joking wif u oni...        NaN        NaN        NaN\n",
              "2  spam  Free entry in 2 a wkly comp to win FA Cup fina...        NaN        NaN        NaN\n",
              "3   ham  U dun say so early hor... U c already then say...        NaN        NaN        NaN\n",
              "4   ham  Nah I don't think he goes to usf, he lives aro...        NaN        NaN        NaN"
            ]
          },
          "metadata": {
            "tags": []
          },
          "execution_count": 187
        }
      ]
    },
    {
      "cell_type": "code",
      "metadata": {
        "id": "3BNCCGTJOZqJ",
        "colab_type": "code",
        "outputId": "4f4c1e78-47f1-40ba-dd0a-5bfd2c21705f",
        "colab": {
          "base_uri": "https://localhost:8080/",
          "height": 218
        }
      },
      "source": [
        "df.info()"
      ],
      "execution_count": 188,
      "outputs": [
        {
          "output_type": "stream",
          "text": [
            "<class 'pandas.core.frame.DataFrame'>\n",
            "RangeIndex: 5572 entries, 0 to 5571\n",
            "Data columns (total 5 columns):\n",
            " #   Column      Non-Null Count  Dtype \n",
            "---  ------      --------------  ----- \n",
            " 0   v1          5572 non-null   object\n",
            " 1   v2          5572 non-null   object\n",
            " 2   Unnamed: 2  50 non-null     object\n",
            " 3   Unnamed: 3  12 non-null     object\n",
            " 4   Unnamed: 4  6 non-null      object\n",
            "dtypes: object(5)\n",
            "memory usage: 217.8+ KB\n"
          ],
          "name": "stdout"
        }
      ]
    },
    {
      "cell_type": "markdown",
      "metadata": {
        "id": "CsTTixidOgyv",
        "colab_type": "text"
      },
      "source": [
        "Lets rename the column name"
      ]
    },
    {
      "cell_type": "code",
      "metadata": {
        "id": "t0mFvSzcOvJ8",
        "colab_type": "code",
        "colab": {}
      },
      "source": [
        "df.columns=['label','text','v1','v2','v3']"
      ],
      "execution_count": 0,
      "outputs": []
    },
    {
      "cell_type": "code",
      "metadata": {
        "id": "k2gCttpyPO7H",
        "colab_type": "code",
        "outputId": "88d6f23f-56fa-43ab-a756-13053637cf58",
        "colab": {
          "base_uri": "https://localhost:8080/",
          "height": 195
        }
      },
      "source": [
        "df.head()"
      ],
      "execution_count": 190,
      "outputs": [
        {
          "output_type": "execute_result",
          "data": {
            "text/html": [
              "<div>\n",
              "<style scoped>\n",
              "    .dataframe tbody tr th:only-of-type {\n",
              "        vertical-align: middle;\n",
              "    }\n",
              "\n",
              "    .dataframe tbody tr th {\n",
              "        vertical-align: top;\n",
              "    }\n",
              "\n",
              "    .dataframe thead th {\n",
              "        text-align: right;\n",
              "    }\n",
              "</style>\n",
              "<table border=\"1\" class=\"dataframe\">\n",
              "  <thead>\n",
              "    <tr style=\"text-align: right;\">\n",
              "      <th></th>\n",
              "      <th>label</th>\n",
              "      <th>text</th>\n",
              "      <th>v1</th>\n",
              "      <th>v2</th>\n",
              "      <th>v3</th>\n",
              "    </tr>\n",
              "  </thead>\n",
              "  <tbody>\n",
              "    <tr>\n",
              "      <th>0</th>\n",
              "      <td>ham</td>\n",
              "      <td>Go until jurong point, crazy.. Available only ...</td>\n",
              "      <td>NaN</td>\n",
              "      <td>NaN</td>\n",
              "      <td>NaN</td>\n",
              "    </tr>\n",
              "    <tr>\n",
              "      <th>1</th>\n",
              "      <td>ham</td>\n",
              "      <td>Ok lar... Joking wif u oni...</td>\n",
              "      <td>NaN</td>\n",
              "      <td>NaN</td>\n",
              "      <td>NaN</td>\n",
              "    </tr>\n",
              "    <tr>\n",
              "      <th>2</th>\n",
              "      <td>spam</td>\n",
              "      <td>Free entry in 2 a wkly comp to win FA Cup fina...</td>\n",
              "      <td>NaN</td>\n",
              "      <td>NaN</td>\n",
              "      <td>NaN</td>\n",
              "    </tr>\n",
              "    <tr>\n",
              "      <th>3</th>\n",
              "      <td>ham</td>\n",
              "      <td>U dun say so early hor... U c already then say...</td>\n",
              "      <td>NaN</td>\n",
              "      <td>NaN</td>\n",
              "      <td>NaN</td>\n",
              "    </tr>\n",
              "    <tr>\n",
              "      <th>4</th>\n",
              "      <td>ham</td>\n",
              "      <td>Nah I don't think he goes to usf, he lives aro...</td>\n",
              "      <td>NaN</td>\n",
              "      <td>NaN</td>\n",
              "      <td>NaN</td>\n",
              "    </tr>\n",
              "  </tbody>\n",
              "</table>\n",
              "</div>"
            ],
            "text/plain": [
              "  label                                               text   v1   v2   v3\n",
              "0   ham  Go until jurong point, crazy.. Available only ...  NaN  NaN  NaN\n",
              "1   ham                      Ok lar... Joking wif u oni...  NaN  NaN  NaN\n",
              "2  spam  Free entry in 2 a wkly comp to win FA Cup fina...  NaN  NaN  NaN\n",
              "3   ham  U dun say so early hor... U c already then say...  NaN  NaN  NaN\n",
              "4   ham  Nah I don't think he goes to usf, he lives aro...  NaN  NaN  NaN"
            ]
          },
          "metadata": {
            "tags": []
          },
          "execution_count": 190
        }
      ]
    },
    {
      "cell_type": "code",
      "metadata": {
        "id": "Hj2IXoSa4HZ8",
        "colab_type": "code",
        "colab": {}
      },
      "source": [
        "df['label_num'] = df['label'].map({'ham':0,'spam':1})"
      ],
      "execution_count": 0,
      "outputs": []
    },
    {
      "cell_type": "code",
      "metadata": {
        "id": "oZibLTyo5XMx",
        "colab_type": "code",
        "outputId": "43829efe-8db2-4e21-f833-fb90f3773edf",
        "colab": {
          "base_uri": "https://localhost:8080/",
          "height": 195
        }
      },
      "source": [
        "df.head()"
      ],
      "execution_count": 192,
      "outputs": [
        {
          "output_type": "execute_result",
          "data": {
            "text/html": [
              "<div>\n",
              "<style scoped>\n",
              "    .dataframe tbody tr th:only-of-type {\n",
              "        vertical-align: middle;\n",
              "    }\n",
              "\n",
              "    .dataframe tbody tr th {\n",
              "        vertical-align: top;\n",
              "    }\n",
              "\n",
              "    .dataframe thead th {\n",
              "        text-align: right;\n",
              "    }\n",
              "</style>\n",
              "<table border=\"1\" class=\"dataframe\">\n",
              "  <thead>\n",
              "    <tr style=\"text-align: right;\">\n",
              "      <th></th>\n",
              "      <th>label</th>\n",
              "      <th>text</th>\n",
              "      <th>v1</th>\n",
              "      <th>v2</th>\n",
              "      <th>v3</th>\n",
              "      <th>label_num</th>\n",
              "    </tr>\n",
              "  </thead>\n",
              "  <tbody>\n",
              "    <tr>\n",
              "      <th>0</th>\n",
              "      <td>ham</td>\n",
              "      <td>Go until jurong point, crazy.. Available only ...</td>\n",
              "      <td>NaN</td>\n",
              "      <td>NaN</td>\n",
              "      <td>NaN</td>\n",
              "      <td>0</td>\n",
              "    </tr>\n",
              "    <tr>\n",
              "      <th>1</th>\n",
              "      <td>ham</td>\n",
              "      <td>Ok lar... Joking wif u oni...</td>\n",
              "      <td>NaN</td>\n",
              "      <td>NaN</td>\n",
              "      <td>NaN</td>\n",
              "      <td>0</td>\n",
              "    </tr>\n",
              "    <tr>\n",
              "      <th>2</th>\n",
              "      <td>spam</td>\n",
              "      <td>Free entry in 2 a wkly comp to win FA Cup fina...</td>\n",
              "      <td>NaN</td>\n",
              "      <td>NaN</td>\n",
              "      <td>NaN</td>\n",
              "      <td>1</td>\n",
              "    </tr>\n",
              "    <tr>\n",
              "      <th>3</th>\n",
              "      <td>ham</td>\n",
              "      <td>U dun say so early hor... U c already then say...</td>\n",
              "      <td>NaN</td>\n",
              "      <td>NaN</td>\n",
              "      <td>NaN</td>\n",
              "      <td>0</td>\n",
              "    </tr>\n",
              "    <tr>\n",
              "      <th>4</th>\n",
              "      <td>ham</td>\n",
              "      <td>Nah I don't think he goes to usf, he lives aro...</td>\n",
              "      <td>NaN</td>\n",
              "      <td>NaN</td>\n",
              "      <td>NaN</td>\n",
              "      <td>0</td>\n",
              "    </tr>\n",
              "  </tbody>\n",
              "</table>\n",
              "</div>"
            ],
            "text/plain": [
              "  label                                               text   v1   v2   v3  label_num\n",
              "0   ham  Go until jurong point, crazy.. Available only ...  NaN  NaN  NaN          0\n",
              "1   ham                      Ok lar... Joking wif u oni...  NaN  NaN  NaN          0\n",
              "2  spam  Free entry in 2 a wkly comp to win FA Cup fina...  NaN  NaN  NaN          1\n",
              "3   ham  U dun say so early hor... U c already then say...  NaN  NaN  NaN          0\n",
              "4   ham  Nah I don't think he goes to usf, he lives aro...  NaN  NaN  NaN          0"
            ]
          },
          "metadata": {
            "tags": []
          },
          "execution_count": 192
        }
      ]
    },
    {
      "cell_type": "markdown",
      "metadata": {
        "id": "ppZ-wf-tPRXG",
        "colab_type": "text"
      },
      "source": [
        "Replace the nan values"
      ]
    },
    {
      "cell_type": "code",
      "metadata": {
        "id": "7miEeAWXPYU1",
        "colab_type": "code",
        "colab": {}
      },
      "source": [
        "df.fillna(\"\", inplace=True)"
      ],
      "execution_count": 0,
      "outputs": []
    },
    {
      "cell_type": "code",
      "metadata": {
        "id": "zOQVeFuRPe6B",
        "colab_type": "code",
        "outputId": "f2ed5dc7-cb7e-41e1-8129-54d0c9b03363",
        "colab": {
          "base_uri": "https://localhost:8080/",
          "height": 195
        }
      },
      "source": [
        "df.head()"
      ],
      "execution_count": 194,
      "outputs": [
        {
          "output_type": "execute_result",
          "data": {
            "text/html": [
              "<div>\n",
              "<style scoped>\n",
              "    .dataframe tbody tr th:only-of-type {\n",
              "        vertical-align: middle;\n",
              "    }\n",
              "\n",
              "    .dataframe tbody tr th {\n",
              "        vertical-align: top;\n",
              "    }\n",
              "\n",
              "    .dataframe thead th {\n",
              "        text-align: right;\n",
              "    }\n",
              "</style>\n",
              "<table border=\"1\" class=\"dataframe\">\n",
              "  <thead>\n",
              "    <tr style=\"text-align: right;\">\n",
              "      <th></th>\n",
              "      <th>label</th>\n",
              "      <th>text</th>\n",
              "      <th>v1</th>\n",
              "      <th>v2</th>\n",
              "      <th>v3</th>\n",
              "      <th>label_num</th>\n",
              "    </tr>\n",
              "  </thead>\n",
              "  <tbody>\n",
              "    <tr>\n",
              "      <th>0</th>\n",
              "      <td>ham</td>\n",
              "      <td>Go until jurong point, crazy.. Available only ...</td>\n",
              "      <td></td>\n",
              "      <td></td>\n",
              "      <td></td>\n",
              "      <td>0</td>\n",
              "    </tr>\n",
              "    <tr>\n",
              "      <th>1</th>\n",
              "      <td>ham</td>\n",
              "      <td>Ok lar... Joking wif u oni...</td>\n",
              "      <td></td>\n",
              "      <td></td>\n",
              "      <td></td>\n",
              "      <td>0</td>\n",
              "    </tr>\n",
              "    <tr>\n",
              "      <th>2</th>\n",
              "      <td>spam</td>\n",
              "      <td>Free entry in 2 a wkly comp to win FA Cup fina...</td>\n",
              "      <td></td>\n",
              "      <td></td>\n",
              "      <td></td>\n",
              "      <td>1</td>\n",
              "    </tr>\n",
              "    <tr>\n",
              "      <th>3</th>\n",
              "      <td>ham</td>\n",
              "      <td>U dun say so early hor... U c already then say...</td>\n",
              "      <td></td>\n",
              "      <td></td>\n",
              "      <td></td>\n",
              "      <td>0</td>\n",
              "    </tr>\n",
              "    <tr>\n",
              "      <th>4</th>\n",
              "      <td>ham</td>\n",
              "      <td>Nah I don't think he goes to usf, he lives aro...</td>\n",
              "      <td></td>\n",
              "      <td></td>\n",
              "      <td></td>\n",
              "      <td>0</td>\n",
              "    </tr>\n",
              "  </tbody>\n",
              "</table>\n",
              "</div>"
            ],
            "text/plain": [
              "  label                                               text v1 v2 v3  label_num\n",
              "0   ham  Go until jurong point, crazy.. Available only ...                   0\n",
              "1   ham                      Ok lar... Joking wif u oni...                   0\n",
              "2  spam  Free entry in 2 a wkly comp to win FA Cup fina...                   1\n",
              "3   ham  U dun say so early hor... U c already then say...                   0\n",
              "4   ham  Nah I don't think he goes to usf, he lives aro...                   0"
            ]
          },
          "metadata": {
            "tags": []
          },
          "execution_count": 194
        }
      ]
    },
    {
      "cell_type": "code",
      "metadata": {
        "id": "1vveay1pPpT0",
        "colab_type": "code",
        "outputId": "66040172-d3df-4aac-f7c5-8c261d75d502",
        "colab": {
          "base_uri": "https://localhost:8080/",
          "height": 235
        }
      },
      "source": [
        "df.info()"
      ],
      "execution_count": 195,
      "outputs": [
        {
          "output_type": "stream",
          "text": [
            "<class 'pandas.core.frame.DataFrame'>\n",
            "RangeIndex: 5572 entries, 0 to 5571\n",
            "Data columns (total 6 columns):\n",
            " #   Column     Non-Null Count  Dtype \n",
            "---  ------     --------------  ----- \n",
            " 0   label      5572 non-null   object\n",
            " 1   text       5572 non-null   object\n",
            " 2   v1         5572 non-null   object\n",
            " 3   v2         5572 non-null   object\n",
            " 4   v3         5572 non-null   object\n",
            " 5   label_num  5572 non-null   int64 \n",
            "dtypes: int64(1), object(5)\n",
            "memory usage: 261.3+ KB\n"
          ],
          "name": "stdout"
        }
      ]
    },
    {
      "cell_type": "code",
      "metadata": {
        "id": "hIywgpC4PsZV",
        "colab_type": "code",
        "colab": {}
      },
      "source": [
        "df['text'] = df['text']+\" \"+df['v1']+\" \"+df['v2']+\" \"+df['v3']"
      ],
      "execution_count": 0,
      "outputs": []
    },
    {
      "cell_type": "markdown",
      "metadata": {
        "id": "IQ_6zDfZSKfp",
        "colab_type": "text"
      },
      "source": [
        "Dropping v1, v2 adn v3 columns as we don't require them anymore"
      ]
    },
    {
      "cell_type": "code",
      "metadata": {
        "id": "95Ez9ltYP6nA",
        "colab_type": "code",
        "colab": {}
      },
      "source": [
        "df.drop(['v1','v2','v3'],inplace=True,axis=1)"
      ],
      "execution_count": 0,
      "outputs": []
    },
    {
      "cell_type": "code",
      "metadata": {
        "id": "Xd8CAa9rP8fh",
        "colab_type": "code",
        "outputId": "eab4dec9-cc1a-45ca-f9a6-bdabdb6f3baf",
        "colab": {
          "base_uri": "https://localhost:8080/",
          "height": 195
        }
      },
      "source": [
        "df.head()"
      ],
      "execution_count": 198,
      "outputs": [
        {
          "output_type": "execute_result",
          "data": {
            "text/html": [
              "<div>\n",
              "<style scoped>\n",
              "    .dataframe tbody tr th:only-of-type {\n",
              "        vertical-align: middle;\n",
              "    }\n",
              "\n",
              "    .dataframe tbody tr th {\n",
              "        vertical-align: top;\n",
              "    }\n",
              "\n",
              "    .dataframe thead th {\n",
              "        text-align: right;\n",
              "    }\n",
              "</style>\n",
              "<table border=\"1\" class=\"dataframe\">\n",
              "  <thead>\n",
              "    <tr style=\"text-align: right;\">\n",
              "      <th></th>\n",
              "      <th>label</th>\n",
              "      <th>text</th>\n",
              "      <th>label_num</th>\n",
              "    </tr>\n",
              "  </thead>\n",
              "  <tbody>\n",
              "    <tr>\n",
              "      <th>0</th>\n",
              "      <td>ham</td>\n",
              "      <td>Go until jurong point, crazy.. Available only ...</td>\n",
              "      <td>0</td>\n",
              "    </tr>\n",
              "    <tr>\n",
              "      <th>1</th>\n",
              "      <td>ham</td>\n",
              "      <td>Ok lar... Joking wif u oni...</td>\n",
              "      <td>0</td>\n",
              "    </tr>\n",
              "    <tr>\n",
              "      <th>2</th>\n",
              "      <td>spam</td>\n",
              "      <td>Free entry in 2 a wkly comp to win FA Cup fina...</td>\n",
              "      <td>1</td>\n",
              "    </tr>\n",
              "    <tr>\n",
              "      <th>3</th>\n",
              "      <td>ham</td>\n",
              "      <td>U dun say so early hor... U c already then say...</td>\n",
              "      <td>0</td>\n",
              "    </tr>\n",
              "    <tr>\n",
              "      <th>4</th>\n",
              "      <td>ham</td>\n",
              "      <td>Nah I don't think he goes to usf, he lives aro...</td>\n",
              "      <td>0</td>\n",
              "    </tr>\n",
              "  </tbody>\n",
              "</table>\n",
              "</div>"
            ],
            "text/plain": [
              "  label                                               text  label_num\n",
              "0   ham  Go until jurong point, crazy.. Available only ...          0\n",
              "1   ham                   Ok lar... Joking wif u oni...             0\n",
              "2  spam  Free entry in 2 a wkly comp to win FA Cup fina...          1\n",
              "3   ham  U dun say so early hor... U c already then say...          0\n",
              "4   ham  Nah I don't think he goes to usf, he lives aro...          0"
            ]
          },
          "metadata": {
            "tags": []
          },
          "execution_count": 198
        }
      ]
    },
    {
      "cell_type": "markdown",
      "metadata": {
        "id": "bDtZy8AcQcS4",
        "colab_type": "text"
      },
      "source": [
        "<a id='item3'></a>"
      ]
    },
    {
      "cell_type": "markdown",
      "metadata": {
        "id": "ollNcRG4SIzA",
        "colab_type": "text"
      },
      "source": [
        "## 3.EDA"
      ]
    },
    {
      "cell_type": "markdown",
      "metadata": {
        "id": "tWFRcy0qSYeS",
        "colab_type": "text"
      },
      "source": [
        "Letc check the distribution of the dataset"
      ]
    },
    {
      "cell_type": "code",
      "metadata": {
        "id": "xBypoawYSums",
        "colab_type": "code",
        "outputId": "ab4a7a31-57c0-473e-b2fb-f711b33199b8",
        "colab": {
          "base_uri": "https://localhost:8080/",
          "height": 514
        }
      },
      "source": [
        "plt.figure(figsize=(8,8))\n",
        "count = sns.countplot(df['label'])\n",
        "for p in count.patches:\n",
        "  count.text(x=(p.get_x()+p.get_width()/2.0),y=p.get_height(),s=int(p.get_height()),\n",
        "             ha='center',va='bottom',fontsize=12,color='red')\n",
        "  \n"
      ],
      "execution_count": 199,
      "outputs": [
        {
          "output_type": "execute_result",
          "data": {
            "text/plain": [
              "<Figure size 576x576 with 0 Axes>"
            ]
          },
          "metadata": {
            "tags": []
          },
          "execution_count": 199
        },
        {
          "output_type": "execute_result",
          "data": {
            "text/plain": [
              "Text(0.0, 4825, '4825')"
            ]
          },
          "metadata": {
            "tags": []
          },
          "execution_count": 199
        },
        {
          "output_type": "execute_result",
          "data": {
            "text/plain": [
              "Text(1.0, 747, '747')"
            ]
          },
          "metadata": {
            "tags": []
          },
          "execution_count": 199
        },
        {
          "output_type": "display_data",
          "data": {
            "image/png": "[encoded data removed]",
            "text/plain": [
              "<Figure size 576x576 with 1 Axes>"
            ]
          },
          "metadata": {
            "tags": [],
            "needs_background": "light"
          }
        }
      ]
    },
    {
      "cell_type": "code",
      "metadata": {
        "id": "qVGxtjmZToV1",
        "colab_type": "code",
        "outputId": "aede90e5-d1a4-4b7f-efe4-01ce5fc8e678",
        "colab": {
          "base_uri": "https://localhost:8080/",
          "height": 78
        }
      },
      "source": [
        "dist = df.groupby('label').count()['text'].reset_index().sort_values(by='text',ascending=False)\n",
        "dist.style.background_gradient(cmap='Dark2_r')\n"
      ],
      "execution_count": 200,
      "outputs": [
        {
          "output_type": "execute_result",
          "data": {
            "text/html": [
              "<style  type=\"text/css\" >\n",
              "    #T_d1cdbafc_95e5_11ea_af66_0242ac1c0002row0_col1 {\n",
              "            background-color:  #1b9e77;\n",
              "            color:  #000000;\n",
              "        }    #T_d1cdbafc_95e5_11ea_af66_0242ac1c0002row1_col1 {\n",
              "            background-color:  #666666;\n",
              "            color:  #f1f1f1;\n",
              "        }</style><table id=\"T_d1cdbafc_95e5_11ea_af66_0242ac1c0002\" ><thead>    <tr>        <th class=\"blank level0\" ></th>        <th class=\"col_heading level0 col0\" >label</th>        <th class=\"col_heading level0 col1\" >text</th>    </tr></thead><tbody>\n",
              "                <tr>\n",
              "                        <th id=\"T_d1cdbafc_95e5_11ea_af66_0242ac1c0002level0_row0\" class=\"row_heading level0 row0\" >0</th>\n",
              "                        <td id=\"T_d1cdbafc_95e5_11ea_af66_0242ac1c0002row0_col0\" class=\"data row0 col0\" >ham</td>\n",
              "                        <td id=\"T_d1cdbafc_95e5_11ea_af66_0242ac1c0002row0_col1\" class=\"data row0 col1\" >4825</td>\n",
              "            </tr>\n",
              "            <tr>\n",
              "                        <th id=\"T_d1cdbafc_95e5_11ea_af66_0242ac1c0002level0_row1\" class=\"row_heading level0 row1\" >1</th>\n",
              "                        <td id=\"T_d1cdbafc_95e5_11ea_af66_0242ac1c0002row1_col0\" class=\"data row1 col0\" >spam</td>\n",
              "                        <td id=\"T_d1cdbafc_95e5_11ea_af66_0242ac1c0002row1_col1\" class=\"data row1 col1\" >747</td>\n",
              "            </tr>\n",
              "    </tbody></table>"
            ],
            "text/plain": [
              "<pandas.io.formats.style.Styler at 0x7efe158ddba8>"
            ]
          },
          "metadata": {
            "tags": []
          },
          "execution_count": 200
        }
      ]
    },
    {
      "cell_type": "code",
      "metadata": {
        "id": "W9eb849_WpwH",
        "colab_type": "code",
        "outputId": "2593d86f-c9e4-491b-f4d6-49f9ddd44ece",
        "colab": {
          "base_uri": "https://localhost:8080/",
          "height": 34
        }
      },
      "source": [
        "4825/(747+4825)"
      ],
      "execution_count": 201,
      "outputs": [
        {
          "output_type": "execute_result",
          "data": {
            "text/plain": [
              "0.8659368269921034"
            ]
          },
          "metadata": {
            "tags": []
          },
          "execution_count": 201
        }
      ]
    },
    {
      "cell_type": "markdown",
      "metadata": {
        "id": "-q3jUhW8VDvZ",
        "colab_type": "text"
      },
      "source": [
        "The dataset is imbalanced, 86% of the dataset are ham (i.e) 4825 and the rest 747 are spam."
      ]
    },
    {
      "cell_type": "code",
      "metadata": {
        "id": "GGEk5MgjVE66",
        "colab_type": "code",
        "outputId": "2705e1f2-d31a-4fca-d77a-6e45869ee7f7",
        "colab": {
          "base_uri": "https://localhost:8080/",
          "height": 1000
        }
      },
      "source": [
        "fig = go.Figure(data=[\n",
        "                      go.Pie(values=dist['text'],labels=dist['label'],pull=[0,0.2])\n",
        "])\n",
        "fig.update_layout(title='Spam Ham Distribution')\n",
        "fig.show()"
      ],
      "execution_count": 202,
      "outputs": [
        {
          "output_type": "display_data",
          "data": {
            "text/html": [
              "<html>\n",
              "<head><meta charset=\"utf-8\" /></head>\n",
              "<body>\n",
              "    <div>\n",
              "            <script src=\"https://cdnjs.cloudflare.com/ajax/libs/mathjax/2.7.5/MathJax.js?config=TeX-AMS-MML_SVG\"></script><script type=\"text/javascript\">if (window.MathJax) {MathJax.Hub.Config({SVG: {font: \"STIX-Web\"}});}</script>\n",
              "                <script type=\"text/javascript\">window.PlotlyConfig = {MathJaxConfig: 'local'};</script>\n",
              "        <script src=\"https://cdn.plot.ly/plotly-latest.min.js\"></script>    \n",
              "            <div id=\"a2f61386-218e-4485-a5c4-ec160ad0d7e4\" class=\"plotly-graph-div\" style=\"height:525px; width:100%;\"></div>\n",
              "            <script type=\"text/javascript\">\n",
              "                \n",
              "                    window.PLOTLYENV=window.PLOTLYENV || {};\n",
              "                    \n",
              "                if (document.getElementById(\"a2f61386-218e-4485-a5c4-ec160ad0d7e4\")) {\n",
              "                    Plotly.newPlot(\n",
              "                        'a2f61386-218e-4485-a5c4-ec160ad0d7e4',\n",
              "                        [{\"labels\": [\"ham\", \"spam\"], \"pull\": [0, 0.2], \"type\": \"pie\", \"values\": [4825, 747]}],\n",
              "                        {\"template\": {\"data\": {\"bar\": [{\"error_x\": {\"color\": \"#2a3f5f\"}, \"error_y\": {\"color\": \"#2a3f5f\"}, \"marker\": {\"line\": {\"color\": \"#E5ECF6\", \"width\": 0.5}}, \"type\": \"bar\"}], \"barpolar\": [{\"marker\": {\"line\": {\"color\": \"#E5ECF6\", \"width\": 0.5}}, \"type\": \"barpolar\"}], \"carpet\": [{\"aaxis\": {\"endlinecolor\": \"#2a3f5f\", \"gridcolor\": \"white\", \"linecolor\": \"white\", \"minorgridcolor\": \"white\", \"startlinecolor\": \"#2a3f5f\"}, \"baxis\": {\"endlinecolor\": \"#2a3f5f\", \"gridcolor\": \"white\", \"linecolor\": \"white\", \"minorgridcolor\": \"white\", \"startlinecolor\": \"#2a3f5f\"}, \"type\": \"carpet\"}], \"choropleth\": [{\"colorbar\": {\"outlinewidth\": 0, \"ticks\": \"\"}, \"type\": \"choropleth\"}], \"contour\": [{\"colorbar\": {\"outlinewidth\": 0, \"ticks\": \"\"}, \"colorscale\": [[0.0, \"#0d0887\"], [0.1111111111111111, \"#46039f\"], [0.2222222222222222, \"#7201a8\"], [0.3333333333333333, \"#9c179e\"], [0.4444444444444444, \"#bd3786\"], [0.5555555555555556, \"#d8576b\"], [0.6666666666666666, \"#ed7953\"], [0.7777777777777778, \"#fb9f3a\"], [0.8888888888888888, \"#fdca26\"], [1.0, \"#f0f921\"]], \"type\": \"contour\"}], \"contourcarpet\": [{\"colorbar\": {\"outlinewidth\": 0, \"ticks\": \"\"}, \"type\": \"contourcarpet\"}], \"heatmap\": [{\"colorbar\": {\"outlinewidth\": 0, \"ticks\": \"\"}, \"colorscale\": [[0.0, \"#0d0887\"], [0.1111111111111111, \"#46039f\"], [0.2222222222222222, \"#7201a8\"], [0.3333333333333333, \"#9c179e\"], [0.4444444444444444, \"#bd3786\"], [0.5555555555555556, \"#d8576b\"], [0.6666666666666666, \"#ed7953\"], [0.7777777777777778, \"#fb9f3a\"], [0.8888888888888888, \"#fdca26\"], [1.0, \"#f0f921\"]], \"type\": \"heatmap\"}], \"heatmapgl\": [{\"colorbar\": {\"outlinewidth\": 0, \"ticks\": \"\"}, \"colorscale\": [[0.0, \"#0d0887\"], [0.1111111111111111, \"#46039f\"], [0.2222222222222222, \"#7201a8\"], [0.3333333333333333, \"#9c179e\"], [0.4444444444444444, \"#bd3786\"], [0.5555555555555556, \"#d8576b\"], [0.6666666666666666, \"#ed7953\"], [0.7777777777777778, \"#fb9f3a\"], [0.8888888888888888, \"#fdca26\"], [1.0, \"#f0f921\"]], \"type\": \"heatmapgl\"}], \"histogram\": [{\"marker\": {\"colorbar\": {\"outlinewidth\": 0, \"ticks\": \"\"}}, \"type\": \"histogram\"}], \"histogram2d\": [{\"colorbar\": {\"outlinewidth\": 0, \"ticks\": \"\"}, \"colorscale\": [[0.0, \"#0d0887\"], [0.1111111111111111, \"#46039f\"], [0.2222222222222222, \"#7201a8\"], [0.3333333333333333, \"#9c179e\"], [0.4444444444444444, \"#bd3786\"], [0.5555555555555556, \"#d8576b\"], [0.6666666666666666, \"#ed7953\"], [0.7777777777777778, \"#fb9f3a\"], [0.8888888888888888, \"#fdca26\"], [1.0, \"#f0f921\"]], \"type\": \"histogram2d\"}], \"histogram2dcontour\": [{\"colorbar\": {\"outlinewidth\": 0, \"ticks\": \"\"}, \"colorscale\": [[0.0, \"#0d0887\"], [0.1111111111111111, \"#46039f\"], [0.2222222222222222, \"#7201a8\"], [0.3333333333333333, \"#9c179e\"], [0.4444444444444444, \"#bd3786\"], [0.5555555555555556, \"#d8576b\"], [0.6666666666666666, \"#ed7953\"], [0.7777777777777778, \"#fb9f3a\"], [0.8888888888888888, \"#fdca26\"], [1.0, \"#f0f921\"]], \"type\": \"histogram2dcontour\"}], \"mesh3d\": [{\"colorbar\": {\"outlinewidth\": 0, \"ticks\": \"\"}, \"type\": \"mesh3d\"}], \"parcoords\": [{\"line\": {\"colorbar\": {\"outlinewidth\": 0, \"ticks\": \"\"}}, \"type\": \"parcoords\"}], \"pie\": [{\"automargin\": true, \"type\": \"pie\"}], \"scatter\": [{\"marker\": {\"colorbar\": {\"outlinewidth\": 0, \"ticks\": \"\"}}, \"type\": \"scatter\"}], \"scatter3d\": [{\"line\": {\"colorbar\": {\"outlinewidth\": 0, \"ticks\": \"\"}}, \"marker\": {\"colorbar\": {\"outlinewidth\": 0, \"ticks\": \"\"}}, \"type\": \"scatter3d\"}], \"scattercarpet\": [{\"marker\": {\"colorbar\": {\"outlinewidth\": 0, \"ticks\": \"\"}}, \"type\": \"scattercarpet\"}], \"scattergeo\": [{\"marker\": {\"colorbar\": {\"outlinewidth\": 0, \"ticks\": \"\"}}, \"type\": \"scattergeo\"}], \"scattergl\": [{\"marker\": {\"colorbar\": {\"outlinewidth\": 0, \"ticks\": \"\"}}, \"type\": \"scattergl\"}], \"scattermapbox\": [{\"marker\": {\"colorbar\": {\"outlinewidth\": 0, \"ticks\": \"\"}}, \"type\": \"scattermapbox\"}], \"scatterpolar\": [{\"marker\": {\"colorbar\": {\"outlinewidth\": 0, \"ticks\": \"\"}}, \"type\": \"scatterpolar\"}], \"scatterpolargl\": [{\"marker\": {\"colorbar\": {\"outlinewidth\": 0, \"ticks\": \"\"}}, \"type\": \"scatterpolargl\"}], \"scatterternary\": [{\"marker\": {\"colorbar\": {\"outlinewidth\": 0, \"ticks\": \"\"}}, \"type\": \"scatterternary\"}], \"surface\": [{\"colorbar\": {\"outlinewidth\": 0, \"ticks\": \"\"}, \"colorscale\": [[0.0, \"#0d0887\"], [0.1111111111111111, \"#46039f\"], [0.2222222222222222, \"#7201a8\"], [0.3333333333333333, \"#9c179e\"], [0.4444444444444444, \"#bd3786\"], [0.5555555555555556, \"#d8576b\"], [0.6666666666666666, \"#ed7953\"], [0.7777777777777778, \"#fb9f3a\"], [0.8888888888888888, \"#fdca26\"], [1.0, \"#f0f921\"]], \"type\": \"surface\"}], \"table\": [{\"cells\": {\"fill\": {\"color\": \"#EBF0F8\"}, \"line\": {\"color\": \"white\"}}, \"header\": {\"fill\": {\"color\": \"#C8D4E3\"}, \"line\": {\"color\": \"white\"}}, \"type\": \"table\"}]}, \"layout\": {\"annotationdefaults\": {\"arrowcolor\": \"#2a3f5f\", \"arrowhead\": 0, \"arrowwidth\": 1}, \"coloraxis\": {\"colorbar\": {\"outlinewidth\": 0, \"ticks\": \"\"}}, \"colorscale\": {\"diverging\": [[0, \"#8e0152\"], [0.1, \"#c51b7d\"], [0.2, \"#de77ae\"], [0.3, \"#f1b6da\"], [0.4, \"#fde0ef\"], [0.5, \"#f7f7f7\"], [0.6, \"#e6f5d0\"], [0.7, \"#b8e186\"], [0.8, \"#7fbc41\"], [0.9, \"#4d9221\"], [1, \"#276419\"]], \"sequential\": [[0.0, \"#0d0887\"], [0.1111111111111111, \"#46039f\"], [0.2222222222222222, \"#7201a8\"], [0.3333333333333333, \"#9c179e\"], [0.4444444444444444, \"#bd3786\"], [0.5555555555555556, \"#d8576b\"], [0.6666666666666666, \"#ed7953\"], [0.7777777777777778, \"#fb9f3a\"], [0.8888888888888888, \"#fdca26\"], [1.0, \"#f0f921\"]], \"sequentialminus\": [[0.0, \"#0d0887\"], [0.1111111111111111, \"#46039f\"], [0.2222222222222222, \"#7201a8\"], [0.3333333333333333, \"#9c179e\"], [0.4444444444444444, \"#bd3786\"], [0.5555555555555556, \"#d8576b\"], [0.6666666666666666, \"#ed7953\"], [0.7777777777777778, \"#fb9f3a\"], [0.8888888888888888, \"#fdca26\"], [1.0, \"#f0f921\"]]}, \"colorway\": [\"#636efa\", \"#EF553B\", \"#00cc96\", \"#ab63fa\", \"#FFA15A\", \"#19d3f3\", \"#FF6692\", \"#B6E880\", \"#FF97FF\", \"#FECB52\"], \"font\": {\"color\": \"#2a3f5f\"}, \"geo\": {\"bgcolor\": \"white\", \"lakecolor\": \"white\", \"landcolor\": \"#E5ECF6\", \"showlakes\": true, \"showland\": true, \"subunitcolor\": \"white\"}, \"hoverlabel\": {\"align\": \"left\"}, \"hovermode\": \"closest\", \"mapbox\": {\"style\": \"light\"}, \"paper_bgcolor\": \"white\", \"plot_bgcolor\": \"#E5ECF6\", \"polar\": {\"angularaxis\": {\"gridcolor\": \"white\", \"linecolor\": \"white\", \"ticks\": \"\"}, \"bgcolor\": \"#E5ECF6\", \"radialaxis\": {\"gridcolor\": \"white\", \"linecolor\": \"white\", \"ticks\": \"\"}}, \"scene\": {\"xaxis\": {\"backgroundcolor\": \"#E5ECF6\", \"gridcolor\": \"white\", \"gridwidth\": 2, \"linecolor\": \"white\", \"showbackground\": true, \"ticks\": \"\", \"zerolinecolor\": \"white\"}, \"yaxis\": {\"backgroundcolor\": \"#E5ECF6\", \"gridcolor\": \"white\", \"gridwidth\": 2, \"linecolor\": \"white\", \"showbackground\": true, \"ticks\": \"\", \"zerolinecolor\": \"white\"}, \"zaxis\": {\"backgroundcolor\": \"#E5ECF6\", \"gridcolor\": \"white\", \"gridwidth\": 2, \"linecolor\": \"white\", \"showbackground\": true, \"ticks\": \"\", \"zerolinecolor\": \"white\"}}, \"shapedefaults\": {\"line\": {\"color\": \"#2a3f5f\"}}, \"ternary\": {\"aaxis\": {\"gridcolor\": \"white\", \"linecolor\": \"white\", \"ticks\": \"\"}, \"baxis\": {\"gridcolor\": \"white\", \"linecolor\": \"white\", \"ticks\": \"\"}, \"bgcolor\": \"#E5ECF6\", \"caxis\": {\"gridcolor\": \"white\", \"linecolor\": \"white\", \"ticks\": \"\"}}, \"title\": {\"x\": 0.05}, \"xaxis\": {\"automargin\": true, \"gridcolor\": \"white\", \"linecolor\": \"white\", \"ticks\": \"\", \"title\": {\"standoff\": 15}, \"zerolinecolor\": \"white\", \"zerolinewidth\": 2}, \"yaxis\": {\"automargin\": true, \"gridcolor\": \"white\", \"linecolor\": \"white\", \"ticks\": \"\", \"title\": {\"standoff\": 15}, \"zerolinecolor\": \"white\", \"zerolinewidth\": 2}}}, \"title\": {\"text\": \"Spam Ham Distribution\"}},\n",
              "                        {\"responsive\": true}\n",
              "                    ).then(function(){\n",
              "                            \n",
              "var gd = document.getElementById('a2f61386-218e-4485-a5c4-ec160ad0d7e4');\n",
              "var x = new MutationObserver(function (mutations, observer) {{\n",
              "        var display = window.getComputedStyle(gd).display;\n",
              "        if (!display || display === 'none') {{\n",
              "            console.log([gd, 'removed!']);\n",
              "            Plotly.purge(gd);\n",
              "            observer.disconnect();\n",
              "        }}\n",
              "}});\n",
              "\n",
              "// Listen for the removal of the full notebook cells\n",
              "var notebookContainer = gd.closest('#notebook-container');\n",
              "if (notebookContainer) {{\n",
              "    x.observe(notebookContainer, {childList: true});\n",
              "}}\n",
              "\n",
              "// Listen for the clearing of the current output cell\n",
              "var outputEl = gd.closest('.output');\n",
              "if (outputEl) {{\n",
              "    x.observe(outputEl, {childList: true});\n",
              "}}\n",
              "\n",
              "                        })\n",
              "                };\n",
              "                \n",
              "            </script>\n",
              "        </div>\n",
              "</body>\n",
              "</html>"
            ]
          },
          "metadata": {
            "tags": []
          }
        },
        {
          "output_type": "display_data",
          "data": {
            "text/html": [
              "<html>\n",
              "<head><meta charset=\"utf-8\" /></head>\n",
              "<body>\n",
              "    <div>\n",
              "            <script src=\"https://cdnjs.cloudflare.com/ajax/libs/mathjax/2.7.5/MathJax.js?config=TeX-AMS-MML_SVG\"></script><script type=\"text/javascript\">if (window.MathJax) {MathJax.Hub.Config({SVG: {font: \"STIX-Web\"}});}</script>\n",
              "                <script type=\"text/javascript\">window.PlotlyConfig = {MathJaxConfig: 'local'};</script>\n",
              "        <script src=\"https://cdn.plot.ly/plotly-latest.min.js\"></script>    \n",
              "            <div id=\"00b29d57-bdea-4c63-8cca-2d0e9efb2c7d\" class=\"plotly-graph-div\" style=\"height:525px; width:100%;\"></div>\n",
              "            <script type=\"text/javascript\">\n",
              "                \n",
              "                    window.PLOTLYENV=window.PLOTLYENV || {};\n",
              "                    \n",
              "                if (document.getElementById(\"00b29d57-bdea-4c63-8cca-2d0e9efb2c7d\")) {\n",
              "                    Plotly.newPlot(\n",
              "                        '00b29d57-bdea-4c63-8cca-2d0e9efb2c7d',\n",
              "                        [{\"labels\": [\"ham\", \"spam\"], \"pull\": [0, 0.2], \"type\": \"pie\", \"values\": [4825, 747]}],\n",
              "                        {\"template\": {\"data\": {\"bar\": [{\"error_x\": {\"color\": \"#2a3f5f\"}, \"error_y\": {\"color\": \"#2a3f5f\"}, \"marker\": {\"line\": {\"color\": \"#E5ECF6\", \"width\": 0.5}}, \"type\": \"bar\"}], \"barpolar\": [{\"marker\": {\"line\": {\"color\": \"#E5ECF6\", \"width\": 0.5}}, \"type\": \"barpolar\"}], \"carpet\": [{\"aaxis\": {\"endlinecolor\": \"#2a3f5f\", \"gridcolor\": \"white\", \"linecolor\": \"white\", \"minorgridcolor\": \"white\", \"startlinecolor\": \"#2a3f5f\"}, \"baxis\": {\"endlinecolor\": \"#2a3f5f\", \"gridcolor\": \"white\", \"linecolor\": \"white\", \"minorgridcolor\": \"white\", \"startlinecolor\": \"#2a3f5f\"}, \"type\": \"carpet\"}], \"choropleth\": [{\"colorbar\": {\"outlinewidth\": 0, \"ticks\": \"\"}, \"type\": \"choropleth\"}], \"contour\": [{\"colorbar\": {\"outlinewidth\": 0, \"ticks\": \"\"}, \"colorscale\": [[0.0, \"#0d0887\"], [0.1111111111111111, \"#46039f\"], [0.2222222222222222, \"#7201a8\"], [0.3333333333333333, \"#9c179e\"], [0.4444444444444444, \"#bd3786\"], [0.5555555555555556, \"#d8576b\"], [0.6666666666666666, \"#ed7953\"], [0.7777777777777778, \"#fb9f3a\"], [0.8888888888888888, \"#fdca26\"], [1.0, \"#f0f921\"]], \"type\": \"contour\"}], \"contourcarpet\": [{\"colorbar\": {\"outlinewidth\": 0, \"ticks\": \"\"}, \"type\": \"contourcarpet\"}], \"heatmap\": [{\"colorbar\": {\"outlinewidth\": 0, \"ticks\": \"\"}, \"colorscale\": [[0.0, \"#0d0887\"], [0.1111111111111111, \"#46039f\"], [0.2222222222222222, \"#7201a8\"], [0.3333333333333333, \"#9c179e\"], [0.4444444444444444, \"#bd3786\"], [0.5555555555555556, \"#d8576b\"], [0.6666666666666666, \"#ed7953\"], [0.7777777777777778, \"#fb9f3a\"], [0.8888888888888888, \"#fdca26\"], [1.0, \"#f0f921\"]], \"type\": \"heatmap\"}], \"heatmapgl\": [{\"colorbar\": {\"outlinewidth\": 0, \"ticks\": \"\"}, \"colorscale\": [[0.0, \"#0d0887\"], [0.1111111111111111, \"#46039f\"], [0.2222222222222222, \"#7201a8\"], [0.3333333333333333, \"#9c179e\"], [0.4444444444444444, \"#bd3786\"], [0.5555555555555556, \"#d8576b\"], [0.6666666666666666, \"#ed7953\"], [0.7777777777777778, \"#fb9f3a\"], [0.8888888888888888, \"#fdca26\"], [1.0, \"#f0f921\"]], \"type\": \"heatmapgl\"}], \"histogram\": [{\"marker\": {\"colorbar\": {\"outlinewidth\": 0, \"ticks\": \"\"}}, \"type\": \"histogram\"}], \"histogram2d\": [{\"colorbar\": {\"outlinewidth\": 0, \"ticks\": \"\"}, \"colorscale\": [[0.0, \"#0d0887\"], [0.1111111111111111, \"#46039f\"], [0.2222222222222222, \"#7201a8\"], [0.3333333333333333, \"#9c179e\"], [0.4444444444444444, \"#bd3786\"], [0.5555555555555556, \"#d8576b\"], [0.6666666666666666, \"#ed7953\"], [0.7777777777777778, \"#fb9f3a\"], [0.8888888888888888, \"#fdca26\"], [1.0, \"#f0f921\"]], \"type\": \"histogram2d\"}], \"histogram2dcontour\": [{\"colorbar\": {\"outlinewidth\": 0, \"ticks\": \"\"}, \"colorscale\": [[0.0, \"#0d0887\"], [0.1111111111111111, \"#46039f\"], [0.2222222222222222, \"#7201a8\"], [0.3333333333333333, \"#9c179e\"], [0.4444444444444444, \"#bd3786\"], [0.5555555555555556, \"#d8576b\"], [0.6666666666666666, \"#ed7953\"], [0.7777777777777778, \"#fb9f3a\"], [0.8888888888888888, \"#fdca26\"], [1.0, \"#f0f921\"]], \"type\": \"histogram2dcontour\"}], \"mesh3d\": [{\"colorbar\": {\"outlinewidth\": 0, \"ticks\": \"\"}, \"type\": \"mesh3d\"}], \"parcoords\": [{\"line\": {\"colorbar\": {\"outlinewidth\": 0, \"ticks\": \"\"}}, \"type\": \"parcoords\"}], \"pie\": [{\"automargin\": true, \"type\": \"pie\"}], \"scatter\": [{\"marker\": {\"colorbar\": {\"outlinewidth\": 0, \"ticks\": \"\"}}, \"type\": \"scatter\"}], \"scatter3d\": [{\"line\": {\"colorbar\": {\"outlinewidth\": 0, \"ticks\": \"\"}}, \"marker\": {\"colorbar\": {\"outlinewidth\": 0, \"ticks\": \"\"}}, \"type\": \"scatter3d\"}], \"scattercarpet\": [{\"marker\": {\"colorbar\": {\"outlinewidth\": 0, \"ticks\": \"\"}}, \"type\": \"scattercarpet\"}], \"scattergeo\": [{\"marker\": {\"colorbar\": {\"outlinewidth\": 0, \"ticks\": \"\"}}, \"type\": \"scattergeo\"}], \"scattergl\": [{\"marker\": {\"colorbar\": {\"outlinewidth\": 0, \"ticks\": \"\"}}, \"type\": \"scattergl\"}], \"scattermapbox\": [{\"marker\": {\"colorbar\": {\"outlinewidth\": 0, \"ticks\": \"\"}}, \"type\": \"scattermapbox\"}], \"scatterpolar\": [{\"marker\": {\"colorbar\": {\"outlinewidth\": 0, \"ticks\": \"\"}}, \"type\": \"scatterpolar\"}], \"scatterpolargl\": [{\"marker\": {\"colorbar\": {\"outlinewidth\": 0, \"ticks\": \"\"}}, \"type\": \"scatterpolargl\"}], \"scatterternary\": [{\"marker\": {\"colorbar\": {\"outlinewidth\": 0, \"ticks\": \"\"}}, \"type\": \"scatterternary\"}], \"surface\": [{\"colorbar\": {\"outlinewidth\": 0, \"ticks\": \"\"}, \"colorscale\": [[0.0, \"#0d0887\"], [0.1111111111111111, \"#46039f\"], [0.2222222222222222, \"#7201a8\"], [0.3333333333333333, \"#9c179e\"], [0.4444444444444444, \"#bd3786\"], [0.5555555555555556, \"#d8576b\"], [0.6666666666666666, \"#ed7953\"], [0.7777777777777778, \"#fb9f3a\"], [0.8888888888888888, \"#fdca26\"], [1.0, \"#f0f921\"]], \"type\": \"surface\"}], \"table\": [{\"cells\": {\"fill\": {\"color\": \"#EBF0F8\"}, \"line\": {\"color\": \"white\"}}, \"header\": {\"fill\": {\"color\": \"#C8D4E3\"}, \"line\": {\"color\": \"white\"}}, \"type\": \"table\"}]}, \"layout\": {\"annotationdefaults\": {\"arrowcolor\": \"#2a3f5f\", \"arrowhead\": 0, \"arrowwidth\": 1}, \"coloraxis\": {\"colorbar\": {\"outlinewidth\": 0, \"ticks\": \"\"}}, \"colorscale\": {\"diverging\": [[0, \"#8e0152\"], [0.1, \"#c51b7d\"], [0.2, \"#de77ae\"], [0.3, \"#f1b6da\"], [0.4, \"#fde0ef\"], [0.5, \"#f7f7f7\"], [0.6, \"#e6f5d0\"], [0.7, \"#b8e186\"], [0.8, \"#7fbc41\"], [0.9, \"#4d9221\"], [1, \"#276419\"]], \"sequential\": [[0.0, \"#0d0887\"], [0.1111111111111111, \"#46039f\"], [0.2222222222222222, \"#7201a8\"], [0.3333333333333333, \"#9c179e\"], [0.4444444444444444, \"#bd3786\"], [0.5555555555555556, \"#d8576b\"], [0.6666666666666666, \"#ed7953\"], [0.7777777777777778, \"#fb9f3a\"], [0.8888888888888888, \"#fdca26\"], [1.0, \"#f0f921\"]], \"sequentialminus\": [[0.0, \"#0d0887\"], [0.1111111111111111, \"#46039f\"], [0.2222222222222222, \"#7201a8\"], [0.3333333333333333, \"#9c179e\"], [0.4444444444444444, \"#bd3786\"], [0.5555555555555556, \"#d8576b\"], [0.6666666666666666, \"#ed7953\"], [0.7777777777777778, \"#fb9f3a\"], [0.8888888888888888, \"#fdca26\"], [1.0, \"#f0f921\"]]}, \"colorway\": [\"#636efa\", \"#EF553B\", \"#00cc96\", \"#ab63fa\", \"#FFA15A\", \"#19d3f3\", \"#FF6692\", \"#B6E880\", \"#FF97FF\", \"#FECB52\"], \"font\": {\"color\": \"#2a3f5f\"}, \"geo\": {\"bgcolor\": \"white\", \"lakecolor\": \"white\", \"landcolor\": \"#E5ECF6\", \"showlakes\": true, \"showland\": true, \"subunitcolor\": \"white\"}, \"hoverlabel\": {\"align\": \"left\"}, \"hovermode\": \"closest\", \"mapbox\": {\"style\": \"light\"}, \"paper_bgcolor\": \"white\", \"plot_bgcolor\": \"#E5ECF6\", \"polar\": {\"angularaxis\": {\"gridcolor\": \"white\", \"linecolor\": \"white\", \"ticks\": \"\"}, \"bgcolor\": \"#E5ECF6\", \"radialaxis\": {\"gridcolor\": \"white\", \"linecolor\": \"white\", \"ticks\": \"\"}}, \"scene\": {\"xaxis\": {\"backgroundcolor\": \"#E5ECF6\", \"gridcolor\": \"white\", \"gridwidth\": 2, \"linecolor\": \"white\", \"showbackground\": true, \"ticks\": \"\", \"zerolinecolor\": \"white\"}, \"yaxis\": {\"backgroundcolor\": \"#E5ECF6\", \"gridcolor\": \"white\", \"gridwidth\": 2, \"linecolor\": \"white\", \"showbackground\": true, \"ticks\": \"\", \"zerolinecolor\": \"white\"}, \"zaxis\": {\"backgroundcolor\": \"#E5ECF6\", \"gridcolor\": \"white\", \"gridwidth\": 2, \"linecolor\": \"white\", \"showbackground\": true, \"ticks\": \"\", \"zerolinecolor\": \"white\"}}, \"shapedefaults\": {\"line\": {\"color\": \"#2a3f5f\"}}, \"ternary\": {\"aaxis\": {\"gridcolor\": \"white\", \"linecolor\": \"white\", \"ticks\": \"\"}, \"baxis\": {\"gridcolor\": \"white\", \"linecolor\": \"white\", \"ticks\": \"\"}, \"bgcolor\": \"#E5ECF6\", \"caxis\": {\"gridcolor\": \"white\", \"linecolor\": \"white\", \"ticks\": \"\"}}, \"title\": {\"x\": 0.05}, \"xaxis\": {\"automargin\": true, \"gridcolor\": \"white\", \"linecolor\": \"white\", \"ticks\": \"\", \"title\": {\"standoff\": 15}, \"zerolinecolor\": \"white\", \"zerolinewidth\": 2}, \"yaxis\": {\"automargin\": true, \"gridcolor\": \"white\", \"linecolor\": \"white\", \"ticks\": \"\", \"title\": {\"standoff\": 15}, \"zerolinecolor\": \"white\", \"zerolinewidth\": 2}}}, \"title\": {\"text\": \"Spam Ham Distribution\"}},\n",
              "                        {\"responsive\": true}\n",
              "                    ).then(function(){\n",
              "                            \n",
              "var gd = document.getElementById('00b29d57-bdea-4c63-8cca-2d0e9efb2c7d');\n",
              "var x = new MutationObserver(function (mutations, observer) {{\n",
              "        var display = window.getComputedStyle(gd).display;\n",
              "        if (!display || display === 'none') {{\n",
              "            console.log([gd, 'removed!']);\n",
              "            Plotly.purge(gd);\n",
              "            observer.disconnect();\n",
              "        }}\n",
              "}});\n",
              "\n",
              "// Listen for the removal of the full notebook cells\n",
              "var notebookContainer = gd.closest('#notebook-container');\n",
              "if (notebookContainer) {{\n",
              "    x.observe(notebookContainer, {childList: true});\n",
              "}}\n",
              "\n",
              "// Listen for the clearing of the current output cell\n",
              "var outputEl = gd.closest('.output');\n",
              "if (outputEl) {{\n",
              "    x.observe(outputEl, {childList: true});\n",
              "}}\n",
              "\n",
              "                        })\n",
              "                };\n",
              "                \n",
              "            </script>\n",
              "        </div>\n",
              "</body>\n",
              "</html>"
            ]
          },
          "metadata": {
            "tags": []
          }
        }
      ]
    },
    {
      "cell_type": "markdown",
      "metadata": {
        "id": "1VZ4Q-WmQVgS",
        "colab_type": "text"
      },
      "source": [
        "<a id='item4'></a>"
      ]
    },
    {
      "cell_type": "markdown",
      "metadata": {
        "id": "OsXUIx3vQPP2",
        "colab_type": "text"
      },
      "source": [
        "##4.Data Preprocessing"
      ]
    },
    {
      "cell_type": "markdown",
      "metadata": {
        "id": "QrMpp54xYHnh",
        "colab_type": "text"
      },
      "source": [
        "Lets clean the text"
      ]
    },
    {
      "cell_type": "code",
      "metadata": {
        "id": "c7A8SsJXcn55",
        "colab_type": "code",
        "colab": {}
      },
      "source": [
        "def cleanText(text):\n",
        "  ''' lower the text, remove links, remove words containing numbers, remove emojis,remove punctuation, remove stopwords'''\n",
        "  text = text.lower()\n",
        "  text = re.sub('https:\\S+',\"\",text)\n",
        "  text = re.sub('\\w*\\d\\w*', '', text)\n",
        "  emoji_pattern = re.compile(\"[\"\n",
        "                               u\"\\U0001F600-\\U0001F64F\"  # emoticons\n",
        "                               u\"\\U0001F300-\\U0001F5FF\"  # symbols & pictographs\n",
        "                               u\"\\U0001F680-\\U0001F6FF\"  # transport & map symbols\n",
        "                               u\"\\U0001F1E0-\\U0001F1FF\"  # flags (iOS)\n",
        "                               u\"\\U00002702-\\U000027B0\"\n",
        "                               u\"\\U000024C2-\\U0001F251\"\n",
        "                               \"]+\", flags=re.UNICODE)\n",
        "  text =  emoji_pattern.sub(r'', text)\n",
        "  text = ''.join([char for char in text if char not in string.punctuation +'£'])\n",
        "  return  ' '.join([word for word in text.split() if word not in set(stopwords.words('english')+ ['u','å', 'ü', 'ur', '4', '2', 'im', 'dont', 'doin', 'ure','£'])])\n"
      ],
      "execution_count": 0,
      "outputs": []
    },
    {
      "cell_type": "code",
      "metadata": {
        "id": "SGdEiqvSjt7t",
        "colab_type": "code",
        "colab": {}
      },
      "source": [
        "df['clean_text'] = df['text'].apply(cleanText)"
      ],
      "execution_count": 0,
      "outputs": []
    },
    {
      "cell_type": "code",
      "metadata": {
        "id": "cII3Tk2GuBkl",
        "colab_type": "code",
        "outputId": "7e34f946-1da2-47c5-c050-85d70e9b1b17",
        "colab": {
          "base_uri": "https://localhost:8080/",
          "height": 195
        }
      },
      "source": [
        "df.head()"
      ],
      "execution_count": 205,
      "outputs": [
        {
          "output_type": "execute_result",
          "data": {
            "text/html": [
              "<div>\n",
              "<style scoped>\n",
              "    .dataframe tbody tr th:only-of-type {\n",
              "        vertical-align: middle;\n",
              "    }\n",
              "\n",
              "    .dataframe tbody tr th {\n",
              "        vertical-align: top;\n",
              "    }\n",
              "\n",
              "    .dataframe thead th {\n",
              "        text-align: right;\n",
              "    }\n",
              "</style>\n",
              "<table border=\"1\" class=\"dataframe\">\n",
              "  <thead>\n",
              "    <tr style=\"text-align: right;\">\n",
              "      <th></th>\n",
              "      <th>label</th>\n",
              "      <th>text</th>\n",
              "      <th>label_num</th>\n",
              "      <th>clean_text</th>\n",
              "    </tr>\n",
              "  </thead>\n",
              "  <tbody>\n",
              "    <tr>\n",
              "      <th>0</th>\n",
              "      <td>ham</td>\n",
              "      <td>Go until jurong point, crazy.. Available only ...</td>\n",
              "      <td>0</td>\n",
              "      <td>go jurong point crazy available bugis n great ...</td>\n",
              "    </tr>\n",
              "    <tr>\n",
              "      <th>1</th>\n",
              "      <td>ham</td>\n",
              "      <td>Ok lar... Joking wif u oni...</td>\n",
              "      <td>0</td>\n",
              "      <td>ok lar joking wif oni</td>\n",
              "    </tr>\n",
              "    <tr>\n",
              "      <th>2</th>\n",
              "      <td>spam</td>\n",
              "      <td>Free entry in 2 a wkly comp to win FA Cup fina...</td>\n",
              "      <td>1</td>\n",
              "      <td>free entry wkly comp win fa cup final tkts may...</td>\n",
              "    </tr>\n",
              "    <tr>\n",
              "      <th>3</th>\n",
              "      <td>ham</td>\n",
              "      <td>U dun say so early hor... U c already then say...</td>\n",
              "      <td>0</td>\n",
              "      <td>dun say early hor c already say</td>\n",
              "    </tr>\n",
              "    <tr>\n",
              "      <th>4</th>\n",
              "      <td>ham</td>\n",
              "      <td>Nah I don't think he goes to usf, he lives aro...</td>\n",
              "      <td>0</td>\n",
              "      <td>nah think goes usf lives around though</td>\n",
              "    </tr>\n",
              "  </tbody>\n",
              "</table>\n",
              "</div>"
            ],
            "text/plain": [
              "  label                                               text  label_num                                         clean_text\n",
              "0   ham  Go until jurong point, crazy.. Available only ...          0  go jurong point crazy available bugis n great ...\n",
              "1   ham                   Ok lar... Joking wif u oni...             0                              ok lar joking wif oni\n",
              "2  spam  Free entry in 2 a wkly comp to win FA Cup fina...          1  free entry wkly comp win fa cup final tkts may...\n",
              "3   ham  U dun say so early hor... U c already then say...          0                    dun say early hor c already say\n",
              "4   ham  Nah I don't think he goes to usf, he lives aro...          0             nah think goes usf lives around though"
            ]
          },
          "metadata": {
            "tags": []
          },
          "execution_count": 205
        }
      ]
    },
    {
      "cell_type": "markdown",
      "metadata": {
        "id": "8S5bB8U4uIE6",
        "colab_type": "text"
      },
      "source": [
        "Lets add metafeatures"
      ]
    },
    {
      "cell_type": "code",
      "metadata": {
        "id": "xbJPqkrHujbJ",
        "colab_type": "code",
        "colab": {}
      },
      "source": [
        "df['text_len'] = df['clean_text'].apply(len)"
      ],
      "execution_count": 0,
      "outputs": []
    },
    {
      "cell_type": "code",
      "metadata": {
        "id": "rBeG1mP4u79l",
        "colab_type": "code",
        "outputId": "fdac4098-f870-4da9-cf56-53682b4b3014",
        "colab": {
          "base_uri": "https://localhost:8080/",
          "height": 195
        }
      },
      "source": [
        "df.head()"
      ],
      "execution_count": 207,
      "outputs": [
        {
          "output_type": "execute_result",
          "data": {
            "text/html": [
              "<div>\n",
              "<style scoped>\n",
              "    .dataframe tbody tr th:only-of-type {\n",
              "        vertical-align: middle;\n",
              "    }\n",
              "\n",
              "    .dataframe tbody tr th {\n",
              "        vertical-align: top;\n",
              "    }\n",
              "\n",
              "    .dataframe thead th {\n",
              "        text-align: right;\n",
              "    }\n",
              "</style>\n",
              "<table border=\"1\" class=\"dataframe\">\n",
              "  <thead>\n",
              "    <tr style=\"text-align: right;\">\n",
              "      <th></th>\n",
              "      <th>label</th>\n",
              "      <th>text</th>\n",
              "      <th>label_num</th>\n",
              "      <th>clean_text</th>\n",
              "      <th>text_len</th>\n",
              "    </tr>\n",
              "  </thead>\n",
              "  <tbody>\n",
              "    <tr>\n",
              "      <th>0</th>\n",
              "      <td>ham</td>\n",
              "      <td>Go until jurong point, crazy.. Available only ...</td>\n",
              "      <td>0</td>\n",
              "      <td>go jurong point crazy available bugis n great ...</td>\n",
              "      <td>82</td>\n",
              "    </tr>\n",
              "    <tr>\n",
              "      <th>1</th>\n",
              "      <td>ham</td>\n",
              "      <td>Ok lar... Joking wif u oni...</td>\n",
              "      <td>0</td>\n",
              "      <td>ok lar joking wif oni</td>\n",
              "      <td>21</td>\n",
              "    </tr>\n",
              "    <tr>\n",
              "      <th>2</th>\n",
              "      <td>spam</td>\n",
              "      <td>Free entry in 2 a wkly comp to win FA Cup fina...</td>\n",
              "      <td>1</td>\n",
              "      <td>free entry wkly comp win fa cup final tkts may...</td>\n",
              "      <td>98</td>\n",
              "    </tr>\n",
              "    <tr>\n",
              "      <th>3</th>\n",
              "      <td>ham</td>\n",
              "      <td>U dun say so early hor... U c already then say...</td>\n",
              "      <td>0</td>\n",
              "      <td>dun say early hor c already say</td>\n",
              "      <td>31</td>\n",
              "    </tr>\n",
              "    <tr>\n",
              "      <th>4</th>\n",
              "      <td>ham</td>\n",
              "      <td>Nah I don't think he goes to usf, he lives aro...</td>\n",
              "      <td>0</td>\n",
              "      <td>nah think goes usf lives around though</td>\n",
              "      <td>38</td>\n",
              "    </tr>\n",
              "  </tbody>\n",
              "</table>\n",
              "</div>"
            ],
            "text/plain": [
              "  label                                               text  label_num                                         clean_text  text_len\n",
              "0   ham  Go until jurong point, crazy.. Available only ...          0  go jurong point crazy available bugis n great ...        82\n",
              "1   ham                   Ok lar... Joking wif u oni...             0                              ok lar joking wif oni        21\n",
              "2  spam  Free entry in 2 a wkly comp to win FA Cup fina...          1  free entry wkly comp win fa cup final tkts may...        98\n",
              "3   ham  U dun say so early hor... U c already then say...          0                    dun say early hor c already say        31\n",
              "4   ham  Nah I don't think he goes to usf, he lives aro...          0             nah think goes usf lives around though        38"
            ]
          },
          "metadata": {
            "tags": []
          },
          "execution_count": 207
        }
      ]
    },
    {
      "cell_type": "code",
      "metadata": {
        "id": "CWjkFYKyvDFM",
        "colab_type": "code",
        "outputId": "39a3677c-4587-4ffc-ad0b-518de484de0f",
        "colab": {
          "base_uri": "https://localhost:8080/",
          "height": 542
        }
      },
      "source": [
        "\n",
        "fig = px.histogram(df,x='text_len',y='label',color='label')\n",
        "fig.show()"
      ],
      "execution_count": 208,
      "outputs": [
        {
          "output_type": "display_data",
          "data": {
            "text/html": [
              "<html>\n",
              "<head><meta charset=\"utf-8\" /></head>\n",
              "<body>\n",
              "    <div>\n",
              "            <script src=\"https://cdnjs.cloudflare.com/ajax/libs/mathjax/2.7.5/MathJax.js?config=TeX-AMS-MML_SVG\"></script><script type=\"text/javascript\">if (window.MathJax) {MathJax.Hub.Config({SVG: {font: \"STIX-Web\"}});}</script>\n",
              "                <script type=\"text/javascript\">window.PlotlyConfig = {MathJaxConfig: 'local'};</script>\n",
              "        <script src=\"https://cdn.plot.ly/plotly-latest.min.js\"></script>    \n",
              "            <div id=\"33f887c4-fa59-4f44-aadf-d1fc9f5332dd\" class=\"plotly-graph-div\" style=\"height:525px; width:100%;\"></div>\n",
              "            <script type=\"text/javascript\">\n",
              "                \n",
              "                    window.PLOTLYENV=window.PLOTLYENV || {};\n",
              "                    \n",
              "                if (document.getElementById(\"33f887c4-fa59-4f44-aadf-d1fc9f5332dd\")) {\n",
              "                    Plotly.newPlot(\n",
              "                        '33f887c4-fa59-4f44-aadf-d1fc9f5332dd',\n",
              "                        [{\"alignmentgroup\": \"True\", \"bingroup\": \"x\", \"hoverlabel\": {\"namelength\": 0}, \"hovertemplate\": \"label=ham<br>text_len=%{x}<br>count of label=%{y}\", \"legendgroup\": \"label=ham\", \"marker\": {\"color\": \"#636efa\"}, \"name\": \"label=ham\", \"offsetgroup\": \"label=ham\", \"orientation\": \"v\", \"showlegend\": true, \"type\": \"histogram\", \"x\": [82, 21, 31, 38, 46, 111, 72, 111, 11, 15, 47, 40, 20, 35, 30, 61, 34, 87, 21, 63, 45, 40, 65, 91, 15, 35, 62, 32, 16, 19, 84, 51, 65, 6, 44, 25, 36, 26, 52, 94, 28, 89, 62, 153, 44, 28, 12, 26, 54, 42, 16, 36, 87, 69, 20, 28, 14, 31, 24, 4, 24, 42, 24, 12, 31, 20, 9, 17, 9, 13, 28, 64, 93, 25, 33, 53, 107, 111, 85, 28, 26, 111, 36, 48, 43, 111, 128, 33, 65, 22, 64, 66, 20, 20, 15, 64, 100, 90, 59, 60, 34, 23, 37, 10, 122, 4, 70, 15, 4, 31, 21, 23, 9, 28, 51, 16, 16, 113, 18, 14, 32, 57, 18, 24, 21, 41, 16, 111, 208, 16, 13, 65, 56, 35, 33, 38, 55, 46, 41, 39, 67, 17, 71, 37, 41, 16, 87, 30, 74, 92, 9, 34, 10, 22, 89, 19, 24, 61, 106, 27, 60, 45, 26, 17, 37, 68, 14, 15, 58, 120, 23, 13, 53, 90, 27, 55, 25, 46, 16, 16, 13, 17, 45, 35, 34, 15, 74, 17, 104, 20, 88, 46, 29, 124, 17, 80, 23, 23, 38, 29, 38, 17, 89, 39, 42, 40, 111, 23, 32, 13, 23, 81, 35, 136, 8, 87, 27, 46, 29, 10, 41, 3, 55, 19, 12, 22, 30, 26, 35, 103, 29, 19, 5, 24, 19, 19, 39, 15, 80, 18, 4, 82, 37, 2, 88, 75, 125, 24, 38, 12, 9, 42, 42, 88, 38, 50, 64, 100, 39, 16, 19, 17, 54, 27, 123, 68, 75, 18, 22, 89, 26, 17, 35, 29, 75, 102, 7, 25, 21, 59, 22, 39, 17, 54, 125, 24, 28, 19, 20, 29, 24, 82, 15, 15, 45, 23, 59, 26, 48, 30, 33, 93, 78, 32, 140, 112, 49, 31, 10, 26, 59, 91, 29, 15, 21, 59, 14, 28, 87, 10, 34, 93, 24, 91, 178, 42, 28, 16, 17, 19, 16, 28, 18, 38, 10, 58, 20, 72, 72, 133, 151, 91, 16, 18, 35, 56, 46, 116, 43, 22, 134, 33, 14, 71, 16, 18, 16, 34, 34, 15, 167, 17, 15, 25, 46, 108, 20, 57, 20, 52, 51, 49, 27, 50, 17, 77, 16, 34, 20, 105, 49, 53, 48, 24, 11, 12, 26, 37, 55, 37, 80, 101, 56, 92, 23, 51, 27, 14, 106, 37, 15, 33, 26, 28, 194, 65, 38, 18, 31, 25, 52, 14, 48, 15, 37, 36, 25, 27, 65, 33, 82, 30, 18, 16, 7, 39, 27, 29, 16, 86, 6, 17, 23, 81, 50, 96, 18, 83, 50, 34, 15, 16, 15, 110, 79, 31, 21, 18, 17, 42, 27, 27, 32, 23, 8, 89, 98, 35, 43, 74, 30, 112, 38, 26, 74, 7, 82, 19, 13, 65, 142, 39, 83, 94, 99, 59, 18, 24, 29, 102, 18, 22, 29, 75, 73, 27, 75, 51, 15, 93, 21, 9, 12, 22, 32, 22, 103, 32, 26, 34, 62, 37, 69, 43, 22, 18, 16, 96, 5, 22, 48, 25, 68, 35, 17, 15, 13, 25, 55, 12, 43, 93, 15, 66, 33, 94, 110, 16, 41, 67, 27, 44, 65, 30, 82, 37, 38, 67, 24, 5, 33, 49, 7, 54, 36, 11, 26, 59, 88, 28, 22, 82, 61, 35, 15, 53, 69, 38, 14, 17, 35, 107, 9, 57, 54, 11, 47, 27, 35, 48, 30, 21, 17, 11, 33, 85, 27, 17, 52, 44, 16, 71, 22, 10, 16, 59, 17, 85, 136, 22, 9, 47, 45, 39, 65, 32, 36, 51, 23, 21, 20, 20, 50, 58, 47, 42, 15, 38, 207, 108, 63, 29, 19, 56, 102, 15, 18, 16, 21, 134, 48, 74, 30, 39, 9, 29, 45, 78, 79, 11, 32, 4, 100, 13, 39, 95, 15, 33, 26, 68, 52, 31, 17, 11, 47, 11, 37, 110, 16, 59, 83, 106, 49, 69, 20, 38, 101, 33, 53, 36, 26, 19, 20, 78, 72, 93, 14, 83, 41, 7, 41, 44, 65, 26, 89, 18, 47, 42, 62, 29, 59, 18, 22, 37, 5, 8, 36, 22, 30, 22, 14, 61, 13, 27, 59, 27, 10, 99, 95, 13, 17, 25, 20, 12, 74, 60, 94, 132, 19, 42, 219, 53, 39, 57, 12, 151, 58, 37, 78, 46, 34, 31, 101, 49, 15, 83, 11, 24, 14, 14, 65, 33, 38, 88, 62, 87, 15, 43, 73, 25, 180, 50, 11, 57, 23, 22, 51, 20, 32, 12, 23, 51, 60, 61, 86, 23, 78, 40, 95, 14, 45, 29, 50, 34, 47, 24, 69, 10, 92, 34, 20, 44, 46, 91, 55, 17, 8, 34, 29, 61, 64, 35, 52, 23, 10, 74, 75, 19, 38, 18, 24, 13, 85, 81, 48, 75, 145, 27, 88, 18, 14, 40, 18, 102, 33, 69, 81, 23, 62, 0, 24, 61, 67, 9, 36, 30, 122, 25, 27, 72, 21, 25, 14, 19, 87, 13, 95, 22, 41, 55, 38, 27, 16, 32, 20, 80, 93, 36, 4, 70, 42, 93, 11, 27, 35, 65, 66, 18, 19, 77, 23, 17, 20, 66, 52, 78, 56, 25, 26, 38, 29, 100, 22, 35, 14, 153, 13, 18, 36, 26, 17, 21, 32, 18, 39, 14, 18, 77, 66, 88, 23, 105, 91, 21, 36, 17, 34, 59, 10, 65, 53, 21, 37, 91, 41, 111, 16, 9, 12, 48, 55, 95, 62, 26, 16, 21, 36, 18, 38, 89, 31, 74, 32, 20, 14, 43, 35, 18, 17, 72, 511, 110, 19, 13, 38, 55, 9, 115, 31, 21, 98, 38, 63, 31, 77, 32, 49, 21, 88, 79, 51, 22, 19, 34, 22, 27, 46, 41, 38, 49, 33, 28, 21, 27, 42, 79, 36, 20, 20, 21, 90, 44, 21, 8, 7, 134, 31, 45, 31, 80, 9, 28, 48, 9, 18, 20, 17, 44, 71, 53, 87, 23, 32, 25, 6, 89, 41, 17, 10, 19, 40, 100, 42, 22, 19, 28, 95, 98, 14, 48, 15, 17, 16, 31, 19, 22, 13, 31, 44, 44, 31, 4, 43, 65, 7, 30, 29, 84, 101, 33, 11, 48, 41, 84, 16, 19, 15, 18, 22, 35, 72, 38, 63, 40, 34, 67, 12, 26, 37, 44, 34, 25, 47, 24, 19, 23, 92, 83, 12, 20, 42, 48, 30, 31, 35, 23, 17, 36, 51, 34, 106, 28, 74, 57, 53, 11, 35, 27, 12, 17, 74, 48, 110, 30, 13, 120, 90, 32, 30, 52, 74, 2, 46, 10, 3, 24, 24, 47, 31, 25, 105, 18, 15, 21, 112, 60, 14, 38, 46, 52, 109, 35, 37, 18, 35, 12, 26, 47, 93, 26, 91, 38, 32, 46, 35, 21, 55, 45, 55, 22, 89, 113, 28, 2, 18, 29, 33, 15, 50, 77, 29, 18, 28, 36, 22, 25, 23, 26, 92, 108, 50, 26, 44, 34, 13, 66, 31, 120, 24, 39, 47, 16, 41, 18, 26, 72, 50, 37, 14, 52, 98, 88, 194, 30, 40, 11, 125, 64, 25, 81, 26, 23, 34, 51, 92, 17, 33, 19, 15, 89, 48, 147, 183, 73, 17, 92, 32, 90, 81, 29, 55, 5, 30, 42, 16, 26, 26, 102, 50, 78, 102, 33, 34, 19, 5, 33, 6, 25, 90, 136, 30, 51, 31, 54, 18, 40, 23, 9, 24, 15, 24, 2, 107, 104, 62, 85, 26, 32, 33, 14, 75, 53, 26, 48, 90, 18, 15, 19, 17, 105, 72, 3, 16, 40, 21, 18, 39, 74, 86, 129, 42, 76, 93, 120, 21, 84, 28, 43, 35, 46, 84, 54, 48, 17, 43, 98, 18, 22, 2, 94, 20, 55, 76, 19, 30, 14, 109, 42, 34, 74, 42, 82, 22, 130, 28, 12, 11, 18, 54, 136, 48, 70, 43, 62, 240, 26, 17, 21, 30, 27, 35, 17, 76, 12, 14, 22, 73, 24, 21, 32, 26, 27, 81, 20, 12, 61, 40, 17, 62, 27, 165, 19, 36, 75, 25, 55, 7, 38, 50, 26, 0, 19, 16, 54, 66, 5, 43, 79, 56, 51, 38, 32, 20, 63, 4, 22, 123, 16, 42, 32, 68, 36, 31, 102, 374, 28, 41, 49, 30, 39, 20, 175, 45, 91, 20, 53, 96, 22, 32, 113, 31, 20, 35, 13, 78, 21, 53, 97, 11, 22, 69, 66, 22, 26, 0, 14, 42, 10, 80, 18, 76, 20, 68, 93, 33, 79, 7, 28, 60, 22, 47, 97, 20, 93, 92, 33, 20, 49, 24, 18, 15, 14, 27, 80, 101, 11, 49, 48, 79, 49, 8, 58, 40, 17, 18, 46, 11, 8, 80, 47, 44, 11, 102, 8, 14, 21, 91, 22, 14, 98, 69, 12, 3, 74, 33, 18, 31, 26, 19, 23, 71, 54, 54, 51, 51, 30, 2, 28, 54, 16, 18, 89, 59, 48, 37, 72, 40, 45, 21, 40, 8, 34, 60, 35, 45, 86, 110, 55, 108, 9, 29, 92, 19, 87, 20, 19, 42, 16, 22, 13, 16, 38, 25, 26, 34, 103, 19, 105, 50, 18, 103, 15, 22, 67, 27, 34, 31, 24, 33, 31, 10, 66, 31, 163, 122, 45, 67, 14, 39, 63, 34, 23, 98, 20, 24, 19, 84, 15, 39, 44, 91, 20, 76, 17, 16, 32, 48, 97, 23, 17, 88, 71, 27, 28, 8, 82, 17, 22, 14, 15, 34, 26, 76, 23, 16, 56, 89, 12, 35, 49, 26, 18, 17, 26, 57, 76, 26, 44, 18, 72, 182, 63, 18, 17, 45, 15, 4, 38, 9, 9, 12, 122, 47, 9, 16, 31, 29, 46, 60, 31, 43, 40, 36, 45, 65, 30, 105, 69, 16, 22, 44, 28, 407, 18, 17, 65, 25, 99, 48, 14, 19, 41, 38, 23, 49, 18, 35, 20, 15, 60, 26, 39, 36, 24, 58, 31, 25, 18, 85, 27, 23, 17, 47, 20, 31, 43, 30, 58, 12, 74, 22, 70, 70, 54, 7, 19, 26, 41, 28, 90, 15, 23, 35, 50, 2, 47, 74, 21, 16, 17, 25, 12, 14, 37, 55, 66, 35, 84, 26, 70, 49, 30, 42, 34, 38, 22, 29, 32, 24, 39, 22, 47, 26, 54, 53, 18, 25, 41, 120, 40, 39, 38, 38, 6, 21, 82, 26, 14, 26, 24, 35, 27, 20, 70, 34, 108, 77, 22, 25, 20, 33, 74, 73, 29, 18, 21, 20, 106, 58, 28, 38, 28, 55, 38, 49, 43, 32, 28, 219, 38, 208, 103, 40, 59, 29, 30, 11, 25, 41, 57, 43, 17, 47, 37, 60, 24, 22, 44, 42, 33, 15, 26, 36, 30, 15, 23, 66, 25, 32, 20, 13, 39, 24, 23, 8, 23, 15, 48, 70, 28, 16, 32, 31, 22, 37, 28, 51, 17, 204, 47, 11, 22, 60, 37, 15, 51, 47, 15, 94, 14, 11, 25, 10, 50, 19, 24, 19, 93, 226, 31, 32, 81, 18, 4, 17, 57, 42, 29, 24, 55, 81, 15, 15, 90, 19, 20, 105, 29, 71, 14, 47, 19, 86, 135, 11, 102, 58, 28, 83, 16, 24, 28, 73, 224, 55, 24, 16, 11, 14, 36, 13, 29, 23, 103, 14, 78, 8, 26, 28, 32, 55, 18, 29, 15, 64, 337, 77, 65, 34, 92, 71, 43, 18, 14, 26, 15, 110, 18, 44, 34, 11, 16, 21, 18, 109, 28, 60, 2, 14, 113, 24, 87, 41, 33, 51, 57, 34, 77, 43, 24, 107, 16, 9, 14, 12, 18, 35, 47, 33, 66, 79, 82, 20, 44, 78, 30, 32, 35, 34, 41, 27, 39, 59, 57, 92, 51, 75, 16, 20, 16, 76, 103, 93, 47, 25, 53, 107, 60, 79, 68, 24, 16, 22, 65, 45, 19, 30, 12, 72, 75, 27, 27, 14, 82, 26, 30, 97, 26, 25, 13, 40, 38, 11, 10, 17, 88, 41, 13, 55, 18, 18, 86, 54, 28, 21, 38, 16, 28, 21, 58, 43, 62, 13, 25, 16, 16, 57, 64, 14, 41, 53, 34, 16, 40, 80, 44, 24, 55, 4, 48, 23, 25, 117, 13, 13, 28, 2, 8, 60, 6, 23, 93, 22, 42, 30, 8, 11, 17, 17, 20, 68, 40, 15, 70, 33, 35, 92, 4, 17, 54, 20, 32, 35, 9, 14, 16, 158, 17, 30, 44, 67, 34, 45, 44, 33, 99, 22, 320, 66, 67, 55, 18, 64, 47, 101, 276, 14, 69, 17, 13, 20, 30, 17, 83, 46, 108, 14, 46, 73, 51, 19, 27, 13, 23, 16, 11, 42, 57, 35, 14, 94, 317, 10, 65, 18, 16, 75, 3, 51, 24, 61, 98, 36, 36, 34, 8, 31, 41, 20, 43, 14, 71, 37, 425, 128, 20, 63, 29, 39, 22, 53, 14, 65, 26, 117, 20, 89, 12, 15, 17, 58, 25, 18, 31, 52, 18, 17, 17, 34, 40, 12, 106, 62, 23, 17, 13, 48, 40, 3, 39, 27, 24, 63, 14, 15, 106, 57, 20, 51, 30, 56, 66, 21, 48, 56, 71, 50, 26, 133, 48, 75, 140, 21, 20, 20, 23, 19, 184, 101, 90, 27, 7, 3, 2, 103, 43, 17, 91, 26, 25, 15, 20, 45, 30, 103, 20, 54, 20, 105, 24, 84, 22, 33, 23, 65, 6, 53, 15, 94, 4, 25, 58, 29, 67, 19, 26, 21, 200, 39, 49, 76, 42, 38, 8, 19, 17, 21, 39, 45, 61, 19, 14, 20, 34, 54, 79, 9, 18, 39, 39, 11, 46, 71, 23, 21, 26, 32, 27, 37, 22, 38, 19, 64, 13, 102, 93, 33, 55, 37, 66, 50, 44, 10, 27, 28, 4, 22, 47, 38, 94, 31, 41, 11, 28, 28, 16, 38, 123, 12, 16, 38, 54, 4, 82, 6, 18, 11, 31, 56, 26, 79, 14, 15, 31, 34, 27, 13, 57, 17, 10, 41, 25, 74, 16, 20, 73, 31, 60, 81, 30, 29, 17, 54, 20, 14, 25, 19, 17, 2, 24, 13, 24, 24, 83, 15, 79, 33, 24, 84, 19, 67, 29, 29, 37, 317, 17, 59, 34, 41, 63, 4, 36, 41, 18, 43, 39, 23, 55, 32, 40, 104, 94, 38, 36, 45, 29, 16, 18, 136, 63, 38, 66, 35, 122, 10, 24, 6, 39, 57, 30, 8, 29, 13, 18, 19, 38, 45, 15, 21, 23, 27, 72, 23, 9, 7, 72, 87, 19, 24, 22, 17, 52, 21, 33, 29, 21, 80, 45, 17, 52, 25, 15, 58, 21, 30, 33, 105, 121, 22, 31, 8, 18, 3, 20, 37, 24, 16, 93, 15, 30, 56, 67, 26, 18, 18, 101, 53, 34, 21, 109, 14, 97, 5, 40, 36, 94, 27, 112, 17, 63, 14, 15, 0, 40, 28, 19, 26, 105, 86, 41, 34, 42, 83, 65, 27, 51, 28, 6, 92, 32, 18, 18, 25, 22, 87, 19, 15, 37, 41, 62, 8, 15, 41, 111, 17, 26, 337, 42, 27, 13, 39, 38, 51, 119, 48, 76, 76, 19, 12, 71, 69, 50, 27, 83, 26, 122, 50, 3, 18, 22, 134, 35, 60, 19, 39, 30, 19, 59, 27, 19, 15, 47, 16, 39, 49, 31, 29, 15, 22, 54, 22, 48, 36, 73, 15, 101, 70, 64, 6, 93, 23, 30, 52, 38, 51, 23, 18, 21, 14, 48, 35, 13, 19, 52, 16, 19, 14, 8, 93, 21, 15, 82, 91, 27, 21, 69, 60, 47, 21, 64, 76, 30, 182, 17, 21, 70, 26, 15, 13, 13, 72, 37, 15, 78, 73, 25, 128, 38, 13, 79, 9, 101, 33, 35, 12, 207, 33, 23, 29, 22, 32, 13, 46, 88, 84, 15, 18, 63, 36, 38, 13, 81, 21, 11, 94, 47, 72, 29, 8, 28, 34, 30, 13, 6, 20, 47, 79, 31, 51, 33, 30, 396, 98, 29, 23, 35, 19, 16, 13, 58, 24, 35, 10, 19, 16, 106, 54, 38, 22, 30, 66, 24, 38, 27, 49, 210, 20, 44, 14, 79, 52, 12, 102, 17, 52, 2, 84, 31, 24, 16, 17, 42, 140, 34, 38, 13, 11, 23, 18, 25, 25, 18, 24, 14, 28, 22, 38, 68, 16, 19, 65, 50, 81, 19, 22, 48, 11, 66, 25, 116, 32, 36, 36, 35, 40, 77, 80, 22, 12, 14, 83, 27, 23, 41, 34, 10, 145, 96, 78, 79, 41, 21, 23, 51, 25, 33, 12, 41, 17, 18, 39, 31, 39, 11, 28, 73, 37, 9, 94, 13, 24, 72, 63, 17, 5, 7, 19, 54, 134, 28, 21, 80, 79, 119, 28, 32, 10, 35, 2, 24, 30, 43, 14, 20, 63, 39, 93, 29, 91, 40, 28, 23, 26, 39, 17, 48, 15, 15, 59, 34, 103, 71, 78, 43, 34, 47, 18, 14, 107, 22, 36, 40, 53, 27, 46, 33, 29, 17, 19, 62, 55, 19, 50, 9, 27, 48, 84, 76, 82, 20, 9, 60, 24, 31, 33, 42, 51, 83, 20, 27, 17, 142, 32, 61, 15, 39, 111, 11, 19, 57, 73, 21, 14, 83, 40, 42, 40, 92, 29, 129, 22, 24, 15, 16, 27, 31, 20, 18, 26, 49, 20, 65, 26, 53, 15, 17, 36, 44, 20, 35, 34, 44, 81, 40, 9, 66, 48, 23, 18, 317, 45, 55, 38, 22, 36, 54, 20, 88, 22, 57, 30, 64, 108, 57, 35, 120, 11, 122, 14, 125, 271, 56, 88, 31, 47, 31, 94, 17, 76, 32, 59, 55, 24, 17, 63, 16, 68, 76, 77, 13, 43, 11, 81, 35, 22, 26, 75, 42, 24, 18, 14, 17, 28, 52, 16, 19, 59, 25, 28, 35, 47, 20, 8, 222, 11, 42, 34, 45, 16, 71, 57, 51, 19, 58, 22, 4, 35, 20, 16, 12, 31, 46, 25, 60, 20, 42, 23, 0, 93, 51, 19, 16, 23, 32, 39, 2, 47, 22, 22, 16, 18, 16, 8, 67, 3, 16, 29, 40, 22, 92, 37, 36, 13, 58, 103, 72, 81, 8, 28, 11, 17, 24, 36, 27, 11, 58, 27, 39, 122, 23, 72, 96, 39, 78, 35, 4, 9, 49, 17, 95, 19, 83, 110, 39, 24, 10, 27, 61, 19, 202, 49, 118, 18, 80, 28, 95, 97, 32, 5, 45, 61, 44, 37, 15, 147, 43, 22, 26, 112, 47, 111, 32, 44, 7, 14, 88, 108, 42, 21, 27, 16, 14, 69, 2, 84, 14, 60, 79, 38, 70, 58, 9, 27, 4, 37, 4, 77, 104, 95, 43, 18, 22, 39, 33, 26, 106, 176, 21, 22, 18, 48, 68, 13, 41, 34, 109, 16, 38, 27, 78, 20, 12, 16, 64, 87, 98, 25, 41, 16, 21, 26, 69, 17, 69, 79, 53, 44, 4, 22, 12, 15, 15, 24, 27, 57, 38, 27, 202, 31, 35, 25, 10, 27, 23, 19, 99, 30, 62, 92, 62, 7, 40, 28, 147, 61, 57, 52, 42, 27, 12, 20, 36, 36, 15, 19, 15, 16, 35, 35, 23, 26, 28, 4, 24, 81, 38, 16, 97, 103, 6, 60, 91, 48, 22, 42, 108, 32, 33, 30, 41, 37, 38, 36, 13, 19, 15, 14, 46, 92, 63, 21, 23, 93, 67, 73, 17, 31, 34, 87, 31, 43, 30, 26, 29, 11, 26, 31, 30, 38, 19, 23, 18, 52, 94, 29, 25, 105, 84, 18, 36, 18, 22, 59, 32, 10, 44, 22, 18, 38, 29, 116, 38, 19, 17, 45, 31, 14, 20, 16, 33, 13, 47, 83, 36, 15, 21, 43, 29, 15, 71, 63, 24, 20, 60, 26, 28, 16, 18, 3, 55, 93, 66, 38, 16, 37, 15, 25, 23, 20, 25, 21, 41, 96, 16, 27, 208, 26, 21, 25, 13, 28, 164, 29, 14, 27, 24, 36, 46, 37, 19, 32, 92, 93, 34, 5, 15, 24, 38, 34, 101, 18, 52, 16, 41, 20, 25, 4, 54, 41, 59, 29, 45, 6, 74, 15, 186, 11, 127, 14, 18, 35, 71, 5, 18, 28, 77, 32, 18, 41, 29, 85, 106, 104, 42, 29, 24, 64, 128, 64, 47, 18, 23, 18, 29, 16, 28, 13, 53, 13, 12, 30, 40, 134, 6, 125, 74, 46, 47, 54, 21, 49, 75, 2, 26, 33, 36, 16, 24, 39, 48, 54, 49, 81, 51, 50, 19, 30, 41, 10, 39, 18, 20, 54, 105, 16, 45, 15, 27, 26, 127, 83, 34, 19, 22, 13, 29, 58, 53, 37, 24, 35, 11, 35, 19, 143, 123, 41, 41, 45, 19, 44, 38, 15, 31, 42, 10, 17, 21, 33, 36, 4, 26, 20, 44, 30, 14, 58, 27, 65, 42, 17, 123, 24, 4, 56, 38, 100, 65, 56, 63, 19, 29, 22, 82, 23, 17, 65, 52, 18, 18, 27, 8, 35, 50, 109, 17, 8, 29, 59, 25, 38, 56, 31, 46, 46, 117, 34, 61, 52, 32, 35, 16, 20, 13, 44, 11, 22, 17, 18, 28, 35, 114, 97, 5, 24, 32, 74, 15, 62, 54, 29, 36, 56, 67, 30, 84, 60, 91, 8, 41, 60, 39, 11, 32, 17, 43, 36, 90, 121, 28, 92, 17, 105, 74, 19, 2, 47, 21, 84, 39, 30, 19, 64, 26, 20, 16, 16, 28, 35, 28, 13, 71, 29, 40, 34, 7, 57, 11, 38, 12, 8, 29, 12, 16, 35, 25, 26, 107, 12, 13, 43, 103, 173, 16, 41, 76, 34, 13, 74, 13, 54, 54, 45, 34, 23, 66, 97, 63, 28, 34, 176, 20, 28, 87, 55, 16, 41, 81, 112, 48, 118, 4, 58, 22, 14, 23, 16, 8, 22, 29, 56, 14, 20, 15, 53, 19, 41, 49, 140, 8, 69, 58, 84, 69, 15, 100, 34, 90, 30, 20, 21, 14, 15, 92, 86, 27, 31, 13, 8, 84, 105, 54, 100, 28, 35, 34, 116, 81, 88, 48, 23, 20, 27, 51, 58, 56, 27, 31, 110, 21, 25, 30, 10, 75, 100, 96, 20, 61, 33, 30, 46, 17, 25, 21, 41, 30, 28, 46, 20, 45, 29, 51, 55, 20, 122, 24, 14, 26, 57, 16, 59, 79, 67, 35, 8, 27, 44, 37, 69, 13, 16, 52, 15, 23, 31, 39, 22, 63, 164, 48, 25, 49, 67, 93, 20, 12, 27, 11, 55, 16, 45, 31, 34, 30, 65, 85, 23, 4, 41, 18, 41, 33, 11, 111, 78, 56, 21, 57, 4, 97, 22, 16, 44, 114, 62, 74, 65, 47, 18, 25, 80, 3, 69, 43, 36, 25, 21, 24, 113, 4, 87, 39, 6, 90, 68, 53, 23, 147, 9, 3, 43, 88, 66, 63, 51, 8, 48, 19, 86, 41, 30, 33, 195, 29, 41, 69, 12, 68, 104, 21, 21, 64, 45, 26, 24, 10, 33, 27, 23, 101, 23, 20, 29, 29, 41, 89, 45, 20, 8, 28, 46, 12, 80, 89, 33, 16, 27, 67, 34, 27, 112, 25, 120, 15, 25, 92, 21, 77, 28, 40, 150, 8, 68, 26, 49, 67, 11, 87, 18, 28, 10, 19, 8, 71, 29, 97, 36, 112, 98, 17, 15, 12, 76, 65, 15, 32, 33, 34, 12, 275, 37, 26, 30, 97, 17, 30, 44, 56, 170, 32, 43, 28, 97, 61, 29, 110, 100, 13, 78, 18, 49, 24, 51, 34, 18, 13, 14, 49, 50, 26, 27, 60, 39, 35, 122, 16, 52, 23, 24, 44, 25, 79, 27, 21, 21, 33, 9, 14, 161, 43, 14, 23, 183, 76, 29, 65, 131, 136, 61, 66, 35, 86, 13, 76, 22, 110, 50, 22, 10, 23, 35, 36, 12, 22, 35, 21, 41, 116, 38, 8, 12, 116, 22, 36, 106, 121, 26, 30, 34, 64, 72, 2, 13, 16, 9, 18, 43, 12, 105, 13, 29, 35, 79, 15, 26, 39, 100, 49, 55, 50, 26, 9, 41, 15, 110, 32, 70, 38, 58, 131, 36, 16, 17, 113, 30, 25, 76, 75, 89, 32, 16, 60, 98, 75, 23, 51, 92, 31, 78, 75, 39, 84, 20, 31, 55, 12, 14, 79, 15, 61, 12, 120, 94, 16, 84, 18, 98, 12, 0, 33, 9, 90, 49, 50, 49, 44, 122, 27, 60, 38, 40, 66, 19, 36, 27, 47, 21, 66, 125, 44, 20, 35, 97, 64, 19, 14, 12, 17, 36, 17, 77, 19, 51, 48, 28, 17, 32, 24, 136, 45, 8, 25, 33, 26, 69, 18, 37, 18, 25, 16, 31, 46, 32, 31, 6, 21, 17, 21, 98, 22, 125, 82, 15, 21, 14, 57, 20, 70, 38, 22, 7, 27, 19, 26, 30, 20, 18, 19, 99, 39, 37, 68, 13, 13, 14, 32, 22, 45, 12, 26, 25, 75, 37, 20, 11, 20, 24, 7, 28, 80, 83, 75, 26, 35, 12, 8, 16, 7, 76, 17, 10, 77, 31, 30, 36, 65, 41, 45, 59, 38, 12, 68, 28, 39, 72, 49, 27, 33, 27, 52, 36, 78, 19, 43, 18, 30, 51, 22, 35, 126, 142, 10, 65, 42, 22, 31, 10, 29, 37, 84, 62, 62, 46, 18, 24, 100, 80, 44, 46, 16, 17, 62, 26, 16, 27, 93, 52, 16, 101, 33, 44, 98, 38, 47, 56, 46, 37, 57, 17, 96, 17, 30, 22, 118, 21, 56, 11, 13, 24, 26, 46, 24, 26, 81, 126, 28, 11, 90, 23, 23, 62, 118, 80, 59, 27, 22, 74, 16, 57, 54, 10, 33, 13, 0, 63, 24, 12, 38, 38, 48, 88, 18, 30, 21, 49, 28, 29, 51, 48, 52, 32, 23, 28, 40, 42, 29, 50, 33, 58, 15, 14, 69, 0, 32, 33, 2, 79, 110, 17, 42, 26, 141, 33, 61, 128, 57, 22, 35, 18, 25, 62, 73, 52, 56, 14, 19, 89, 79, 30, 0, 93, 119, 114, 41, 106, 15, 14, 28, 38, 35, 27, 36, 22, 208, 23, 16, 22, 8, 118, 49, 11, 155, 82, 19, 49, 27, 37, 74, 79, 28, 25, 22, 36, 9, 55, 69, 23, 13, 21, 47, 16, 17, 92, 50, 28, 52, 70, 75, 47, 62, 26, 15, 77, 86, 77, 43, 31, 87, 22, 16, 33, 17, 92, 6, 21, 28, 62, 47, 77, 23, 24, 95, 41, 46, 31, 35, 51, 72, 5, 15, 38, 14, 19, 19, 37, 7, 54, 62, 20, 104, 21, 35, 33, 18, 4, 23, 52, 38, 31, 141, 42, 10, 18, 23, 64, 28, 41, 32, 79, 39, 33, 40, 18, 34, 15, 36, 71, 6, 19, 33, 48, 24, 33, 35, 19, 42, 10, 52, 59, 43, 29, 76, 74, 65, 16, 50, 91, 26, 31, 63, 14, 108, 37, 86, 35, 19, 32, 61, 27, 22, 31, 85, 8, 57, 16, 39, 46, 45, 41, 51, 83, 31, 133, 192, 29, 18, 34, 43, 60, 16, 15, 22, 28, 44, 18, 98, 33, 45, 39, 108, 22, 29, 59, 320, 108, 35, 31, 99, 28, 23, 66, 21, 38, 67, 16, 24, 9, 52, 24, 76, 69, 64, 22, 16, 142, 3, 34, 64, 81, 36, 13, 50, 33, 116, 72, 68, 67, 14, 45, 86, 65, 18, 94, 43, 112, 41, 18, 44, 65, 12, 53, 13, 18, 37, 26, 17, 27, 62, 16, 36, 11, 44, 18, 33, 0, 50, 66, 49, 42, 57, 89, 32, 9, 29, 27, 28, 22, 10, 4, 20, 46, 20, 27, 102, 52, 71, 31, 30, 18, 32, 23, 67, 18, 194, 42, 19, 14, 11, 29, 4, 28, 32, 26, 15, 63, 40, 15, 77, 111, 34, 50, 22, 17, 63, 26, 14, 52, 83, 20, 31, 43, 16, 16, 84, 41, 40, 71, 39, 32, 21, 57, 50, 26, 21, 15, 22, 28, 11, 48, 87, 59, 8, 38, 183, 21, 87, 32, 63, 28, 23, 88, 13, 66, 21, 55, 101, 64, 26, 8, 21, 13, 18, 31, 54, 87, 31, 9, 33, 21, 19, 19, 74, 23, 51, 17, 18, 49, 42, 62, 59, 13, 5, 99, 43, 19, 92, 93, 20, 20, 22, 67, 101, 23, 28, 38, 20, 18, 142, 112, 11, 22, 11, 18, 27, 41, 33, 73, 48, 100, 63, 20, 9, 22, 10, 17, 50, 20, 5, 71, 86, 20, 4, 32, 46, 31, 57, 72, 85, 25, 2, 95, 68, 40, 30, 46, 25, 92, 28, 21, 26, 19, 165, 38, 60, 61, 30, 28, 57, 105, 104, 16, 59, 21, 28, 24, 22, 37, 56, 29, 45, 31, 28, 29, 31, 96, 56, 89, 29, 47, 15, 20, 112, 3, 21, 44, 26, 51, 48, 10, 47, 67, 26, 19, 46, 23, 34, 25, 20, 55, 33, 24, 22, 41, 58, 22, 14, 24, 46, 18, 13, 21, 22, 31, 28, 67, 52, 39, 42, 64, 24, 23, 15, 189, 30, 30, 15, 69, 16, 20, 62, 23, 4, 36, 72, 6, 20, 3, 49, 25, 66, 30, 49, 32, 13, 41, 20, 20, 62, 74, 80, 26, 6, 34, 6, 52, 37, 100, 57, 32, 7, 27, 103, 17, 58, 17, 66, 99, 23, 46, 23, 19, 29, 13, 32, 20, 132, 98, 115, 57, 36, 18, 23, 22, 19, 57, 45, 24, 3, 38, 28, 20, 50, 17, 194, 41, 81, 19, 13, 27, 33, 95, 22, 23, 16, 58, 19, 34, 59, 20, 75, 103, 34, 131, 20, 36, 23, 43, 69, 16, 32, 7, 27, 27, 82, 14], \"xaxis\": \"x\", \"y\": [\"ham\", \"ham\", \"ham\", \"ham\", \"ham\", \"ham\", \"ham\", \"ham\", \"ham\", \"ham\", \"ham\", \"ham\", \"ham\", \"ham\", \"ham\", \"ham\", \"ham\", \"ham\", \"ham\", \"ham\", \"ham\", \"ham\", \"ham\", \"ham\", \"ham\", \"ham\", \"ham\", \"ham\", \"ham\", \"ham\", \"ham\", \"ham\", \"ham\", \"ham\", \"ham\", \"ham\", \"ham\", \"ham\", \"ham\", \"ham\", \"ham\", \"ham\", \"ham\", \"ham\", \"ham\", \"ham\", \"ham\", \"ham\", \"ham\", \"ham\", \"ham\", \"ham\", \"ham\", \"ham\", \"ham\", \"ham\", \"ham\", \"ham\", \"ham\", \"ham\", \"ham\", \"ham\", \"ham\", \"ham\", \"ham\", \"ham\", \"ham\", \"ham\", \"ham\", \"ham\", \"ham\", \"ham\", \"ham\", \"ham\", \"ham\", \"ham\", \"ham\", \"ham\", \"ham\", \"ham\", \"ham\", \"ham\", \"ham\", \"ham\", \"ham\", \"ham\", \"ham\", \"ham\", \"ham\", \"ham\", \"ham\", \"ham\", \"ham\", \"ham\", \"ham\", \"ham\", \"ham\", \"ham\", \"ham\", \"ham\", \"ham\", \"ham\", \"ham\", \"ham\", \"ham\", \"ham\", \"ham\", \"ham\", \"ham\", \"ham\", \"ham\", \"ham\", \"ham\", \"ham\", \"ham\", \"ham\", \"ham\", \"ham\", \"ham\", \"ham\", \"ham\", \"ham\", \"ham\", \"ham\", \"ham\", \"ham\", \"ham\", \"ham\", \"ham\", \"ham\", \"ham\", \"ham\", \"ham\", \"ham\", \"ham\", \"ham\", \"ham\", \"ham\", \"ham\", \"ham\", \"ham\", \"ham\", \"ham\", \"ham\", \"ham\", \"ham\", \"ham\", \"ham\", \"ham\", \"ham\", \"ham\", \"ham\", \"ham\", \"ham\", \"ham\", \"ham\", \"ham\", \"ham\", \"ham\", \"ham\", \"ham\", \"ham\", \"ham\", \"ham\", \"ham\", \"ham\", \"ham\", \"ham\", \"ham\", \"ham\", \"ham\", \"ham\", \"ham\", \"ham\", \"ham\", \"ham\", \"ham\", \"ham\", \"ham\", \"ham\", \"ham\", \"ham\", \"ham\", \"ham\", \"ham\", \"ham\", \"ham\", \"ham\", \"ham\", \"ham\", \"ham\", \"ham\", \"ham\", \"ham\", \"ham\", \"ham\", \"ham\", \"ham\", \"ham\", \"ham\", \"ham\", \"ham\", \"ham\", \"ham\", \"ham\", \"ham\", \"ham\", \"ham\", \"ham\", \"ham\", \"ham\", \"ham\", \"ham\", \"ham\", \"ham\", \"ham\", \"ham\", \"ham\", \"ham\", \"ham\", \"ham\", \"ham\", \"ham\", \"ham\", \"ham\", \"ham\", \"ham\", \"ham\", \"ham\", \"ham\", \"ham\", \"ham\", \"ham\", \"ham\", \"ham\", \"ham\", \"ham\", \"ham\", \"ham\", \"ham\", \"ham\", \"ham\", \"ham\", \"ham\", \"ham\", \"ham\", \"ham\", \"ham\", \"ham\", \"ham\", \"ham\", \"ham\", \"ham\", \"ham\", \"ham\", \"ham\", \"ham\", \"ham\", \"ham\", \"ham\", \"ham\", \"ham\", \"ham\", \"ham\", \"ham\", \"ham\", \"ham\", \"ham\", \"ham\", \"ham\", \"ham\", \"ham\", \"ham\", \"ham\", \"ham\", \"ham\", \"ham\", \"ham\", \"ham\", \"ham\", \"ham\", \"ham\", \"ham\", \"ham\", \"ham\", \"ham\", \"ham\", \"ham\", \"ham\", \"ham\", \"ham\", \"ham\", \"ham\", \"ham\", \"ham\", \"ham\", \"ham\", \"ham\", \"ham\", \"ham\", \"ham\", \"ham\", \"ham\", \"ham\", \"ham\", \"ham\", \"ham\", \"ham\", \"ham\", \"ham\", \"ham\", \"ham\", \"ham\", \"ham\", \"ham\", \"ham\", \"ham\", \"ham\", \"ham\", \"ham\", \"ham\", \"ham\", \"ham\", \"ham\", \"ham\", \"ham\", \"ham\", \"ham\", \"ham\", \"ham\", \"ham\", \"ham\", \"ham\", \"ham\", \"ham\", \"ham\", \"ham\", \"ham\", \"ham\", \"ham\", \"ham\", \"ham\", \"ham\", \"ham\", \"ham\", \"ham\", \"ham\", \"ham\", \"ham\", \"ham\", \"ham\", \"ham\", \"ham\", \"ham\", \"ham\", \"ham\", \"ham\", \"ham\", \"ham\", \"ham\", \"ham\", \"ham\", \"ham\", \"ham\", \"ham\", \"ham\", \"ham\", \"ham\", \"ham\", \"ham\", \"ham\", \"ham\", \"ham\", \"ham\", \"ham\", \"ham\", \"ham\", \"ham\", \"ham\", \"ham\", \"ham\", \"ham\", \"ham\", \"ham\", \"ham\", \"ham\", \"ham\", \"ham\", \"ham\", \"ham\", \"ham\", \"ham\", \"ham\", \"ham\", \"ham\", \"ham\", \"ham\", \"ham\", \"ham\", \"ham\", \"ham\", \"ham\", \"ham\", \"ham\", \"ham\", \"ham\", \"ham\", \"ham\", \"ham\", \"ham\", \"ham\", \"ham\", \"ham\", \"ham\", \"ham\", \"ham\", \"ham\", \"ham\", \"ham\", \"ham\", \"ham\", \"ham\", \"ham\", \"ham\", \"ham\", \"ham\", \"ham\", \"ham\", \"ham\", \"ham\", \"ham\", \"ham\", \"ham\", \"ham\", \"ham\", \"ham\", \"ham\", \"ham\", \"ham\", \"ham\", \"ham\", \"ham\", \"ham\", \"ham\", \"ham\", \"ham\", \"ham\", \"ham\", \"ham\", \"ham\", \"ham\", \"ham\", \"ham\", \"ham\", \"ham\", \"ham\", \"ham\", \"ham\", \"ham\", \"ham\", \"ham\", \"ham\", \"ham\", \"ham\", \"ham\", \"ham\", \"ham\", \"ham\", \"ham\", \"ham\", \"ham\", \"ham\", \"ham\", \"ham\", \"ham\", \"ham\", \"ham\", \"ham\", \"ham\", \"ham\", \"ham\", \"ham\", \"ham\", \"ham\", \"ham\", \"ham\", \"ham\", \"ham\", \"ham\", \"ham\", \"ham\", \"ham\", \"ham\", \"ham\", \"ham\", \"ham\", \"ham\", \"ham\", \"ham\", \"ham\", \"ham\", \"ham\", \"ham\", \"ham\", \"ham\", \"ham\", \"ham\", \"ham\", \"ham\", \"ham\", \"ham\", \"ham\", \"ham\", \"ham\", \"ham\", \"ham\", \"ham\", \"ham\", \"ham\", \"ham\", \"ham\", \"ham\", \"ham\", \"ham\", \"ham\", \"ham\", \"ham\", \"ham\", \"ham\", \"ham\", \"ham\", \"ham\", \"ham\", \"ham\", \"ham\", \"ham\", \"ham\", \"ham\", \"ham\", \"ham\", \"ham\", \"ham\", \"ham\", \"ham\", \"ham\", \"ham\", \"ham\", \"ham\", \"ham\", \"ham\", \"ham\", \"ham\", \"ham\", \"ham\", \"ham\", \"ham\", \"ham\", \"ham\", \"ham\", \"ham\", \"ham\", \"ham\", \"ham\", \"ham\", \"ham\", \"ham\", \"ham\", \"ham\", \"ham\", \"ham\", \"ham\", \"ham\", \"ham\", \"ham\", \"ham\", \"ham\", \"ham\", \"ham\", \"ham\", \"ham\", \"ham\", \"ham\", \"ham\", \"ham\", \"ham\", \"ham\", \"ham\", \"ham\", \"ham\", \"ham\", \"ham\", \"ham\", \"ham\", \"ham\", \"ham\", \"ham\", \"ham\", \"ham\", \"ham\", \"ham\", \"ham\", \"ham\", \"ham\", \"ham\", \"ham\", \"ham\", \"ham\", \"ham\", \"ham\", \"ham\", \"ham\", \"ham\", \"ham\", \"ham\", \"ham\", \"ham\", \"ham\", \"ham\", \"ham\", \"ham\", \"ham\", \"ham\", \"ham\", \"ham\", \"ham\", \"ham\", \"ham\", \"ham\", \"ham\", \"ham\", \"ham\", \"ham\", \"ham\", \"ham\", \"ham\", \"ham\", \"ham\", \"ham\", \"ham\", \"ham\", \"ham\", \"ham\", \"ham\", \"ham\", \"ham\", \"ham\", \"ham\", \"ham\", \"ham\", \"ham\", \"ham\", \"ham\", \"ham\", \"ham\", \"ham\", \"ham\", \"ham\", \"ham\", \"ham\", \"ham\", \"ham\", \"ham\", \"ham\", \"ham\", \"ham\", \"ham\", \"ham\", \"ham\", \"ham\", \"ham\", \"ham\", \"ham\", \"ham\", \"ham\", \"ham\", \"ham\", \"ham\", \"ham\", \"ham\", \"ham\", \"ham\", \"ham\", \"ham\", \"ham\", \"ham\", \"ham\", \"ham\", \"ham\", \"ham\", \"ham\", \"ham\", \"ham\", \"ham\", \"ham\", \"ham\", \"ham\", \"ham\", \"ham\", \"ham\", \"ham\", \"ham\", \"ham\", \"ham\", \"ham\", \"ham\", \"ham\", \"ham\", \"ham\", \"ham\", \"ham\", \"ham\", \"ham\", \"ham\", \"ham\", \"ham\", \"ham\", \"ham\", \"ham\", \"ham\", \"ham\", \"ham\", \"ham\", \"ham\", \"ham\", \"ham\", \"ham\", \"ham\", \"ham\", \"ham\", \"ham\", \"ham\", \"ham\", \"ham\", \"ham\", \"ham\", \"ham\", \"ham\", \"ham\", \"ham\", \"ham\", \"ham\", \"ham\", \"ham\", \"ham\", \"ham\", \"ham\", \"ham\", \"ham\", \"ham\", \"ham\", \"ham\", \"ham\", \"ham\", \"ham\", \"ham\", \"ham\", \"ham\", \"ham\", \"ham\", \"ham\", \"ham\", \"ham\", \"ham\", \"ham\", \"ham\", \"ham\", \"ham\", \"ham\", \"ham\", \"ham\", \"ham\", \"ham\", \"ham\", \"ham\", \"ham\", \"ham\", \"ham\", \"ham\", \"ham\", \"ham\", \"ham\", \"ham\", \"ham\", \"ham\", \"ham\", \"ham\", \"ham\", \"ham\", \"ham\", \"ham\", \"ham\", \"ham\", \"ham\", \"ham\", \"ham\", \"ham\", \"ham\", \"ham\", \"ham\", \"ham\", \"ham\", \"ham\", \"ham\", \"ham\", \"ham\", \"ham\", \"ham\", \"ham\", \"ham\", \"ham\", \"ham\", \"ham\", \"ham\", \"ham\", \"ham\", \"ham\", \"ham\", \"ham\", \"ham\", \"ham\", \"ham\", \"ham\", \"ham\", \"ham\", \"ham\", \"ham\", \"ham\", \"ham\", \"ham\", \"ham\", \"ham\", \"ham\", \"ham\", \"ham\", \"ham\", \"ham\", \"ham\", \"ham\", \"ham\", \"ham\", \"ham\", \"ham\", \"ham\", \"ham\", \"ham\", \"ham\", \"ham\", \"ham\", \"ham\", \"ham\", \"ham\", \"ham\", \"ham\", \"ham\", \"ham\", \"ham\", \"ham\", \"ham\", \"ham\", \"ham\", \"ham\", \"ham\", \"ham\", \"ham\", \"ham\", \"ham\", \"ham\", \"ham\", \"ham\", \"ham\", \"ham\", \"ham\", \"ham\", \"ham\", \"ham\", \"ham\", \"ham\", \"ham\", \"ham\", \"ham\", \"ham\", \"ham\", \"ham\", \"ham\", \"ham\", \"ham\", \"ham\", \"ham\", \"ham\", \"ham\", \"ham\", \"ham\", \"ham\", \"ham\", \"ham\", \"ham\", \"ham\", \"ham\", \"ham\", \"ham\", \"ham\", \"ham\", \"ham\", \"ham\", \"ham\", \"ham\", \"ham\", \"ham\", \"ham\", \"ham\", \"ham\", \"ham\", \"ham\", \"ham\", \"ham\", \"ham\", \"ham\", \"ham\", \"ham\", \"ham\", \"ham\", \"ham\", \"ham\", \"ham\", \"ham\", \"ham\", \"ham\", \"ham\", \"ham\", \"ham\", \"ham\", \"ham\", \"ham\", \"ham\", \"ham\", \"ham\", \"ham\", \"ham\", \"ham\", \"ham\", \"ham\", \"ham\", \"ham\", \"ham\", \"ham\", \"ham\", \"ham\", \"ham\", \"ham\", \"ham\", \"ham\", \"ham\", \"ham\", \"ham\", \"ham\", \"ham\", \"ham\", \"ham\", \"ham\", \"ham\", \"ham\", \"ham\", \"ham\", \"ham\", \"ham\", \"ham\", \"ham\", \"ham\", \"ham\", \"ham\", \"ham\", \"ham\", \"ham\", \"ham\", \"ham\", \"ham\", \"ham\", \"ham\", \"ham\", \"ham\", \"ham\", \"ham\", \"ham\", \"ham\", \"ham\", \"ham\", \"ham\", \"ham\", \"ham\", \"ham\", \"ham\", \"ham\", \"ham\", \"ham\", \"ham\", \"ham\", \"ham\", \"ham\", \"ham\", \"ham\", \"ham\", \"ham\", \"ham\", \"ham\", \"ham\", \"ham\", \"ham\", \"ham\", \"ham\", \"ham\", \"ham\", \"ham\", \"ham\", \"ham\", \"ham\", \"ham\", \"ham\", \"ham\", \"ham\", \"ham\", \"ham\", \"ham\", \"ham\", \"ham\", \"ham\", \"ham\", \"ham\", \"ham\", \"ham\", \"ham\", \"ham\", \"ham\", \"ham\", \"ham\", \"ham\", \"ham\", \"ham\", \"ham\", \"ham\", \"ham\", \"ham\", \"ham\", \"ham\", \"ham\", \"ham\", \"ham\", \"ham\", \"ham\", \"ham\", \"ham\", \"ham\", \"ham\", \"ham\", \"ham\", \"ham\", \"ham\", \"ham\", \"ham\", \"ham\", \"ham\", \"ham\", \"ham\", \"ham\", \"ham\", \"ham\", \"ham\", \"ham\", \"ham\", \"ham\", \"ham\", \"ham\", \"ham\", \"ham\", \"ham\", \"ham\", \"ham\", \"ham\", \"ham\", \"ham\", \"ham\", \"ham\", \"ham\", \"ham\", \"ham\", \"ham\", \"ham\", \"ham\", \"ham\", \"ham\", \"ham\", \"ham\", \"ham\", \"ham\", \"ham\", \"ham\", \"ham\", \"ham\", \"ham\", \"ham\", \"ham\", \"ham\", \"ham\", \"ham\", \"ham\", \"ham\", \"ham\", \"ham\", \"ham\", \"ham\", \"ham\", \"ham\", \"ham\", \"ham\", \"ham\", \"ham\", \"ham\", \"ham\", \"ham\", \"ham\", \"ham\", \"ham\", \"ham\", \"ham\", \"ham\", \"ham\", \"ham\", \"ham\", \"ham\", \"ham\", \"ham\", \"ham\", \"ham\", \"ham\", \"ham\", \"ham\", \"ham\", \"ham\", \"ham\", \"ham\", \"ham\", \"ham\", \"ham\", \"ham\", \"ham\", \"ham\", \"ham\", \"ham\", \"ham\", \"ham\", \"ham\", \"ham\", \"ham\", \"ham\", \"ham\", \"ham\", \"ham\", \"ham\", \"ham\", \"ham\", \"ham\", \"ham\", \"ham\", \"ham\", \"ham\", \"ham\", \"ham\", \"ham\", \"ham\", \"ham\", \"ham\", \"ham\", \"ham\", \"ham\", \"ham\", \"ham\", \"ham\", \"ham\", \"ham\", \"ham\", \"ham\", \"ham\", \"ham\", \"ham\", \"ham\", \"ham\", \"ham\", \"ham\", \"ham\", \"ham\", \"ham\", \"ham\", \"ham\", \"ham\", \"ham\", \"ham\", \"ham\", \"ham\", \"ham\", \"ham\", \"ham\", \"ham\", \"ham\", \"ham\", \"ham\", \"ham\", \"ham\", \"ham\", \"ham\", \"ham\", \"ham\", \"ham\", \"ham\", \"ham\", \"ham\", \"ham\", \"ham\", \"ham\", \"ham\", \"ham\", \"ham\", \"ham\", \"ham\", \"ham\", \"ham\", \"ham\", \"ham\", \"ham\", \"ham\", \"ham\", \"ham\", \"ham\", \"ham\", \"ham\", \"ham\", \"ham\", \"ham\", \"ham\", \"ham\", \"ham\", \"ham\", \"ham\", \"ham\", \"ham\", \"ham\", \"ham\", \"ham\", \"ham\", \"ham\", \"ham\", \"ham\", \"ham\", \"ham\", \"ham\", \"ham\", \"ham\", \"ham\", \"ham\", \"ham\", \"ham\", \"ham\", \"ham\", \"ham\", \"ham\", \"ham\", \"ham\", \"ham\", \"ham\", \"ham\", \"ham\", \"ham\", \"ham\", \"ham\", \"ham\", \"ham\", \"ham\", \"ham\", \"ham\", \"ham\", \"ham\", \"ham\", \"ham\", \"ham\", \"ham\", \"ham\", \"ham\", \"ham\", \"ham\", \"ham\", \"ham\", \"ham\", \"ham\", \"ham\", \"ham\", \"ham\", \"ham\", \"ham\", \"ham\", \"ham\", \"ham\", \"ham\", \"ham\", \"ham\", \"ham\", \"ham\", \"ham\", \"ham\", \"ham\", \"ham\", \"ham\", \"ham\", \"ham\", \"ham\", \"ham\", \"ham\", \"ham\", \"ham\", \"ham\", \"ham\", \"ham\", \"ham\", \"ham\", \"ham\", \"ham\", \"ham\", \"ham\", \"ham\", \"ham\", \"ham\", \"ham\", \"ham\", \"ham\", \"ham\", \"ham\", \"ham\", \"ham\", \"ham\", \"ham\", \"ham\", \"ham\", \"ham\", \"ham\", \"ham\", \"ham\", \"ham\", \"ham\", \"ham\", \"ham\", \"ham\", \"ham\", \"ham\", \"ham\", \"ham\", \"ham\", \"ham\", \"ham\", \"ham\", \"ham\", \"ham\", \"ham\", \"ham\", \"ham\", \"ham\", \"ham\", \"ham\", \"ham\", \"ham\", \"ham\", \"ham\", \"ham\", \"ham\", \"ham\", \"ham\", \"ham\", \"ham\", \"ham\", \"ham\", \"ham\", \"ham\", \"ham\", \"ham\", \"ham\", \"ham\", \"ham\", \"ham\", \"ham\", \"ham\", \"ham\", \"ham\", \"ham\", \"ham\", \"ham\", \"ham\", \"ham\", \"ham\", \"ham\", \"ham\", \"ham\", \"ham\", \"ham\", \"ham\", \"ham\", \"ham\", \"ham\", \"ham\", \"ham\", \"ham\", \"ham\", \"ham\", \"ham\", \"ham\", \"ham\", \"ham\", \"ham\", \"ham\", \"ham\", \"ham\", \"ham\", \"ham\", \"ham\", \"ham\", \"ham\", \"ham\", \"ham\", \"ham\", \"ham\", \"ham\", \"ham\", \"ham\", \"ham\", \"ham\", \"ham\", \"ham\", \"ham\", \"ham\", \"ham\", \"ham\", \"ham\", \"ham\", \"ham\", \"ham\", \"ham\", \"ham\", \"ham\", \"ham\", \"ham\", \"ham\", \"ham\", \"ham\", \"ham\", \"ham\", \"ham\", \"ham\", \"ham\", \"ham\", \"ham\", \"ham\", \"ham\", \"ham\", \"ham\", \"ham\", \"ham\", \"ham\", \"ham\", \"ham\", \"ham\", \"ham\", \"ham\", \"ham\", \"ham\", \"ham\", \"ham\", \"ham\", \"ham\", \"ham\", \"ham\", \"ham\", \"ham\", \"ham\", \"ham\", \"ham\", \"ham\", \"ham\", \"ham\", \"ham\", \"ham\", \"ham\", \"ham\", \"ham\", \"ham\", \"ham\", \"ham\", \"ham\", \"ham\", \"ham\", \"ham\", \"ham\", \"ham\", \"ham\", \"ham\", \"ham\", \"ham\", \"ham\", \"ham\", \"ham\", \"ham\", \"ham\", \"ham\", \"ham\", \"ham\", \"ham\", \"ham\", \"ham\", \"ham\", \"ham\", \"ham\", \"ham\", \"ham\", \"ham\", \"ham\", \"ham\", \"ham\", \"ham\", \"ham\", \"ham\", \"ham\", \"ham\", \"ham\", \"ham\", \"ham\", \"ham\", \"ham\", \"ham\", \"ham\", \"ham\", \"ham\", \"ham\", \"ham\", \"ham\", \"ham\", \"ham\", \"ham\", \"ham\", \"ham\", \"ham\", \"ham\", \"ham\", \"ham\", \"ham\", \"ham\", \"ham\", \"ham\", \"ham\", \"ham\", \"ham\", \"ham\", \"ham\", \"ham\", \"ham\", \"ham\", \"ham\", \"ham\", \"ham\", \"ham\", \"ham\", \"ham\", \"ham\", \"ham\", \"ham\", \"ham\", \"ham\", \"ham\", \"ham\", \"ham\", \"ham\", \"ham\", \"ham\", \"ham\", \"ham\", \"ham\", \"ham\", \"ham\", \"ham\", \"ham\", \"ham\", \"ham\", \"ham\", \"ham\", \"ham\", \"ham\", \"ham\", \"ham\", \"ham\", \"ham\", \"ham\", \"ham\", \"ham\", \"ham\", \"ham\", \"ham\", \"ham\", \"ham\", \"ham\", \"ham\", \"ham\", \"ham\", \"ham\", \"ham\", \"ham\", \"ham\", \"ham\", \"ham\", \"ham\", \"ham\", \"ham\", \"ham\", \"ham\", \"ham\", \"ham\", \"ham\", \"ham\", \"ham\", \"ham\", \"ham\", \"ham\", \"ham\", \"ham\", \"ham\", \"ham\", \"ham\", \"ham\", \"ham\", \"ham\", \"ham\", \"ham\", \"ham\", \"ham\", \"ham\", \"ham\", \"ham\", \"ham\", \"ham\", \"ham\", \"ham\", \"ham\", \"ham\", \"ham\", \"ham\", \"ham\", \"ham\", \"ham\", \"ham\", \"ham\", \"ham\", \"ham\", \"ham\", \"ham\", \"ham\", \"ham\", \"ham\", \"ham\", \"ham\", \"ham\", \"ham\", \"ham\", \"ham\", \"ham\", \"ham\", \"ham\", \"ham\", \"ham\", \"ham\", \"ham\", \"ham\", \"ham\", \"ham\", \"ham\", \"ham\", \"ham\", \"ham\", \"ham\", \"ham\", \"ham\", \"ham\", \"ham\", \"ham\", \"ham\", \"ham\", \"ham\", \"ham\", \"ham\", \"ham\", \"ham\", \"ham\", \"ham\", \"ham\", \"ham\", \"ham\", \"ham\", \"ham\", \"ham\", \"ham\", \"ham\", \"ham\", \"ham\", \"ham\", \"ham\", \"ham\", \"ham\", \"ham\", \"ham\", \"ham\", \"ham\", \"ham\", \"ham\", \"ham\", \"ham\", \"ham\", \"ham\", \"ham\", \"ham\", \"ham\", \"ham\", \"ham\", \"ham\", \"ham\", \"ham\", \"ham\", \"ham\", \"ham\", \"ham\", \"ham\", \"ham\", \"ham\", \"ham\", \"ham\", \"ham\", \"ham\", \"ham\", \"ham\", \"ham\", \"ham\", \"ham\", \"ham\", \"ham\", \"ham\", \"ham\", \"ham\", \"ham\", \"ham\", \"ham\", \"ham\", \"ham\", \"ham\", \"ham\", \"ham\", \"ham\", \"ham\", \"ham\", \"ham\", \"ham\", \"ham\", \"ham\", \"ham\", \"ham\", \"ham\", \"ham\", \"ham\", \"ham\", \"ham\", \"ham\", \"ham\", \"ham\", \"ham\", \"ham\", \"ham\", \"ham\", \"ham\", \"ham\", \"ham\", \"ham\", \"ham\", \"ham\", \"ham\", \"ham\", \"ham\", \"ham\", \"ham\", \"ham\", \"ham\", \"ham\", \"ham\", \"ham\", \"ham\", \"ham\", \"ham\", \"ham\", \"ham\", \"ham\", \"ham\", \"ham\", \"ham\", \"ham\", \"ham\", \"ham\", \"ham\", \"ham\", \"ham\", \"ham\", \"ham\", \"ham\", \"ham\", \"ham\", \"ham\", \"ham\", \"ham\", \"ham\", \"ham\", \"ham\", \"ham\", \"ham\", \"ham\", \"ham\", \"ham\", \"ham\", \"ham\", \"ham\", \"ham\", \"ham\", \"ham\", \"ham\", \"ham\", \"ham\", \"ham\", \"ham\", \"ham\", \"ham\", \"ham\", \"ham\", \"ham\", \"ham\", \"ham\", \"ham\", \"ham\", \"ham\", \"ham\", \"ham\", \"ham\", \"ham\", \"ham\", \"ham\", \"ham\", \"ham\", \"ham\", \"ham\", \"ham\", \"ham\", \"ham\", \"ham\", \"ham\", \"ham\", \"ham\", \"ham\", \"ham\", \"ham\", \"ham\", \"ham\", \"ham\", \"ham\", \"ham\", \"ham\", \"ham\", \"ham\", \"ham\", \"ham\", \"ham\", \"ham\", \"ham\", \"ham\", \"ham\", \"ham\", \"ham\", \"ham\", \"ham\", \"ham\", \"ham\", \"ham\", \"ham\", \"ham\", \"ham\", \"ham\", \"ham\", \"ham\", \"ham\", \"ham\", \"ham\", \"ham\", \"ham\", \"ham\", \"ham\", \"ham\", \"ham\", \"ham\", \"ham\", \"ham\", \"ham\", \"ham\", \"ham\", \"ham\", \"ham\", \"ham\", \"ham\", \"ham\", \"ham\", \"ham\", \"ham\", \"ham\", \"ham\", \"ham\", \"ham\", \"ham\", \"ham\", \"ham\", \"ham\", \"ham\", \"ham\", \"ham\", \"ham\", \"ham\", \"ham\", \"ham\", \"ham\", \"ham\", \"ham\", \"ham\", \"ham\", \"ham\", \"ham\", \"ham\", \"ham\", \"ham\", \"ham\", \"ham\", \"ham\", \"ham\", \"ham\", \"ham\", \"ham\", \"ham\", \"ham\", \"ham\", \"ham\", \"ham\", \"ham\", \"ham\", \"ham\", \"ham\", \"ham\", \"ham\", \"ham\", \"ham\", \"ham\", \"ham\", \"ham\", \"ham\", \"ham\", \"ham\", \"ham\", \"ham\", \"ham\", \"ham\", \"ham\", \"ham\", \"ham\", \"ham\", \"ham\", \"ham\", \"ham\", \"ham\", \"ham\", \"ham\", \"ham\", \"ham\", \"ham\", \"ham\", \"ham\", \"ham\", \"ham\", \"ham\", \"ham\", \"ham\", \"ham\", \"ham\", \"ham\", \"ham\", \"ham\", \"ham\", \"ham\", \"ham\", \"ham\", \"ham\", \"ham\", \"ham\", \"ham\", \"ham\", \"ham\", \"ham\", \"ham\", \"ham\", \"ham\", \"ham\", \"ham\", \"ham\", \"ham\", \"ham\", \"ham\", \"ham\", \"ham\", \"ham\", \"ham\", \"ham\", \"ham\", \"ham\", \"ham\", \"ham\", \"ham\", \"ham\", \"ham\", \"ham\", \"ham\", \"ham\", \"ham\", \"ham\", \"ham\", \"ham\", \"ham\", \"ham\", \"ham\", \"ham\", \"ham\", \"ham\", \"ham\", \"ham\", \"ham\", \"ham\", \"ham\", \"ham\", \"ham\", \"ham\", \"ham\", \"ham\", \"ham\", \"ham\", \"ham\", \"ham\", \"ham\", \"ham\", \"ham\", \"ham\", \"ham\", \"ham\", \"ham\", \"ham\", \"ham\", \"ham\", \"ham\", \"ham\", \"ham\", \"ham\", \"ham\", \"ham\", \"ham\", \"ham\", \"ham\", \"ham\", \"ham\", \"ham\", \"ham\", \"ham\", \"ham\", \"ham\", \"ham\", \"ham\", \"ham\", \"ham\", \"ham\", \"ham\", \"ham\", \"ham\", \"ham\", \"ham\", \"ham\", \"ham\", \"ham\", \"ham\", \"ham\", \"ham\", \"ham\", \"ham\", \"ham\", \"ham\", \"ham\", \"ham\", \"ham\", \"ham\", \"ham\", \"ham\", \"ham\", \"ham\", \"ham\", \"ham\", \"ham\", \"ham\", \"ham\", \"ham\", \"ham\", \"ham\", \"ham\", \"ham\", \"ham\", \"ham\", \"ham\", \"ham\", \"ham\", \"ham\", \"ham\", \"ham\", \"ham\", \"ham\", \"ham\", \"ham\", \"ham\", \"ham\", \"ham\", \"ham\", \"ham\", \"ham\", \"ham\", \"ham\", \"ham\", \"ham\", \"ham\", \"ham\", \"ham\", \"ham\", \"ham\", \"ham\", \"ham\", \"ham\", \"ham\", \"ham\", \"ham\", \"ham\", \"ham\", \"ham\", \"ham\", \"ham\", \"ham\", \"ham\", \"ham\", \"ham\", \"ham\", \"ham\", \"ham\", \"ham\", \"ham\", \"ham\", \"ham\", \"ham\", \"ham\", \"ham\", \"ham\", \"ham\", \"ham\", \"ham\", \"ham\", \"ham\", \"ham\", \"ham\", \"ham\", \"ham\", \"ham\", \"ham\", \"ham\", \"ham\", \"ham\", \"ham\", \"ham\", \"ham\", \"ham\", \"ham\", \"ham\", \"ham\", \"ham\", \"ham\", \"ham\", \"ham\", \"ham\", \"ham\", \"ham\", \"ham\", \"ham\", \"ham\", \"ham\", \"ham\", \"ham\", \"ham\", \"ham\", \"ham\", \"ham\", \"ham\", \"ham\", \"ham\", \"ham\", \"ham\", \"ham\", \"ham\", \"ham\", \"ham\", \"ham\", \"ham\", \"ham\", \"ham\", \"ham\", \"ham\", \"ham\", \"ham\", \"ham\", \"ham\", \"ham\", \"ham\", \"ham\", \"ham\", \"ham\", \"ham\", \"ham\", \"ham\", \"ham\", \"ham\", \"ham\", \"ham\", \"ham\", \"ham\", \"ham\", \"ham\", \"ham\", \"ham\", \"ham\", \"ham\", \"ham\", \"ham\", \"ham\", \"ham\", \"ham\", \"ham\", \"ham\", \"ham\", \"ham\", \"ham\", \"ham\", \"ham\", \"ham\", \"ham\", \"ham\", \"ham\", \"ham\", \"ham\", \"ham\", \"ham\", \"ham\", \"ham\", \"ham\", \"ham\", \"ham\", \"ham\", \"ham\", \"ham\", \"ham\", \"ham\", \"ham\", \"ham\", \"ham\", \"ham\", \"ham\", \"ham\", \"ham\", \"ham\", \"ham\", \"ham\", \"ham\", \"ham\", \"ham\", \"ham\", \"ham\", \"ham\", \"ham\", \"ham\", \"ham\", \"ham\", \"ham\", \"ham\", \"ham\", \"ham\", \"ham\", \"ham\", \"ham\", \"ham\", \"ham\", \"ham\", \"ham\", \"ham\", \"ham\", \"ham\", \"ham\", \"ham\", \"ham\", \"ham\", \"ham\", \"ham\", \"ham\", \"ham\", \"ham\", \"ham\", \"ham\", \"ham\", \"ham\", \"ham\", \"ham\", \"ham\", \"ham\", \"ham\", \"ham\", \"ham\", \"ham\", \"ham\", \"ham\", \"ham\", \"ham\", \"ham\", \"ham\", \"ham\", \"ham\", \"ham\", \"ham\", \"ham\", \"ham\", \"ham\", \"ham\", \"ham\", \"ham\", \"ham\", \"ham\", \"ham\", \"ham\", \"ham\", \"ham\", \"ham\", \"ham\", \"ham\", \"ham\", \"ham\", \"ham\", \"ham\", \"ham\", \"ham\", \"ham\", \"ham\", \"ham\", \"ham\", \"ham\", \"ham\", \"ham\", \"ham\", \"ham\", \"ham\", \"ham\", \"ham\", \"ham\", \"ham\", \"ham\", \"ham\", \"ham\", \"ham\", \"ham\", \"ham\", \"ham\", \"ham\", \"ham\", \"ham\", \"ham\", \"ham\", \"ham\", \"ham\", \"ham\", \"ham\", \"ham\", \"ham\", \"ham\", \"ham\", \"ham\", \"ham\", \"ham\", \"ham\", \"ham\", \"ham\", \"ham\", \"ham\", \"ham\", \"ham\", \"ham\", \"ham\", \"ham\", \"ham\", \"ham\", \"ham\", \"ham\", \"ham\", \"ham\", \"ham\", \"ham\", \"ham\", \"ham\", \"ham\", \"ham\", \"ham\", \"ham\", \"ham\", \"ham\", \"ham\", \"ham\", \"ham\", \"ham\", \"ham\", \"ham\", \"ham\", \"ham\", \"ham\", \"ham\", \"ham\", \"ham\", \"ham\", \"ham\", \"ham\", \"ham\", \"ham\", \"ham\", \"ham\", \"ham\", \"ham\", \"ham\", \"ham\", \"ham\", \"ham\", \"ham\", \"ham\", \"ham\", \"ham\", \"ham\", \"ham\", \"ham\", \"ham\", \"ham\", \"ham\", \"ham\", \"ham\", \"ham\", \"ham\", \"ham\", \"ham\", \"ham\", \"ham\", \"ham\", \"ham\", \"ham\", \"ham\", \"ham\", \"ham\", \"ham\", \"ham\", \"ham\", \"ham\", \"ham\", \"ham\", \"ham\", \"ham\", \"ham\", \"ham\", \"ham\", \"ham\", \"ham\", \"ham\", \"ham\", \"ham\", \"ham\", \"ham\", \"ham\", \"ham\", \"ham\", \"ham\", \"ham\", \"ham\", \"ham\", \"ham\", \"ham\", \"ham\", \"ham\", \"ham\", \"ham\", \"ham\", \"ham\", \"ham\", \"ham\", \"ham\", \"ham\", \"ham\", \"ham\", \"ham\", \"ham\", \"ham\", \"ham\", \"ham\", \"ham\", \"ham\", \"ham\", \"ham\", \"ham\", \"ham\", \"ham\", \"ham\", \"ham\", \"ham\", \"ham\", \"ham\", \"ham\", \"ham\", \"ham\", \"ham\", \"ham\", \"ham\", \"ham\", \"ham\", \"ham\", \"ham\", \"ham\", \"ham\", \"ham\", \"ham\", \"ham\", \"ham\", \"ham\", \"ham\", \"ham\", \"ham\", \"ham\", \"ham\", \"ham\", \"ham\", \"ham\", \"ham\", \"ham\", \"ham\", \"ham\", \"ham\", \"ham\", \"ham\", \"ham\", \"ham\", \"ham\", \"ham\", \"ham\", \"ham\", \"ham\", \"ham\", \"ham\", \"ham\", \"ham\", \"ham\", \"ham\", \"ham\", \"ham\", \"ham\", \"ham\", \"ham\", \"ham\", \"ham\", \"ham\", \"ham\", \"ham\", \"ham\", \"ham\", \"ham\", \"ham\", \"ham\", \"ham\", \"ham\", \"ham\", \"ham\", \"ham\", \"ham\", \"ham\", \"ham\", \"ham\", \"ham\", \"ham\", \"ham\", \"ham\", \"ham\", \"ham\", \"ham\", \"ham\", \"ham\", \"ham\", \"ham\", \"ham\", \"ham\", \"ham\", \"ham\", \"ham\", \"ham\", \"ham\", \"ham\", \"ham\", \"ham\", \"ham\", \"ham\", \"ham\", \"ham\", \"ham\", \"ham\", \"ham\", \"ham\", \"ham\", \"ham\", \"ham\", \"ham\", \"ham\", \"ham\", \"ham\", \"ham\", \"ham\", \"ham\", \"ham\", \"ham\", \"ham\", \"ham\", \"ham\", \"ham\", \"ham\", \"ham\", \"ham\", \"ham\", \"ham\", \"ham\", \"ham\", \"ham\", \"ham\", \"ham\", \"ham\", \"ham\", \"ham\", \"ham\", \"ham\", \"ham\", \"ham\", \"ham\", \"ham\", \"ham\", \"ham\", \"ham\", \"ham\", \"ham\", \"ham\", \"ham\", \"ham\", \"ham\", \"ham\", \"ham\", \"ham\", \"ham\", \"ham\", \"ham\", \"ham\", \"ham\", \"ham\", \"ham\", \"ham\", \"ham\", \"ham\", \"ham\", \"ham\", \"ham\", \"ham\", \"ham\", \"ham\", \"ham\", \"ham\", \"ham\", \"ham\", \"ham\", \"ham\", \"ham\", \"ham\", \"ham\", \"ham\", \"ham\", \"ham\", \"ham\", \"ham\", \"ham\", \"ham\", \"ham\", \"ham\", \"ham\", \"ham\", \"ham\", \"ham\", \"ham\", \"ham\", \"ham\", \"ham\", \"ham\", \"ham\", \"ham\", \"ham\", \"ham\", \"ham\", \"ham\", \"ham\", \"ham\", \"ham\", \"ham\", \"ham\", \"ham\", \"ham\", \"ham\", \"ham\", \"ham\", \"ham\", \"ham\", \"ham\", \"ham\", \"ham\", \"ham\", \"ham\", \"ham\", \"ham\", \"ham\", \"ham\", \"ham\", \"ham\", \"ham\", \"ham\", \"ham\", \"ham\", \"ham\", \"ham\", \"ham\", \"ham\", \"ham\", \"ham\", \"ham\", \"ham\", \"ham\", \"ham\", \"ham\", \"ham\", \"ham\", \"ham\", \"ham\", \"ham\", \"ham\", \"ham\", \"ham\", \"ham\", \"ham\", \"ham\", \"ham\", \"ham\", \"ham\", \"ham\", \"ham\", \"ham\", \"ham\", \"ham\", \"ham\", \"ham\", \"ham\", \"ham\", \"ham\", \"ham\", \"ham\", \"ham\", \"ham\", \"ham\", \"ham\", \"ham\", \"ham\", \"ham\", \"ham\", \"ham\", \"ham\", \"ham\", \"ham\", \"ham\", \"ham\", \"ham\", \"ham\", \"ham\", \"ham\", \"ham\", \"ham\", \"ham\", \"ham\", \"ham\", \"ham\", \"ham\", \"ham\", \"ham\", \"ham\", \"ham\", \"ham\", \"ham\", \"ham\", \"ham\", \"ham\", \"ham\", \"ham\", \"ham\", \"ham\", \"ham\", \"ham\", \"ham\", \"ham\", \"ham\", \"ham\", \"ham\", \"ham\", \"ham\", \"ham\", \"ham\", \"ham\", \"ham\", \"ham\", \"ham\", \"ham\", \"ham\", \"ham\", \"ham\", \"ham\", \"ham\", \"ham\", \"ham\", \"ham\", \"ham\", \"ham\", \"ham\", \"ham\", \"ham\", \"ham\", \"ham\", \"ham\", \"ham\", \"ham\", \"ham\", \"ham\", \"ham\", \"ham\", \"ham\", \"ham\", \"ham\", \"ham\", \"ham\", \"ham\", \"ham\", \"ham\", \"ham\", \"ham\", \"ham\", \"ham\", \"ham\", \"ham\", \"ham\", \"ham\", \"ham\", \"ham\", \"ham\", \"ham\", \"ham\", \"ham\", \"ham\", \"ham\", \"ham\", \"ham\", \"ham\", \"ham\", \"ham\", \"ham\", \"ham\", \"ham\", \"ham\", \"ham\", \"ham\", \"ham\", \"ham\", \"ham\", \"ham\", \"ham\", \"ham\", \"ham\", \"ham\", \"ham\", \"ham\", \"ham\", \"ham\", \"ham\", \"ham\", \"ham\", \"ham\", \"ham\", \"ham\", \"ham\", \"ham\", \"ham\", \"ham\", \"ham\", \"ham\", \"ham\", \"ham\", \"ham\", \"ham\", \"ham\", \"ham\", \"ham\", \"ham\", \"ham\", \"ham\", \"ham\", \"ham\", \"ham\", \"ham\", \"ham\", \"ham\", \"ham\", \"ham\", \"ham\", \"ham\", \"ham\", \"ham\", \"ham\", \"ham\", \"ham\", \"ham\", \"ham\", \"ham\", \"ham\", \"ham\", \"ham\", \"ham\", \"ham\", \"ham\", \"ham\", \"ham\", \"ham\", \"ham\", \"ham\", \"ham\", \"ham\", \"ham\", \"ham\", \"ham\", \"ham\", \"ham\", \"ham\", \"ham\", \"ham\", \"ham\", \"ham\", \"ham\", \"ham\", \"ham\", \"ham\", \"ham\", \"ham\", \"ham\", \"ham\", \"ham\", \"ham\", \"ham\", \"ham\", \"ham\", \"ham\", \"ham\", \"ham\", \"ham\", \"ham\", \"ham\", \"ham\", \"ham\", \"ham\", \"ham\", \"ham\", \"ham\", \"ham\", \"ham\", \"ham\", \"ham\", \"ham\", \"ham\", \"ham\", \"ham\", \"ham\", \"ham\", \"ham\", \"ham\", \"ham\", \"ham\", \"ham\", \"ham\", \"ham\", \"ham\", \"ham\", \"ham\", \"ham\", \"ham\", \"ham\", \"ham\", \"ham\", \"ham\", \"ham\", \"ham\", \"ham\", \"ham\", \"ham\", \"ham\", \"ham\", \"ham\", \"ham\", \"ham\", \"ham\", \"ham\", \"ham\", \"ham\", \"ham\", \"ham\", \"ham\", \"ham\", \"ham\", \"ham\", \"ham\", \"ham\", \"ham\", \"ham\", \"ham\", \"ham\", \"ham\", \"ham\", \"ham\", \"ham\", \"ham\", \"ham\", \"ham\", \"ham\", \"ham\", \"ham\", \"ham\", \"ham\", \"ham\", \"ham\", \"ham\", \"ham\", \"ham\", \"ham\", \"ham\", \"ham\", \"ham\", \"ham\", \"ham\", \"ham\", \"ham\", \"ham\", \"ham\", \"ham\", \"ham\", \"ham\", \"ham\", \"ham\", \"ham\", \"ham\", \"ham\", \"ham\", \"ham\", \"ham\", \"ham\", \"ham\", \"ham\", \"ham\", \"ham\", \"ham\", \"ham\", \"ham\", \"ham\", \"ham\", \"ham\", \"ham\", \"ham\", \"ham\", \"ham\", \"ham\", \"ham\", \"ham\", \"ham\", \"ham\", \"ham\", \"ham\", \"ham\", \"ham\", \"ham\", \"ham\", \"ham\", \"ham\", \"ham\", \"ham\", \"ham\", \"ham\", \"ham\", \"ham\", \"ham\", \"ham\", \"ham\", \"ham\", \"ham\", \"ham\", \"ham\", \"ham\", \"ham\", \"ham\", \"ham\", \"ham\", \"ham\", \"ham\", \"ham\", \"ham\", \"ham\", \"ham\", \"ham\", \"ham\", \"ham\", \"ham\", \"ham\", \"ham\", \"ham\", \"ham\", \"ham\", \"ham\", \"ham\", \"ham\", \"ham\", \"ham\", \"ham\", \"ham\", \"ham\", \"ham\", \"ham\", \"ham\", \"ham\", \"ham\", \"ham\", \"ham\", \"ham\", \"ham\", \"ham\", \"ham\", \"ham\", \"ham\", \"ham\", \"ham\", \"ham\", \"ham\", \"ham\", \"ham\", \"ham\", \"ham\", \"ham\", \"ham\", \"ham\", \"ham\", \"ham\", \"ham\", \"ham\", \"ham\", \"ham\", \"ham\", \"ham\", \"ham\", \"ham\", \"ham\", \"ham\", \"ham\", \"ham\", \"ham\", \"ham\", \"ham\", \"ham\", \"ham\", \"ham\", \"ham\", \"ham\", \"ham\", \"ham\", \"ham\", \"ham\", \"ham\", \"ham\", \"ham\", \"ham\", \"ham\", \"ham\", \"ham\", \"ham\", \"ham\", \"ham\", \"ham\", \"ham\", \"ham\", \"ham\", \"ham\", \"ham\", \"ham\", \"ham\", \"ham\", \"ham\", \"ham\", \"ham\", \"ham\", \"ham\", \"ham\", \"ham\", \"ham\", \"ham\", \"ham\", \"ham\", \"ham\", \"ham\", \"ham\", \"ham\", \"ham\", \"ham\", \"ham\", \"ham\", \"ham\", \"ham\", \"ham\", \"ham\", \"ham\", \"ham\", \"ham\", \"ham\", \"ham\", \"ham\", \"ham\", \"ham\", \"ham\", \"ham\", \"ham\", \"ham\", \"ham\", \"ham\", \"ham\", \"ham\", \"ham\", \"ham\", \"ham\", \"ham\", \"ham\", \"ham\", \"ham\", \"ham\", \"ham\", \"ham\", \"ham\", \"ham\", \"ham\", \"ham\", \"ham\", \"ham\", \"ham\", \"ham\", \"ham\", \"ham\", \"ham\", \"ham\", \"ham\", \"ham\", \"ham\", \"ham\", \"ham\", \"ham\", \"ham\", \"ham\", \"ham\", \"ham\", \"ham\", \"ham\", \"ham\", \"ham\", \"ham\", \"ham\", \"ham\", \"ham\", \"ham\", \"ham\", \"ham\", \"ham\", \"ham\", \"ham\", \"ham\", \"ham\", \"ham\", \"ham\", \"ham\", \"ham\", \"ham\", \"ham\", \"ham\", \"ham\", \"ham\", \"ham\", \"ham\", \"ham\", \"ham\", \"ham\", \"ham\", \"ham\", \"ham\", \"ham\", \"ham\", \"ham\", \"ham\", \"ham\", \"ham\", \"ham\", \"ham\", \"ham\", \"ham\", \"ham\", \"ham\", \"ham\", \"ham\", \"ham\", \"ham\", \"ham\", \"ham\", \"ham\", \"ham\", \"ham\", \"ham\", \"ham\", \"ham\", \"ham\", \"ham\", \"ham\", \"ham\", \"ham\", \"ham\", \"ham\", \"ham\", \"ham\", \"ham\", \"ham\", \"ham\", \"ham\", \"ham\", \"ham\", \"ham\", \"ham\", \"ham\", \"ham\", \"ham\", \"ham\", \"ham\", \"ham\", \"ham\", \"ham\", \"ham\", \"ham\", \"ham\", \"ham\", \"ham\", \"ham\", \"ham\", \"ham\", \"ham\", \"ham\", \"ham\", \"ham\", \"ham\", \"ham\", \"ham\", \"ham\", \"ham\", \"ham\", \"ham\", \"ham\", \"ham\", \"ham\", \"ham\", \"ham\", \"ham\", \"ham\", \"ham\", \"ham\", \"ham\", \"ham\", \"ham\", \"ham\", \"ham\", \"ham\", \"ham\", \"ham\", \"ham\", \"ham\", \"ham\", \"ham\", \"ham\", \"ham\", \"ham\", \"ham\", \"ham\", \"ham\", \"ham\", \"ham\", \"ham\", \"ham\", \"ham\", \"ham\", \"ham\", \"ham\", \"ham\", \"ham\", \"ham\", \"ham\", \"ham\", \"ham\", \"ham\", \"ham\", \"ham\", \"ham\", \"ham\", \"ham\", \"ham\", \"ham\", \"ham\", \"ham\", \"ham\", \"ham\", \"ham\", \"ham\", \"ham\", \"ham\", \"ham\", \"ham\", \"ham\", \"ham\", \"ham\", \"ham\", \"ham\", \"ham\", \"ham\", \"ham\", \"ham\", \"ham\", \"ham\", \"ham\", \"ham\", \"ham\", \"ham\", \"ham\", \"ham\", \"ham\", \"ham\", \"ham\", \"ham\", \"ham\", \"ham\", \"ham\", \"ham\", \"ham\", \"ham\", \"ham\", \"ham\", \"ham\", \"ham\", \"ham\", \"ham\", \"ham\", \"ham\", \"ham\", \"ham\", \"ham\", \"ham\", \"ham\", \"ham\", \"ham\", \"ham\", \"ham\", \"ham\", \"ham\", \"ham\", \"ham\", \"ham\", \"ham\", \"ham\", \"ham\", \"ham\", \"ham\", \"ham\", \"ham\", \"ham\", \"ham\", \"ham\", \"ham\", \"ham\", \"ham\", \"ham\", \"ham\", \"ham\", \"ham\", \"ham\", \"ham\", \"ham\", \"ham\", \"ham\", \"ham\", \"ham\", \"ham\", \"ham\", \"ham\", \"ham\", \"ham\", \"ham\", \"ham\", \"ham\", \"ham\", \"ham\", \"ham\", \"ham\", \"ham\", \"ham\", \"ham\", \"ham\", \"ham\", \"ham\", \"ham\", \"ham\", \"ham\", \"ham\", \"ham\", \"ham\", \"ham\", \"ham\", \"ham\", \"ham\", \"ham\", \"ham\", \"ham\", \"ham\", \"ham\", \"ham\", \"ham\", \"ham\", \"ham\", \"ham\", \"ham\", \"ham\", \"ham\", \"ham\", \"ham\", \"ham\", \"ham\", \"ham\", \"ham\", \"ham\", \"ham\", \"ham\", \"ham\", \"ham\", \"ham\", \"ham\", \"ham\", \"ham\", \"ham\", \"ham\", \"ham\", \"ham\", \"ham\", \"ham\", \"ham\", \"ham\", \"ham\", \"ham\", \"ham\", \"ham\", \"ham\", \"ham\", \"ham\", \"ham\", \"ham\", \"ham\", \"ham\", \"ham\", \"ham\", \"ham\", \"ham\", \"ham\", \"ham\", \"ham\", \"ham\", \"ham\", \"ham\", \"ham\", \"ham\", \"ham\", \"ham\", \"ham\", \"ham\", \"ham\", \"ham\", \"ham\", \"ham\", \"ham\", \"ham\", \"ham\", \"ham\", \"ham\", \"ham\", \"ham\", \"ham\", \"ham\", \"ham\", \"ham\", \"ham\", \"ham\", \"ham\", \"ham\", \"ham\", \"ham\", \"ham\", \"ham\", \"ham\", \"ham\", \"ham\", \"ham\", \"ham\", \"ham\", \"ham\", \"ham\", \"ham\", \"ham\", \"ham\", \"ham\", \"ham\", \"ham\", \"ham\", \"ham\", \"ham\", \"ham\", \"ham\", \"ham\", \"ham\", \"ham\", \"ham\", \"ham\", \"ham\", \"ham\", \"ham\", \"ham\", \"ham\", \"ham\", \"ham\", \"ham\", \"ham\", \"ham\", \"ham\", \"ham\", \"ham\", \"ham\", \"ham\", \"ham\", \"ham\", \"ham\", \"ham\", \"ham\", \"ham\", \"ham\", \"ham\", \"ham\", \"ham\", \"ham\", \"ham\", \"ham\", \"ham\", \"ham\", \"ham\", \"ham\", \"ham\", \"ham\", \"ham\", \"ham\", \"ham\", \"ham\", \"ham\", \"ham\", \"ham\", \"ham\", \"ham\", \"ham\", \"ham\", \"ham\", \"ham\", \"ham\", \"ham\", \"ham\", \"ham\", \"ham\", \"ham\", \"ham\", \"ham\", \"ham\", \"ham\", \"ham\", \"ham\", \"ham\", \"ham\", \"ham\", \"ham\", \"ham\", \"ham\", \"ham\", \"ham\", \"ham\", \"ham\", \"ham\", \"ham\", \"ham\", \"ham\", \"ham\", \"ham\", \"ham\", \"ham\", \"ham\", \"ham\", \"ham\", \"ham\", \"ham\", \"ham\", \"ham\", \"ham\", \"ham\", \"ham\", \"ham\", \"ham\", \"ham\", \"ham\", \"ham\", \"ham\", \"ham\", \"ham\", \"ham\", \"ham\", \"ham\", \"ham\", \"ham\", \"ham\", \"ham\", \"ham\", \"ham\", \"ham\", \"ham\", \"ham\", \"ham\", \"ham\", \"ham\", \"ham\", \"ham\", \"ham\", \"ham\", \"ham\", \"ham\", \"ham\", \"ham\", \"ham\", \"ham\", \"ham\", \"ham\", \"ham\", \"ham\", \"ham\", \"ham\", \"ham\", \"ham\", \"ham\", \"ham\", \"ham\", \"ham\", \"ham\", \"ham\", \"ham\", \"ham\", \"ham\", \"ham\", \"ham\", \"ham\", \"ham\", \"ham\", \"ham\", \"ham\", \"ham\", \"ham\", \"ham\", \"ham\", \"ham\", \"ham\", \"ham\", \"ham\", \"ham\", \"ham\", \"ham\", \"ham\", \"ham\", \"ham\", \"ham\", \"ham\", \"ham\", \"ham\", \"ham\", \"ham\", \"ham\", \"ham\", \"ham\", \"ham\", \"ham\", \"ham\", \"ham\", \"ham\", \"ham\", \"ham\", \"ham\", \"ham\", \"ham\", \"ham\", \"ham\", \"ham\", \"ham\", \"ham\", \"ham\", \"ham\", \"ham\", \"ham\", \"ham\", \"ham\", \"ham\", \"ham\", \"ham\", \"ham\", \"ham\", \"ham\", \"ham\", \"ham\", \"ham\", \"ham\", \"ham\", \"ham\", \"ham\", \"ham\", \"ham\", \"ham\", \"ham\", \"ham\", \"ham\", \"ham\", \"ham\", \"ham\", \"ham\", \"ham\", \"ham\", \"ham\", \"ham\", \"ham\", \"ham\", \"ham\", \"ham\", \"ham\", \"ham\", \"ham\", \"ham\", \"ham\", \"ham\", \"ham\", \"ham\", \"ham\", \"ham\", \"ham\", \"ham\", \"ham\", \"ham\", \"ham\", \"ham\", \"ham\", \"ham\", \"ham\", \"ham\", \"ham\", \"ham\", \"ham\", \"ham\", \"ham\", \"ham\", \"ham\", \"ham\", \"ham\", \"ham\", \"ham\", \"ham\", \"ham\", \"ham\", \"ham\", \"ham\", \"ham\", \"ham\", \"ham\", \"ham\", \"ham\", \"ham\", \"ham\", \"ham\", \"ham\", \"ham\", \"ham\", \"ham\", \"ham\", \"ham\", \"ham\", \"ham\", \"ham\", \"ham\", \"ham\", \"ham\", \"ham\", \"ham\", \"ham\", \"ham\", \"ham\", \"ham\", \"ham\", \"ham\", \"ham\", \"ham\", \"ham\", \"ham\", \"ham\", \"ham\", \"ham\", \"ham\", \"ham\", \"ham\", \"ham\", \"ham\", \"ham\", \"ham\", \"ham\", \"ham\", \"ham\", \"ham\", \"ham\", \"ham\", \"ham\", \"ham\", \"ham\", \"ham\", \"ham\", \"ham\", \"ham\", \"ham\", \"ham\", \"ham\", \"ham\", \"ham\", \"ham\", \"ham\", \"ham\", \"ham\", \"ham\", \"ham\", \"ham\", \"ham\", \"ham\", \"ham\", \"ham\", \"ham\", \"ham\", \"ham\", \"ham\", \"ham\", \"ham\", \"ham\", \"ham\", \"ham\", \"ham\", \"ham\", \"ham\", \"ham\", \"ham\", \"ham\", \"ham\", \"ham\", \"ham\", \"ham\", \"ham\", \"ham\", \"ham\", \"ham\", \"ham\", \"ham\", \"ham\", \"ham\", \"ham\", \"ham\", \"ham\", \"ham\", \"ham\", \"ham\", \"ham\", \"ham\", \"ham\", \"ham\", \"ham\", \"ham\", \"ham\", \"ham\", \"ham\", \"ham\", \"ham\", \"ham\", \"ham\", \"ham\", \"ham\", \"ham\", \"ham\", \"ham\", \"ham\", \"ham\", \"ham\", \"ham\", \"ham\", \"ham\", \"ham\", \"ham\", \"ham\", \"ham\", \"ham\", \"ham\", \"ham\", \"ham\", \"ham\", \"ham\", \"ham\", \"ham\", \"ham\", \"ham\", \"ham\", \"ham\", \"ham\", \"ham\", \"ham\", \"ham\", \"ham\", \"ham\", \"ham\", \"ham\", \"ham\", \"ham\", \"ham\", \"ham\", \"ham\", \"ham\", \"ham\", \"ham\", \"ham\", \"ham\", \"ham\", \"ham\", \"ham\", \"ham\", \"ham\", \"ham\", \"ham\", \"ham\", \"ham\", \"ham\", \"ham\", \"ham\", \"ham\", \"ham\", \"ham\", \"ham\", \"ham\", \"ham\", \"ham\", \"ham\", \"ham\", \"ham\", \"ham\", \"ham\", \"ham\", \"ham\", \"ham\", \"ham\", \"ham\", \"ham\", \"ham\", \"ham\", \"ham\", \"ham\", \"ham\", \"ham\", \"ham\", \"ham\", \"ham\", \"ham\", \"ham\", \"ham\", \"ham\", \"ham\", \"ham\", \"ham\", \"ham\", \"ham\", \"ham\", \"ham\", \"ham\", \"ham\", \"ham\", \"ham\", \"ham\", \"ham\", \"ham\", \"ham\", \"ham\", \"ham\", \"ham\", \"ham\", \"ham\", \"ham\", \"ham\", \"ham\", \"ham\", \"ham\", \"ham\", \"ham\", \"ham\", \"ham\", \"ham\", \"ham\", \"ham\", \"ham\", \"ham\", \"ham\", \"ham\", \"ham\", \"ham\", \"ham\", \"ham\", \"ham\", \"ham\", \"ham\", \"ham\", \"ham\", \"ham\", \"ham\", \"ham\", \"ham\", \"ham\", \"ham\", \"ham\", \"ham\", \"ham\", \"ham\", \"ham\", \"ham\", \"ham\", \"ham\", \"ham\", \"ham\", \"ham\", \"ham\", \"ham\", \"ham\", \"ham\", \"ham\", \"ham\", \"ham\", \"ham\", \"ham\", \"ham\", \"ham\", \"ham\", \"ham\", \"ham\", \"ham\", \"ham\", \"ham\", \"ham\", \"ham\", \"ham\", \"ham\", \"ham\", \"ham\", \"ham\", \"ham\", \"ham\", \"ham\", \"ham\", \"ham\", \"ham\", \"ham\", \"ham\", \"ham\", \"ham\", \"ham\", \"ham\", \"ham\", \"ham\", \"ham\", \"ham\", \"ham\", \"ham\", \"ham\", \"ham\", \"ham\", \"ham\", \"ham\", \"ham\", \"ham\", \"ham\", \"ham\", \"ham\", \"ham\", \"ham\", \"ham\", \"ham\", \"ham\", \"ham\", \"ham\", \"ham\", \"ham\", \"ham\", \"ham\", \"ham\", \"ham\", \"ham\", \"ham\", \"ham\", \"ham\", \"ham\", \"ham\", \"ham\", \"ham\", \"ham\", \"ham\", \"ham\", \"ham\", \"ham\", \"ham\", \"ham\", \"ham\", \"ham\", \"ham\", \"ham\", \"ham\", \"ham\", \"ham\", \"ham\", \"ham\", \"ham\", \"ham\", \"ham\", \"ham\", \"ham\", \"ham\", \"ham\", \"ham\", \"ham\", \"ham\", \"ham\", \"ham\", \"ham\", \"ham\", \"ham\", \"ham\", \"ham\", \"ham\", \"ham\", \"ham\", \"ham\", \"ham\", \"ham\", \"ham\", \"ham\", \"ham\", \"ham\", \"ham\", \"ham\", \"ham\", \"ham\", \"ham\", \"ham\", \"ham\", \"ham\", \"ham\", \"ham\", \"ham\", \"ham\", \"ham\", \"ham\", \"ham\", \"ham\", \"ham\", \"ham\", \"ham\", \"ham\", \"ham\", \"ham\", \"ham\", \"ham\", \"ham\", \"ham\", \"ham\", \"ham\", \"ham\", \"ham\", \"ham\", \"ham\", \"ham\", \"ham\", \"ham\", \"ham\", \"ham\", \"ham\", \"ham\", \"ham\", \"ham\", \"ham\", \"ham\", \"ham\", \"ham\", \"ham\", \"ham\", \"ham\", \"ham\", \"ham\", \"ham\", \"ham\", \"ham\", \"ham\", \"ham\", \"ham\", \"ham\", \"ham\", \"ham\", \"ham\", \"ham\", \"ham\", \"ham\", \"ham\", \"ham\", \"ham\", \"ham\", \"ham\", \"ham\", \"ham\", \"ham\", \"ham\", \"ham\", \"ham\", \"ham\", \"ham\", \"ham\", \"ham\", \"ham\", \"ham\", \"ham\", \"ham\", \"ham\", \"ham\", \"ham\", \"ham\", \"ham\", \"ham\", \"ham\", \"ham\", \"ham\", \"ham\", \"ham\", \"ham\", \"ham\", \"ham\", \"ham\", \"ham\", \"ham\", \"ham\", \"ham\", \"ham\", \"ham\", \"ham\", \"ham\", \"ham\", \"ham\", \"ham\", \"ham\", \"ham\", \"ham\", \"ham\", \"ham\", \"ham\", \"ham\", \"ham\", \"ham\", \"ham\", \"ham\", \"ham\", \"ham\", \"ham\", \"ham\", \"ham\", \"ham\", \"ham\", \"ham\", \"ham\", \"ham\", \"ham\", \"ham\", \"ham\", \"ham\", \"ham\", \"ham\", \"ham\", \"ham\", \"ham\", \"ham\", \"ham\", \"ham\", \"ham\", \"ham\", \"ham\", \"ham\", \"ham\", \"ham\", \"ham\", \"ham\", \"ham\", \"ham\", \"ham\", \"ham\", \"ham\", \"ham\", \"ham\", \"ham\", \"ham\", \"ham\", \"ham\", \"ham\", \"ham\", \"ham\", \"ham\", \"ham\", \"ham\", \"ham\", \"ham\", \"ham\", \"ham\", \"ham\", \"ham\", \"ham\", \"ham\", \"ham\", \"ham\", \"ham\", \"ham\", \"ham\", \"ham\", \"ham\", \"ham\", \"ham\", \"ham\", \"ham\", \"ham\", \"ham\", \"ham\", \"ham\", \"ham\", \"ham\", \"ham\", \"ham\", \"ham\", \"ham\", \"ham\", \"ham\", \"ham\", \"ham\", \"ham\", \"ham\", \"ham\", \"ham\", \"ham\", \"ham\", \"ham\", \"ham\", \"ham\", \"ham\", \"ham\", \"ham\", \"ham\", \"ham\", \"ham\", \"ham\", \"ham\", \"ham\", \"ham\", \"ham\", \"ham\", \"ham\", \"ham\", \"ham\", \"ham\", \"ham\", \"ham\", \"ham\", \"ham\", \"ham\", \"ham\", \"ham\", \"ham\", \"ham\", \"ham\", \"ham\", \"ham\", \"ham\", \"ham\", \"ham\", \"ham\", \"ham\", \"ham\", \"ham\", \"ham\", \"ham\", \"ham\", \"ham\", \"ham\", \"ham\", \"ham\", \"ham\", \"ham\", \"ham\", \"ham\", \"ham\", \"ham\", \"ham\", \"ham\", \"ham\", \"ham\", \"ham\", \"ham\", \"ham\", \"ham\", \"ham\", \"ham\", \"ham\", \"ham\", \"ham\", \"ham\", \"ham\", \"ham\", \"ham\", \"ham\", \"ham\", \"ham\", \"ham\", \"ham\", \"ham\", \"ham\", \"ham\", \"ham\", \"ham\", \"ham\", \"ham\", \"ham\", \"ham\", \"ham\", \"ham\", \"ham\", \"ham\", \"ham\", \"ham\", \"ham\", \"ham\", \"ham\", \"ham\", \"ham\", \"ham\", \"ham\", \"ham\", \"ham\", \"ham\", \"ham\", \"ham\", \"ham\", \"ham\", \"ham\", \"ham\", \"ham\", \"ham\", \"ham\", \"ham\", \"ham\", \"ham\", \"ham\", \"ham\", \"ham\", \"ham\", \"ham\", \"ham\", \"ham\", \"ham\", \"ham\", \"ham\", \"ham\", \"ham\", \"ham\", \"ham\", \"ham\", \"ham\", \"ham\", \"ham\", \"ham\", \"ham\", \"ham\", \"ham\", \"ham\", \"ham\", \"ham\", \"ham\", \"ham\", \"ham\", \"ham\", \"ham\", \"ham\", \"ham\", \"ham\", \"ham\", \"ham\", \"ham\", \"ham\", \"ham\", \"ham\", \"ham\", \"ham\", \"ham\", \"ham\", \"ham\", \"ham\", \"ham\", \"ham\", \"ham\", \"ham\", \"ham\", \"ham\", \"ham\", \"ham\", \"ham\", \"ham\", \"ham\", \"ham\", \"ham\", \"ham\", \"ham\", \"ham\", \"ham\", \"ham\", \"ham\", \"ham\", \"ham\", \"ham\", \"ham\", \"ham\", \"ham\", \"ham\", \"ham\", \"ham\", \"ham\", \"ham\", \"ham\", \"ham\", \"ham\", \"ham\", \"ham\", \"ham\", \"ham\", \"ham\", \"ham\", \"ham\", \"ham\", \"ham\", \"ham\", \"ham\", \"ham\", \"ham\", \"ham\", \"ham\", \"ham\", \"ham\", \"ham\", \"ham\", \"ham\", \"ham\", \"ham\", \"ham\", \"ham\", \"ham\", \"ham\", \"ham\", \"ham\", \"ham\", \"ham\", \"ham\", \"ham\", \"ham\", \"ham\", \"ham\", \"ham\", \"ham\", \"ham\", \"ham\", \"ham\", \"ham\", \"ham\", \"ham\", \"ham\", \"ham\", \"ham\", \"ham\", \"ham\", \"ham\", \"ham\", \"ham\", \"ham\", \"ham\", \"ham\", \"ham\", \"ham\", \"ham\", \"ham\", \"ham\", \"ham\", \"ham\", \"ham\", \"ham\", \"ham\", \"ham\", \"ham\", \"ham\", \"ham\", \"ham\", \"ham\", \"ham\", \"ham\", \"ham\", \"ham\", \"ham\", \"ham\", \"ham\", \"ham\", \"ham\", \"ham\", \"ham\", \"ham\", \"ham\", \"ham\", \"ham\", \"ham\", \"ham\", \"ham\", \"ham\", \"ham\", \"ham\", \"ham\", \"ham\", \"ham\", \"ham\", \"ham\", \"ham\", \"ham\", \"ham\", \"ham\", \"ham\", \"ham\", \"ham\", \"ham\", \"ham\", \"ham\", \"ham\", \"ham\", \"ham\", \"ham\", \"ham\", \"ham\", \"ham\", \"ham\", \"ham\", \"ham\", \"ham\", \"ham\", \"ham\", \"ham\", \"ham\", \"ham\", \"ham\"], \"yaxis\": \"y\"}, {\"alignmentgroup\": \"True\", \"bingroup\": \"x\", \"hoverlabel\": {\"namelength\": 0}, \"hovertemplate\": \"label=spam<br>text_len=%{x}<br>count of label=%{y}\", \"legendgroup\": \"label=spam\", \"marker\": {\"color\": \"#EF553B\"}, \"name\": \"label=spam\", \"offsetgroup\": \"label=spam\", \"orientation\": \"v\", \"showlegend\": true, \"type\": \"histogram\", \"x\": [98, 81, 95, 92, 73, 83, 111, 86, 95, 100, 100, 64, 83, 97, 40, 65, 92, 83, 83, 90, 72, 105, 83, 122, 97, 102, 84, 84, 95, 102, 85, 75, 45, 56, 95, 102, 68, 90, 97, 80, 84, 94, 96, 102, 85, 99, 73, 91, 88, 84, 83, 90, 68, 98, 78, 98, 80, 92, 78, 19, 62, 82, 71, 72, 86, 94, 119, 87, 114, 97, 64, 67, 71, 88, 54, 61, 101, 72, 82, 66, 83, 16, 54, 88, 70, 79, 78, 54, 75, 71, 92, 87, 102, 78, 24, 27, 63, 80, 80, 56, 113, 96, 4, 56, 73, 79, 83, 69, 62, 47, 58, 54, 77, 62, 89, 105, 99, 94, 95, 67, 93, 81, 106, 101, 88, 109, 96, 108, 105, 89, 101, 96, 113, 85, 85, 82, 84, 101, 68, 76, 80, 92, 118, 96, 70, 98, 85, 77, 70, 28, 77, 102, 75, 101, 92, 73, 41, 62, 83, 89, 85, 69, 77, 53, 75, 76, 98, 112, 16, 87, 96, 86, 55, 58, 54, 81, 62, 98, 96, 89, 25, 82, 82, 25, 80, 84, 102, 66, 46, 59, 57, 42, 103, 121, 101, 66, 89, 56, 90, 67, 90, 80, 111, 74, 96, 53, 89, 90, 104, 72, 66, 56, 79, 83, 71, 106, 73, 64, 109, 78, 54, 117, 66, 86, 78, 94, 72, 112, 68, 42, 75, 112, 84, 99, 69, 55, 97, 83, 46, 110, 79, 83, 91, 87, 91, 124, 93, 76, 68, 66, 14, 126, 94, 94, 78, 99, 91, 93, 75, 69, 75, 44, 96, 68, 70, 97, 96, 85, 87, 105, 73, 90, 79, 87, 73, 33, 67, 58, 101, 76, 100, 71, 83, 92, 78, 56, 112, 88, 82, 22, 102, 102, 90, 100, 89, 80, 136, 83, 67, 83, 103, 136, 82, 84, 95, 56, 83, 78, 89, 122, 62, 89, 96, 88, 66, 9, 100, 23, 100, 64, 82, 95, 54, 87, 82, 67, 89, 76, 46, 99, 111, 104, 87, 58, 83, 90, 54, 104, 84, 93, 68, 102, 88, 105, 84, 72, 55, 51, 95, 33, 102, 81, 73, 62, 79, 101, 102, 95, 53, 56, 71, 55, 97, 112, 77, 101, 83, 97, 81, 9, 114, 102, 65, 83, 97, 107, 54, 106, 97, 73, 69, 79, 31, 91, 97, 91, 101, 87, 82, 44, 90, 82, 27, 82, 87, 94, 99, 72, 72, 105, 23, 58, 67, 88, 82, 92, 74, 81, 73, 86, 44, 94, 44, 103, 89, 96, 93, 69, 108, 76, 87, 67, 88, 86, 87, 88, 47, 56, 83, 93, 69, 78, 83, 95, 73, 75, 87, 102, 25, 72, 76, 110, 86, 32, 97, 57, 32, 75, 104, 46, 68, 83, 102, 78, 110, 83, 40, 112, 115, 93, 76, 96, 120, 60, 67, 77, 90, 57, 84, 92, 63, 90, 87, 86, 80, 39, 74, 96, 80, 82, 68, 101, 102, 68, 101, 106, 92, 95, 113, 54, 94, 80, 79, 122, 75, 0, 102, 67, 58, 92, 72, 70, 25, 109, 93, 97, 85, 84, 114, 111, 91, 100, 60, 67, 47, 86, 75, 80, 68, 72, 105, 54, 103, 79, 71, 73, 68, 78, 102, 12, 48, 75, 58, 89, 66, 84, 75, 50, 89, 96, 75, 26, 95, 89, 93, 63, 98, 68, 61, 108, 78, 79, 115, 68, 73, 75, 98, 96, 93, 115, 83, 106, 92, 81, 86, 87, 80, 92, 109, 88, 114, 45, 92, 83, 88, 76, 49, 110, 113, 69, 111, 95, 41, 96, 46, 100, 87, 69, 101, 68, 113, 54, 84, 80, 81, 85, 102, 38, 90, 55, 78, 97, 93, 29, 37, 71, 103, 43, 28, 101, 94, 109, 79, 85, 30, 77, 117, 89, 70, 76, 70, 102, 76, 80, 65, 108, 85, 102, 87, 78, 92, 96, 61, 78, 106, 100, 126, 76, 111, 106, 72, 84, 50, 85, 75, 98, 90, 56, 94, 63, 78, 68, 112, 58, 80, 81, 87, 98, 74, 75, 144, 105, 69, 96, 79, 71, 70, 90, 101, 83, 81, 80, 122, 102, 78, 70, 66, 82, 72, 82, 69, 61, 90, 78, 84, 101, 62, 55, 102, 111, 112, 23, 92, 121, 25, 76, 95, 96, 102, 79, 86, 101, 99, 108, 76, 100, 69, 83, 96, 80, 71, 85, 72, 83, 94, 92, 106, 113, 59, 76, 87, 100, 85, 52, 82, 16, 71, 91, 56, 67, 91, 78, 55, 96, 71, 88, 88, 101, 103, 78, 75, 82, 48, 101, 117, 98, 72], \"xaxis\": \"x\", \"y\": [\"spam\", \"spam\", \"spam\", \"spam\", \"spam\", \"spam\", \"spam\", \"spam\", \"spam\", \"spam\", \"spam\", \"spam\", \"spam\", \"spam\", \"spam\", \"spam\", \"spam\", \"spam\", \"spam\", \"spam\", \"spam\", \"spam\", \"spam\", \"spam\", \"spam\", \"spam\", \"spam\", \"spam\", \"spam\", \"spam\", \"spam\", \"spam\", \"spam\", \"spam\", \"spam\", \"spam\", \"spam\", \"spam\", \"spam\", \"spam\", \"spam\", \"spam\", \"spam\", \"spam\", \"spam\", \"spam\", \"spam\", \"spam\", \"spam\", \"spam\", \"spam\", \"spam\", \"spam\", \"spam\", \"spam\", \"spam\", \"spam\", \"spam\", \"spam\", \"spam\", \"spam\", \"spam\", \"spam\", \"spam\", \"spam\", \"spam\", \"spam\", \"spam\", \"spam\", \"spam\", \"spam\", \"spam\", \"spam\", \"spam\", \"spam\", \"spam\", \"spam\", \"spam\", \"spam\", \"spam\", \"spam\", \"spam\", \"spam\", \"spam\", \"spam\", \"spam\", \"spam\", \"spam\", \"spam\", \"spam\", \"spam\", \"spam\", \"spam\", \"spam\", \"spam\", \"spam\", \"spam\", \"spam\", \"spam\", \"spam\", \"spam\", \"spam\", \"spam\", \"spam\", \"spam\", \"spam\", \"spam\", \"spam\", \"spam\", \"spam\", \"spam\", \"spam\", \"spam\", \"spam\", \"spam\", \"spam\", \"spam\", \"spam\", \"spam\", \"spam\", \"spam\", \"spam\", \"spam\", \"spam\", \"spam\", \"spam\", \"spam\", \"spam\", \"spam\", \"spam\", \"spam\", \"spam\", \"spam\", \"spam\", \"spam\", \"spam\", \"spam\", \"spam\", \"spam\", \"spam\", \"spam\", \"spam\", \"spam\", \"spam\", \"spam\", \"spam\", \"spam\", \"spam\", \"spam\", \"spam\", \"spam\", \"spam\", \"spam\", \"spam\", \"spam\", \"spam\", \"spam\", \"spam\", \"spam\", \"spam\", \"spam\", \"spam\", \"spam\", \"spam\", \"spam\", \"spam\", \"spam\", \"spam\", \"spam\", \"spam\", \"spam\", \"spam\", \"spam\", \"spam\", \"spam\", \"spam\", \"spam\", \"spam\", \"spam\", \"spam\", \"spam\", \"spam\", \"spam\", \"spam\", \"spam\", \"spam\", \"spam\", \"spam\", \"spam\", \"spam\", \"spam\", \"spam\", \"spam\", \"spam\", \"spam\", \"spam\", \"spam\", \"spam\", \"spam\", \"spam\", \"spam\", \"spam\", \"spam\", \"spam\", \"spam\", \"spam\", \"spam\", \"spam\", \"spam\", \"spam\", \"spam\", \"spam\", \"spam\", \"spam\", \"spam\", \"spam\", \"spam\", \"spam\", \"spam\", \"spam\", \"spam\", \"spam\", \"spam\", \"spam\", \"spam\", \"spam\", \"spam\", \"spam\", \"spam\", \"spam\", \"spam\", \"spam\", \"spam\", \"spam\", \"spam\", \"spam\", \"spam\", \"spam\", \"spam\", \"spam\", \"spam\", \"spam\", \"spam\", \"spam\", \"spam\", \"spam\", \"spam\", \"spam\", \"spam\", \"spam\", \"spam\", \"spam\", \"spam\", \"spam\", \"spam\", \"spam\", \"spam\", \"spam\", \"spam\", \"spam\", \"spam\", \"spam\", \"spam\", \"spam\", \"spam\", \"spam\", \"spam\", \"spam\", \"spam\", \"spam\", \"spam\", \"spam\", \"spam\", \"spam\", \"spam\", \"spam\", \"spam\", \"spam\", \"spam\", \"spam\", \"spam\", \"spam\", \"spam\", \"spam\", \"spam\", \"spam\", \"spam\", \"spam\", \"spam\", \"spam\", \"spam\", \"spam\", \"spam\", \"spam\", \"spam\", \"spam\", \"spam\", \"spam\", \"spam\", \"spam\", \"spam\", \"spam\", \"spam\", \"spam\", \"spam\", \"spam\", \"spam\", \"spam\", \"spam\", \"spam\", \"spam\", \"spam\", \"spam\", \"spam\", \"spam\", \"spam\", \"spam\", \"spam\", \"spam\", \"spam\", \"spam\", \"spam\", \"spam\", \"spam\", \"spam\", \"spam\", \"spam\", \"spam\", \"spam\", \"spam\", \"spam\", \"spam\", \"spam\", \"spam\", \"spam\", \"spam\", \"spam\", \"spam\", \"spam\", \"spam\", \"spam\", \"spam\", \"spam\", \"spam\", \"spam\", \"spam\", \"spam\", \"spam\", \"spam\", \"spam\", \"spam\", \"spam\", \"spam\", \"spam\", \"spam\", \"spam\", \"spam\", \"spam\", \"spam\", \"spam\", \"spam\", \"spam\", \"spam\", \"spam\", \"spam\", \"spam\", \"spam\", \"spam\", \"spam\", \"spam\", \"spam\", \"spam\", \"spam\", \"spam\", \"spam\", \"spam\", \"spam\", \"spam\", \"spam\", \"spam\", \"spam\", \"spam\", \"spam\", \"spam\", \"spam\", \"spam\", \"spam\", \"spam\", \"spam\", \"spam\", \"spam\", \"spam\", \"spam\", \"spam\", \"spam\", \"spam\", \"spam\", \"spam\", \"spam\", \"spam\", \"spam\", \"spam\", \"spam\", \"spam\", \"spam\", \"spam\", \"spam\", \"spam\", \"spam\", \"spam\", \"spam\", \"spam\", \"spam\", \"spam\", \"spam\", \"spam\", \"spam\", \"spam\", \"spam\", \"spam\", \"spam\", \"spam\", \"spam\", \"spam\", \"spam\", \"spam\", \"spam\", \"spam\", \"spam\", \"spam\", \"spam\", \"spam\", \"spam\", \"spam\", \"spam\", \"spam\", \"spam\", \"spam\", \"spam\", \"spam\", \"spam\", \"spam\", \"spam\", \"spam\", \"spam\", \"spam\", \"spam\", \"spam\", \"spam\", \"spam\", \"spam\", \"spam\", \"spam\", \"spam\", \"spam\", \"spam\", \"spam\", \"spam\", \"spam\", \"spam\", \"spam\", \"spam\", \"spam\", \"spam\", \"spam\", \"spam\", \"spam\", \"spam\", \"spam\", \"spam\", \"spam\", \"spam\", \"spam\", \"spam\", \"spam\", \"spam\", \"spam\", \"spam\", \"spam\", \"spam\", \"spam\", \"spam\", \"spam\", \"spam\", \"spam\", \"spam\", \"spam\", \"spam\", \"spam\", \"spam\", \"spam\", \"spam\", \"spam\", \"spam\", \"spam\", \"spam\", \"spam\", \"spam\", \"spam\", \"spam\", \"spam\", \"spam\", \"spam\", \"spam\", \"spam\", \"spam\", \"spam\", \"spam\", \"spam\", \"spam\", \"spam\", \"spam\", \"spam\", \"spam\", \"spam\", \"spam\", \"spam\", \"spam\", \"spam\", \"spam\", \"spam\", \"spam\", \"spam\", \"spam\", \"spam\", \"spam\", \"spam\", \"spam\", \"spam\", \"spam\", \"spam\", \"spam\", \"spam\", \"spam\", \"spam\", \"spam\", \"spam\", \"spam\", \"spam\", \"spam\", \"spam\", \"spam\", \"spam\", \"spam\", \"spam\", \"spam\", \"spam\", \"spam\", \"spam\", \"spam\", \"spam\", \"spam\", \"spam\", \"spam\", \"spam\", \"spam\", \"spam\", \"spam\", \"spam\", \"spam\", \"spam\", \"spam\", \"spam\", \"spam\", \"spam\", \"spam\", \"spam\", \"spam\", \"spam\", \"spam\", \"spam\", \"spam\", \"spam\", \"spam\", \"spam\", \"spam\", \"spam\", \"spam\", \"spam\", \"spam\", \"spam\", \"spam\", \"spam\", \"spam\", \"spam\", \"spam\", \"spam\", \"spam\", \"spam\", \"spam\", \"spam\", \"spam\", \"spam\", \"spam\", \"spam\", \"spam\", \"spam\", \"spam\", \"spam\", \"spam\", \"spam\", \"spam\", \"spam\", \"spam\", \"spam\", \"spam\", \"spam\", \"spam\", \"spam\", \"spam\", \"spam\", \"spam\", \"spam\", \"spam\", \"spam\", \"spam\", \"spam\", \"spam\", \"spam\", \"spam\", \"spam\", \"spam\", \"spam\", \"spam\", \"spam\", \"spam\", \"spam\", \"spam\", \"spam\", \"spam\", \"spam\", \"spam\", \"spam\", \"spam\", \"spam\", \"spam\", \"spam\", \"spam\", \"spam\", \"spam\", \"spam\", \"spam\", \"spam\", \"spam\", \"spam\", \"spam\", \"spam\", \"spam\", \"spam\", \"spam\", \"spam\", \"spam\", \"spam\", \"spam\", \"spam\", \"spam\", \"spam\", \"spam\", \"spam\", \"spam\", \"spam\", \"spam\", \"spam\", \"spam\", \"spam\", \"spam\", \"spam\", \"spam\", \"spam\", \"spam\", \"spam\", \"spam\", \"spam\", \"spam\", \"spam\", \"spam\", \"spam\", \"spam\", \"spam\", \"spam\", \"spam\", \"spam\", \"spam\", \"spam\", \"spam\", \"spam\", \"spam\", \"spam\", \"spam\", \"spam\", \"spam\", \"spam\", \"spam\", \"spam\", \"spam\", \"spam\", \"spam\", \"spam\", \"spam\", \"spam\", \"spam\", \"spam\", \"spam\", \"spam\", \"spam\", \"spam\", \"spam\", \"spam\", \"spam\", \"spam\", \"spam\", \"spam\", \"spam\", \"spam\", \"spam\", \"spam\", \"spam\", \"spam\", \"spam\", \"spam\", \"spam\", \"spam\", \"spam\", \"spam\", \"spam\", \"spam\", \"spam\", \"spam\", \"spam\", \"spam\", \"spam\", \"spam\", \"spam\", \"spam\", \"spam\", \"spam\", \"spam\", \"spam\", \"spam\", \"spam\", \"spam\", \"spam\", \"spam\", \"spam\", \"spam\", \"spam\", \"spam\"], \"yaxis\": \"y\"}],\n",
              "                        {\"barmode\": \"relative\", \"legend\": {\"tracegroupgap\": 0}, \"margin\": {\"t\": 60}, \"template\": {\"data\": {\"bar\": [{\"error_x\": {\"color\": \"#2a3f5f\"}, \"error_y\": {\"color\": \"#2a3f5f\"}, \"marker\": {\"line\": {\"color\": \"#E5ECF6\", \"width\": 0.5}}, \"type\": \"bar\"}], \"barpolar\": [{\"marker\": {\"line\": {\"color\": \"#E5ECF6\", \"width\": 0.5}}, \"type\": \"barpolar\"}], \"carpet\": [{\"aaxis\": {\"endlinecolor\": \"#2a3f5f\", \"gridcolor\": \"white\", \"linecolor\": \"white\", \"minorgridcolor\": \"white\", \"startlinecolor\": \"#2a3f5f\"}, \"baxis\": {\"endlinecolor\": \"#2a3f5f\", \"gridcolor\": \"white\", \"linecolor\": \"white\", \"minorgridcolor\": \"white\", \"startlinecolor\": \"#2a3f5f\"}, \"type\": \"carpet\"}], \"choropleth\": [{\"colorbar\": {\"outlinewidth\": 0, \"ticks\": \"\"}, \"type\": \"choropleth\"}], \"contour\": [{\"colorbar\": {\"outlinewidth\": 0, \"ticks\": \"\"}, \"colorscale\": [[0.0, \"#0d0887\"], [0.1111111111111111, \"#46039f\"], [0.2222222222222222, \"#7201a8\"], [0.3333333333333333, \"#9c179e\"], [0.4444444444444444, \"#bd3786\"], [0.5555555555555556, \"#d8576b\"], [0.6666666666666666, \"#ed7953\"], [0.7777777777777778, \"#fb9f3a\"], [0.8888888888888888, \"#fdca26\"], [1.0, \"#f0f921\"]], \"type\": \"contour\"}], \"contourcarpet\": [{\"colorbar\": {\"outlinewidth\": 0, \"ticks\": \"\"}, \"type\": \"contourcarpet\"}], \"heatmap\": [{\"colorbar\": {\"outlinewidth\": 0, \"ticks\": \"\"}, \"colorscale\": [[0.0, \"#0d0887\"], [0.1111111111111111, \"#46039f\"], [0.2222222222222222, \"#7201a8\"], [0.3333333333333333, \"#9c179e\"], [0.4444444444444444, \"#bd3786\"], [0.5555555555555556, \"#d8576b\"], [0.6666666666666666, \"#ed7953\"], [0.7777777777777778, \"#fb9f3a\"], [0.8888888888888888, \"#fdca26\"], [1.0, \"#f0f921\"]], \"type\": \"heatmap\"}], \"heatmapgl\": [{\"colorbar\": {\"outlinewidth\": 0, \"ticks\": \"\"}, \"colorscale\": [[0.0, \"#0d0887\"], [0.1111111111111111, \"#46039f\"], [0.2222222222222222, \"#7201a8\"], [0.3333333333333333, \"#9c179e\"], [0.4444444444444444, \"#bd3786\"], [0.5555555555555556, \"#d8576b\"], [0.6666666666666666, \"#ed7953\"], [0.7777777777777778, \"#fb9f3a\"], [0.8888888888888888, \"#fdca26\"], [1.0, \"#f0f921\"]], \"type\": \"heatmapgl\"}], \"histogram\": [{\"marker\": {\"colorbar\": {\"outlinewidth\": 0, \"ticks\": \"\"}}, \"type\": \"histogram\"}], \"histogram2d\": [{\"colorbar\": {\"outlinewidth\": 0, \"ticks\": \"\"}, \"colorscale\": [[0.0, \"#0d0887\"], [0.1111111111111111, \"#46039f\"], [0.2222222222222222, \"#7201a8\"], [0.3333333333333333, \"#9c179e\"], [0.4444444444444444, \"#bd3786\"], [0.5555555555555556, \"#d8576b\"], [0.6666666666666666, \"#ed7953\"], [0.7777777777777778, \"#fb9f3a\"], [0.8888888888888888, \"#fdca26\"], [1.0, \"#f0f921\"]], \"type\": \"histogram2d\"}], \"histogram2dcontour\": [{\"colorbar\": {\"outlinewidth\": 0, \"ticks\": \"\"}, \"colorscale\": [[0.0, \"#0d0887\"], [0.1111111111111111, \"#46039f\"], [0.2222222222222222, \"#7201a8\"], [0.3333333333333333, \"#9c179e\"], [0.4444444444444444, \"#bd3786\"], [0.5555555555555556, \"#d8576b\"], [0.6666666666666666, \"#ed7953\"], [0.7777777777777778, \"#fb9f3a\"], [0.8888888888888888, \"#fdca26\"], [1.0, \"#f0f921\"]], \"type\": \"histogram2dcontour\"}], \"mesh3d\": [{\"colorbar\": {\"outlinewidth\": 0, \"ticks\": \"\"}, \"type\": \"mesh3d\"}], \"parcoords\": [{\"line\": {\"colorbar\": {\"outlinewidth\": 0, \"ticks\": \"\"}}, \"type\": \"parcoords\"}], \"pie\": [{\"automargin\": true, \"type\": \"pie\"}], \"scatter\": [{\"marker\": {\"colorbar\": {\"outlinewidth\": 0, \"ticks\": \"\"}}, \"type\": \"scatter\"}], \"scatter3d\": [{\"line\": {\"colorbar\": {\"outlinewidth\": 0, \"ticks\": \"\"}}, \"marker\": {\"colorbar\": {\"outlinewidth\": 0, \"ticks\": \"\"}}, \"type\": \"scatter3d\"}], \"scattercarpet\": [{\"marker\": {\"colorbar\": {\"outlinewidth\": 0, \"ticks\": \"\"}}, \"type\": \"scattercarpet\"}], \"scattergeo\": [{\"marker\": {\"colorbar\": {\"outlinewidth\": 0, \"ticks\": \"\"}}, \"type\": \"scattergeo\"}], \"scattergl\": [{\"marker\": {\"colorbar\": {\"outlinewidth\": 0, \"ticks\": \"\"}}, \"type\": \"scattergl\"}], \"scattermapbox\": [{\"marker\": {\"colorbar\": {\"outlinewidth\": 0, \"ticks\": \"\"}}, \"type\": \"scattermapbox\"}], \"scatterpolar\": [{\"marker\": {\"colorbar\": {\"outlinewidth\": 0, \"ticks\": \"\"}}, \"type\": \"scatterpolar\"}], \"scatterpolargl\": [{\"marker\": {\"colorbar\": {\"outlinewidth\": 0, \"ticks\": \"\"}}, \"type\": \"scatterpolargl\"}], \"scatterternary\": [{\"marker\": {\"colorbar\": {\"outlinewidth\": 0, \"ticks\": \"\"}}, \"type\": \"scatterternary\"}], \"surface\": [{\"colorbar\": {\"outlinewidth\": 0, \"ticks\": \"\"}, \"colorscale\": [[0.0, \"#0d0887\"], [0.1111111111111111, \"#46039f\"], [0.2222222222222222, \"#7201a8\"], [0.3333333333333333, \"#9c179e\"], [0.4444444444444444, \"#bd3786\"], [0.5555555555555556, \"#d8576b\"], [0.6666666666666666, \"#ed7953\"], [0.7777777777777778, \"#fb9f3a\"], [0.8888888888888888, \"#fdca26\"], [1.0, \"#f0f921\"]], \"type\": \"surface\"}], \"table\": [{\"cells\": {\"fill\": {\"color\": \"#EBF0F8\"}, \"line\": {\"color\": \"white\"}}, \"header\": {\"fill\": {\"color\": \"#C8D4E3\"}, \"line\": {\"color\": \"white\"}}, \"type\": \"table\"}]}, \"layout\": {\"annotationdefaults\": {\"arrowcolor\": \"#2a3f5f\", \"arrowhead\": 0, \"arrowwidth\": 1}, \"coloraxis\": {\"colorbar\": {\"outlinewidth\": 0, \"ticks\": \"\"}}, \"colorscale\": {\"diverging\": [[0, \"#8e0152\"], [0.1, \"#c51b7d\"], [0.2, \"#de77ae\"], [0.3, \"#f1b6da\"], [0.4, \"#fde0ef\"], [0.5, \"#f7f7f7\"], [0.6, \"#e6f5d0\"], [0.7, \"#b8e186\"], [0.8, \"#7fbc41\"], [0.9, \"#4d9221\"], [1, \"#276419\"]], \"sequential\": [[0.0, \"#0d0887\"], [0.1111111111111111, \"#46039f\"], [0.2222222222222222, \"#7201a8\"], [0.3333333333333333, \"#9c179e\"], [0.4444444444444444, \"#bd3786\"], [0.5555555555555556, \"#d8576b\"], [0.6666666666666666, \"#ed7953\"], [0.7777777777777778, \"#fb9f3a\"], [0.8888888888888888, \"#fdca26\"], [1.0, \"#f0f921\"]], \"sequentialminus\": [[0.0, \"#0d0887\"], [0.1111111111111111, \"#46039f\"], [0.2222222222222222, \"#7201a8\"], [0.3333333333333333, \"#9c179e\"], [0.4444444444444444, \"#bd3786\"], [0.5555555555555556, \"#d8576b\"], [0.6666666666666666, \"#ed7953\"], [0.7777777777777778, \"#fb9f3a\"], [0.8888888888888888, \"#fdca26\"], [1.0, \"#f0f921\"]]}, \"colorway\": [\"#636efa\", \"#EF553B\", \"#00cc96\", \"#ab63fa\", \"#FFA15A\", \"#19d3f3\", \"#FF6692\", \"#B6E880\", \"#FF97FF\", \"#FECB52\"], \"font\": {\"color\": \"#2a3f5f\"}, \"geo\": {\"bgcolor\": \"white\", \"lakecolor\": \"white\", \"landcolor\": \"#E5ECF6\", \"showlakes\": true, \"showland\": true, \"subunitcolor\": \"white\"}, \"hoverlabel\": {\"align\": \"left\"}, \"hovermode\": \"closest\", \"mapbox\": {\"style\": \"light\"}, \"paper_bgcolor\": \"white\", \"plot_bgcolor\": \"#E5ECF6\", \"polar\": {\"angularaxis\": {\"gridcolor\": \"white\", \"linecolor\": \"white\", \"ticks\": \"\"}, \"bgcolor\": \"#E5ECF6\", \"radialaxis\": {\"gridcolor\": \"white\", \"linecolor\": \"white\", \"ticks\": \"\"}}, \"scene\": {\"xaxis\": {\"backgroundcolor\": \"#E5ECF6\", \"gridcolor\": \"white\", \"gridwidth\": 2, \"linecolor\": \"white\", \"showbackground\": true, \"ticks\": \"\", \"zerolinecolor\": \"white\"}, \"yaxis\": {\"backgroundcolor\": \"#E5ECF6\", \"gridcolor\": \"white\", \"gridwidth\": 2, \"linecolor\": \"white\", \"showbackground\": true, \"ticks\": \"\", \"zerolinecolor\": \"white\"}, \"zaxis\": {\"backgroundcolor\": \"#E5ECF6\", \"gridcolor\": \"white\", \"gridwidth\": 2, \"linecolor\": \"white\", \"showbackground\": true, \"ticks\": \"\", \"zerolinecolor\": \"white\"}}, \"shapedefaults\": {\"line\": {\"color\": \"#2a3f5f\"}}, \"ternary\": {\"aaxis\": {\"gridcolor\": \"white\", \"linecolor\": \"white\", \"ticks\": \"\"}, \"baxis\": {\"gridcolor\": \"white\", \"linecolor\": \"white\", \"ticks\": \"\"}, \"bgcolor\": \"#E5ECF6\", \"caxis\": {\"gridcolor\": \"white\", \"linecolor\": \"white\", \"ticks\": \"\"}}, \"title\": {\"x\": 0.05}, \"xaxis\": {\"automargin\": true, \"gridcolor\": \"white\", \"linecolor\": \"white\", \"ticks\": \"\", \"title\": {\"standoff\": 15}, \"zerolinecolor\": \"white\", \"zerolinewidth\": 2}, \"yaxis\": {\"automargin\": true, \"gridcolor\": \"white\", \"linecolor\": \"white\", \"ticks\": \"\", \"title\": {\"standoff\": 15}, \"zerolinecolor\": \"white\", \"zerolinewidth\": 2}}}, \"xaxis\": {\"anchor\": \"y\", \"domain\": [0.0, 1.0], \"title\": {\"text\": \"text_len\"}}, \"yaxis\": {\"anchor\": \"x\", \"categoryarray\": [\"spam\", \"ham\"], \"categoryorder\": \"array\", \"domain\": [0.0, 1.0], \"title\": {\"text\": \"count of label\"}}},\n",
              "                        {\"responsive\": true}\n",
              "                    ).then(function(){\n",
              "                            \n",
              "var gd = document.getElementById('33f887c4-fa59-4f44-aadf-d1fc9f5332dd');\n",
              "var x = new MutationObserver(function (mutations, observer) {{\n",
              "        var display = window.getComputedStyle(gd).display;\n",
              "        if (!display || display === 'none') {{\n",
              "            console.log([gd, 'removed!']);\n",
              "            Plotly.purge(gd);\n",
              "            observer.disconnect();\n",
              "        }}\n",
              "}});\n",
              "\n",
              "// Listen for the removal of the full notebook cells\n",
              "var notebookContainer = gd.closest('#notebook-container');\n",
              "if (notebookContainer) {{\n",
              "    x.observe(notebookContainer, {childList: true});\n",
              "}}\n",
              "\n",
              "// Listen for the clearing of the current output cell\n",
              "var outputEl = gd.closest('.output');\n",
              "if (outputEl) {{\n",
              "    x.observe(outputEl, {childList: true});\n",
              "}}\n",
              "\n",
              "                        })\n",
              "                };\n",
              "                \n",
              "            </script>\n",
              "        </div>\n",
              "</body>\n",
              "</html>"
            ]
          },
          "metadata": {
            "tags": []
          }
        }
      ]
    },
    {
      "cell_type": "markdown",
      "metadata": {
        "id": "UPveyMPoyFxP",
        "colab_type": "text"
      },
      "source": [
        "The ham texts have more characters than spam"
      ]
    },
    {
      "cell_type": "code",
      "metadata": {
        "id": "7bdPZc_C1dSX",
        "colab_type": "code",
        "outputId": "be88ec73-7b3f-407e-ceb7-54c5b83664c2",
        "colab": {
          "base_uri": "https://localhost:8080/",
          "height": 284
        }
      },
      "source": [
        "df[df['label']=='ham'].describe()"
      ],
      "execution_count": 209,
      "outputs": [
        {
          "output_type": "execute_result",
          "data": {
            "text/html": [
              "<div>\n",
              "<style scoped>\n",
              "    .dataframe tbody tr th:only-of-type {\n",
              "        vertical-align: middle;\n",
              "    }\n",
              "\n",
              "    .dataframe tbody tr th {\n",
              "        vertical-align: top;\n",
              "    }\n",
              "\n",
              "    .dataframe thead th {\n",
              "        text-align: right;\n",
              "    }\n",
              "</style>\n",
              "<table border=\"1\" class=\"dataframe\">\n",
              "  <thead>\n",
              "    <tr style=\"text-align: right;\">\n",
              "      <th></th>\n",
              "      <th>label_num</th>\n",
              "      <th>text_len</th>\n",
              "    </tr>\n",
              "  </thead>\n",
              "  <tbody>\n",
              "    <tr>\n",
              "      <th>count</th>\n",
              "      <td>4825.0</td>\n",
              "      <td>4825.000000</td>\n",
              "    </tr>\n",
              "    <tr>\n",
              "      <th>mean</th>\n",
              "      <td>0.0</td>\n",
              "      <td>44.184249</td>\n",
              "    </tr>\n",
              "    <tr>\n",
              "      <th>std</th>\n",
              "      <td>0.0</td>\n",
              "      <td>36.837867</td>\n",
              "    </tr>\n",
              "    <tr>\n",
              "      <th>min</th>\n",
              "      <td>0.0</td>\n",
              "      <td>0.000000</td>\n",
              "    </tr>\n",
              "    <tr>\n",
              "      <th>25%</th>\n",
              "      <td>0.0</td>\n",
              "      <td>20.000000</td>\n",
              "    </tr>\n",
              "    <tr>\n",
              "      <th>50%</th>\n",
              "      <td>0.0</td>\n",
              "      <td>33.000000</td>\n",
              "    </tr>\n",
              "    <tr>\n",
              "      <th>75%</th>\n",
              "      <td>0.0</td>\n",
              "      <td>58.000000</td>\n",
              "    </tr>\n",
              "    <tr>\n",
              "      <th>max</th>\n",
              "      <td>0.0</td>\n",
              "      <td>511.000000</td>\n",
              "    </tr>\n",
              "  </tbody>\n",
              "</table>\n",
              "</div>"
            ],
            "text/plain": [
              "       label_num     text_len\n",
              "count     4825.0  4825.000000\n",
              "mean         0.0    44.184249\n",
              "std          0.0    36.837867\n",
              "min          0.0     0.000000\n",
              "25%          0.0    20.000000\n",
              "50%          0.0    33.000000\n",
              "75%          0.0    58.000000\n",
              "max          0.0   511.000000"
            ]
          },
          "metadata": {
            "tags": []
          },
          "execution_count": 209
        }
      ]
    },
    {
      "cell_type": "code",
      "metadata": {
        "id": "0sQL_wfl1lcu",
        "colab_type": "code",
        "outputId": "16aa6811-2551-4eb7-fe25-f43457110c89",
        "colab": {
          "base_uri": "https://localhost:8080/",
          "height": 284
        }
      },
      "source": [
        "df[df['label']=='spam'].describe()"
      ],
      "execution_count": 210,
      "outputs": [
        {
          "output_type": "execute_result",
          "data": {
            "text/html": [
              "<div>\n",
              "<style scoped>\n",
              "    .dataframe tbody tr th:only-of-type {\n",
              "        vertical-align: middle;\n",
              "    }\n",
              "\n",
              "    .dataframe tbody tr th {\n",
              "        vertical-align: top;\n",
              "    }\n",
              "\n",
              "    .dataframe thead th {\n",
              "        text-align: right;\n",
              "    }\n",
              "</style>\n",
              "<table border=\"1\" class=\"dataframe\">\n",
              "  <thead>\n",
              "    <tr style=\"text-align: right;\">\n",
              "      <th></th>\n",
              "      <th>label_num</th>\n",
              "      <th>text_len</th>\n",
              "    </tr>\n",
              "  </thead>\n",
              "  <tbody>\n",
              "    <tr>\n",
              "      <th>count</th>\n",
              "      <td>747.0</td>\n",
              "      <td>747.000000</td>\n",
              "    </tr>\n",
              "    <tr>\n",
              "      <th>mean</th>\n",
              "      <td>1.0</td>\n",
              "      <td>81.038822</td>\n",
              "    </tr>\n",
              "    <tr>\n",
              "      <th>std</th>\n",
              "      <td>0.0</td>\n",
              "      <td>21.505092</td>\n",
              "    </tr>\n",
              "    <tr>\n",
              "      <th>min</th>\n",
              "      <td>1.0</td>\n",
              "      <td>0.000000</td>\n",
              "    </tr>\n",
              "    <tr>\n",
              "      <th>25%</th>\n",
              "      <td>1.0</td>\n",
              "      <td>70.000000</td>\n",
              "    </tr>\n",
              "    <tr>\n",
              "      <th>50%</th>\n",
              "      <td>1.0</td>\n",
              "      <td>83.000000</td>\n",
              "    </tr>\n",
              "    <tr>\n",
              "      <th>75%</th>\n",
              "      <td>1.0</td>\n",
              "      <td>96.000000</td>\n",
              "    </tr>\n",
              "    <tr>\n",
              "      <th>max</th>\n",
              "      <td>1.0</td>\n",
              "      <td>144.000000</td>\n",
              "    </tr>\n",
              "  </tbody>\n",
              "</table>\n",
              "</div>"
            ],
            "text/plain": [
              "       label_num    text_len\n",
              "count      747.0  747.000000\n",
              "mean         1.0   81.038822\n",
              "std          0.0   21.505092\n",
              "min          1.0    0.000000\n",
              "25%          1.0   70.000000\n",
              "50%          1.0   83.000000\n",
              "75%          1.0   96.000000\n",
              "max          1.0  144.000000"
            ]
          },
          "metadata": {
            "tags": []
          },
          "execution_count": 210
        }
      ]
    },
    {
      "cell_type": "code",
      "metadata": {
        "id": "lKj9Yj052WrV",
        "colab_type": "code",
        "outputId": "379d9291-9ac8-43c5-cd02-e1efbb9a9709",
        "colab": {
          "base_uri": "https://localhost:8080/",
          "height": 34
        }
      },
      "source": [
        "min(df['text_len'])"
      ],
      "execution_count": 211,
      "outputs": [
        {
          "output_type": "execute_result",
          "data": {
            "text/plain": [
              "0"
            ]
          },
          "metadata": {
            "tags": []
          },
          "execution_count": 211
        }
      ]
    },
    {
      "cell_type": "code",
      "metadata": {
        "id": "KT-kJJD5102V",
        "colab_type": "code",
        "outputId": "f6a565cf-cdf2-4b68-f3d3-4f614d2bf585",
        "colab": {
          "base_uri": "https://localhost:8080/",
          "height": 373
        }
      },
      "source": [
        "df[df['text_len']==0]"
      ],
      "execution_count": 212,
      "outputs": [
        {
          "output_type": "execute_result",
          "data": {
            "text/html": [
              "<div>\n",
              "<style scoped>\n",
              "    .dataframe tbody tr th:only-of-type {\n",
              "        vertical-align: middle;\n",
              "    }\n",
              "\n",
              "    .dataframe tbody tr th {\n",
              "        vertical-align: top;\n",
              "    }\n",
              "\n",
              "    .dataframe thead th {\n",
              "        text-align: right;\n",
              "    }\n",
              "</style>\n",
              "<table border=\"1\" class=\"dataframe\">\n",
              "  <thead>\n",
              "    <tr style=\"text-align: right;\">\n",
              "      <th></th>\n",
              "      <th>label</th>\n",
              "      <th>text</th>\n",
              "      <th>label_num</th>\n",
              "      <th>clean_text</th>\n",
              "      <th>text_len</th>\n",
              "    </tr>\n",
              "  </thead>\n",
              "  <tbody>\n",
              "    <tr>\n",
              "      <th>959</th>\n",
              "      <td>ham</td>\n",
              "      <td>Where @</td>\n",
              "      <td>0</td>\n",
              "      <td></td>\n",
              "      <td>0</td>\n",
              "    </tr>\n",
              "    <tr>\n",
              "      <th>1552</th>\n",
              "      <td>ham</td>\n",
              "      <td>U too...</td>\n",
              "      <td>0</td>\n",
              "      <td></td>\n",
              "      <td>0</td>\n",
              "    </tr>\n",
              "    <tr>\n",
              "      <th>1611</th>\n",
              "      <td>ham</td>\n",
              "      <td>645</td>\n",
              "      <td>0</td>\n",
              "      <td></td>\n",
              "      <td>0</td>\n",
              "    </tr>\n",
              "    <tr>\n",
              "      <th>2805</th>\n",
              "      <td>ham</td>\n",
              "      <td>Can a not?</td>\n",
              "      <td>0</td>\n",
              "      <td></td>\n",
              "      <td>0</td>\n",
              "    </tr>\n",
              "    <tr>\n",
              "      <th>3374</th>\n",
              "      <td>ham</td>\n",
              "      <td>:)</td>\n",
              "      <td>0</td>\n",
              "      <td></td>\n",
              "      <td>0</td>\n",
              "    </tr>\n",
              "    <tr>\n",
              "      <th>3740</th>\n",
              "      <td>spam</td>\n",
              "      <td>2/2 146tf150p</td>\n",
              "      <td>1</td>\n",
              "      <td></td>\n",
              "      <td>0</td>\n",
              "    </tr>\n",
              "    <tr>\n",
              "      <th>4573</th>\n",
              "      <td>ham</td>\n",
              "      <td>:( but your not here....</td>\n",
              "      <td>0</td>\n",
              "      <td></td>\n",
              "      <td>0</td>\n",
              "    </tr>\n",
              "    <tr>\n",
              "      <th>4822</th>\n",
              "      <td>ham</td>\n",
              "      <td>:-) :-)</td>\n",
              "      <td>0</td>\n",
              "      <td></td>\n",
              "      <td>0</td>\n",
              "    </tr>\n",
              "    <tr>\n",
              "      <th>4854</th>\n",
              "      <td>ham</td>\n",
              "      <td>Same to u...</td>\n",
              "      <td>0</td>\n",
              "      <td></td>\n",
              "      <td>0</td>\n",
              "    </tr>\n",
              "    <tr>\n",
              "      <th>4885</th>\n",
              "      <td>ham</td>\n",
              "      <td>Or just do that 6times</td>\n",
              "      <td>0</td>\n",
              "      <td></td>\n",
              "      <td>0</td>\n",
              "    </tr>\n",
              "    <tr>\n",
              "      <th>5173</th>\n",
              "      <td>ham</td>\n",
              "      <td>U 2.</td>\n",
              "      <td>0</td>\n",
              "      <td></td>\n",
              "      <td>0</td>\n",
              "    </tr>\n",
              "  </tbody>\n",
              "</table>\n",
              "</div>"
            ],
            "text/plain": [
              "     label                         text  label_num clean_text  text_len\n",
              "959    ham                   Where @             0                    0\n",
              "1552   ham                  U too...             0                    0\n",
              "1611   ham                       645             0                    0\n",
              "2805   ham                Can a not?             0                    0\n",
              "3374   ham                       :)              0                    0\n",
              "3740  spam             2/2 146tf150p             1                    0\n",
              "4573   ham  :( but your not here....             0                    0\n",
              "4822   ham                   :-) :-)             0                    0\n",
              "4854   ham              Same to u...             0                    0\n",
              "4885   ham    Or just do that 6times             0                    0\n",
              "5173   ham                      U 2.             0                    0"
            ]
          },
          "metadata": {
            "tags": []
          },
          "execution_count": 212
        }
      ]
    },
    {
      "cell_type": "markdown",
      "metadata": {
        "id": "NgA0MADl2TO5",
        "colab_type": "text"
      },
      "source": [
        "After cleaning the text, there are few empty texts, lets remove it"
      ]
    },
    {
      "cell_type": "code",
      "metadata": {
        "id": "snEI-6K_3SmB",
        "colab_type": "code",
        "outputId": "fe9e59e9-e8c4-44d3-9002-1cfcc3b9bde6",
        "colab": {
          "base_uri": "https://localhost:8080/",
          "height": 373
        }
      },
      "source": [
        "df[df['text_len']==0]"
      ],
      "execution_count": 213,
      "outputs": [
        {
          "output_type": "execute_result",
          "data": {
            "text/html": [
              "<div>\n",
              "<style scoped>\n",
              "    .dataframe tbody tr th:only-of-type {\n",
              "        vertical-align: middle;\n",
              "    }\n",
              "\n",
              "    .dataframe tbody tr th {\n",
              "        vertical-align: top;\n",
              "    }\n",
              "\n",
              "    .dataframe thead th {\n",
              "        text-align: right;\n",
              "    }\n",
              "</style>\n",
              "<table border=\"1\" class=\"dataframe\">\n",
              "  <thead>\n",
              "    <tr style=\"text-align: right;\">\n",
              "      <th></th>\n",
              "      <th>label</th>\n",
              "      <th>text</th>\n",
              "      <th>label_num</th>\n",
              "      <th>clean_text</th>\n",
              "      <th>text_len</th>\n",
              "    </tr>\n",
              "  </thead>\n",
              "  <tbody>\n",
              "    <tr>\n",
              "      <th>959</th>\n",
              "      <td>ham</td>\n",
              "      <td>Where @</td>\n",
              "      <td>0</td>\n",
              "      <td></td>\n",
              "      <td>0</td>\n",
              "    </tr>\n",
              "    <tr>\n",
              "      <th>1552</th>\n",
              "      <td>ham</td>\n",
              "      <td>U too...</td>\n",
              "      <td>0</td>\n",
              "      <td></td>\n",
              "      <td>0</td>\n",
              "    </tr>\n",
              "    <tr>\n",
              "      <th>1611</th>\n",
              "      <td>ham</td>\n",
              "      <td>645</td>\n",
              "      <td>0</td>\n",
              "      <td></td>\n",
              "      <td>0</td>\n",
              "    </tr>\n",
              "    <tr>\n",
              "      <th>2805</th>\n",
              "      <td>ham</td>\n",
              "      <td>Can a not?</td>\n",
              "      <td>0</td>\n",
              "      <td></td>\n",
              "      <td>0</td>\n",
              "    </tr>\n",
              "    <tr>\n",
              "      <th>3374</th>\n",
              "      <td>ham</td>\n",
              "      <td>:)</td>\n",
              "      <td>0</td>\n",
              "      <td></td>\n",
              "      <td>0</td>\n",
              "    </tr>\n",
              "    <tr>\n",
              "      <th>3740</th>\n",
              "      <td>spam</td>\n",
              "      <td>2/2 146tf150p</td>\n",
              "      <td>1</td>\n",
              "      <td></td>\n",
              "      <td>0</td>\n",
              "    </tr>\n",
              "    <tr>\n",
              "      <th>4573</th>\n",
              "      <td>ham</td>\n",
              "      <td>:( but your not here....</td>\n",
              "      <td>0</td>\n",
              "      <td></td>\n",
              "      <td>0</td>\n",
              "    </tr>\n",
              "    <tr>\n",
              "      <th>4822</th>\n",
              "      <td>ham</td>\n",
              "      <td>:-) :-)</td>\n",
              "      <td>0</td>\n",
              "      <td></td>\n",
              "      <td>0</td>\n",
              "    </tr>\n",
              "    <tr>\n",
              "      <th>4854</th>\n",
              "      <td>ham</td>\n",
              "      <td>Same to u...</td>\n",
              "      <td>0</td>\n",
              "      <td></td>\n",
              "      <td>0</td>\n",
              "    </tr>\n",
              "    <tr>\n",
              "      <th>4885</th>\n",
              "      <td>ham</td>\n",
              "      <td>Or just do that 6times</td>\n",
              "      <td>0</td>\n",
              "      <td></td>\n",
              "      <td>0</td>\n",
              "    </tr>\n",
              "    <tr>\n",
              "      <th>5173</th>\n",
              "      <td>ham</td>\n",
              "      <td>U 2.</td>\n",
              "      <td>0</td>\n",
              "      <td></td>\n",
              "      <td>0</td>\n",
              "    </tr>\n",
              "  </tbody>\n",
              "</table>\n",
              "</div>"
            ],
            "text/plain": [
              "     label                         text  label_num clean_text  text_len\n",
              "959    ham                   Where @             0                    0\n",
              "1552   ham                  U too...             0                    0\n",
              "1611   ham                       645             0                    0\n",
              "2805   ham                Can a not?             0                    0\n",
              "3374   ham                       :)              0                    0\n",
              "3740  spam             2/2 146tf150p             1                    0\n",
              "4573   ham  :( but your not here....             0                    0\n",
              "4822   ham                   :-) :-)             0                    0\n",
              "4854   ham              Same to u...             0                    0\n",
              "4885   ham    Or just do that 6times             0                    0\n",
              "5173   ham                      U 2.             0                    0"
            ]
          },
          "metadata": {
            "tags": []
          },
          "execution_count": 213
        }
      ]
    },
    {
      "cell_type": "code",
      "metadata": {
        "id": "UOUHvczx2yMm",
        "colab_type": "code",
        "colab": {}
      },
      "source": [
        "df.drop(df[df['text_len']==0].index,inplace=True)"
      ],
      "execution_count": 0,
      "outputs": []
    },
    {
      "cell_type": "markdown",
      "metadata": {
        "id": "PMLiLiAKQqPE",
        "colab_type": "text"
      },
      "source": [
        "<a id='item5'></a>"
      ]
    },
    {
      "cell_type": "markdown",
      "metadata": {
        "id": "VHmjLRpAQlQk",
        "colab_type": "text"
      },
      "source": [
        "##5.WordCloud"
      ]
    },
    {
      "cell_type": "markdown",
      "metadata": {
        "id": "0vqGXFQ03D3o",
        "colab_type": "text"
      },
      "source": [
        "Checking the most common words for ham and spam texts"
      ]
    },
    {
      "cell_type": "code",
      "metadata": {
        "id": "fv7EGz0S6hl1",
        "colab_type": "code",
        "outputId": "e3cf3e8a-5af7-455c-c5d6-3b5a77ce1e10",
        "colab": {
          "base_uri": "https://localhost:8080/",
          "height": 438
        }
      },
      "source": [
        "hamWordsList = df[df['label']=='ham'].clean_text.apply(lambda x: x.split())\n",
        "ham_common = Counter([word for lis in hamWordsList for word in lis])\n",
        "ham_df = pd.DataFrame(ham_common.most_common(20),columns={'Words','Count'})\n",
        "ham_df.style.background_gradient(cmap='Reds')\n"
      ],
      "execution_count": 215,
      "outputs": [
        {
          "output_type": "execute_result",
          "data": {
            "text/html": [
              "<style  type=\"text/css\" >\n",
              "    #T_d9595d30_95e5_11ea_af66_0242ac1c0002row0_col1 {\n",
              "            background-color:  #67000d;\n",
              "            color:  #f1f1f1;\n",
              "        }    #T_d9595d30_95e5_11ea_af66_0242ac1c0002row1_col1 {\n",
              "            background-color:  #b71319;\n",
              "            color:  #f1f1f1;\n",
              "        }    #T_d9595d30_95e5_11ea_af66_0242ac1c0002row2_col1 {\n",
              "            background-color:  #bd151a;\n",
              "            color:  #f1f1f1;\n",
              "        }    #T_d9595d30_95e5_11ea_af66_0242ac1c0002row3_col1 {\n",
              "            background-color:  #eb372a;\n",
              "            color:  #f1f1f1;\n",
              "        }    #T_d9595d30_95e5_11ea_af66_0242ac1c0002row4_col1 {\n",
              "            background-color:  #f6553c;\n",
              "            color:  #000000;\n",
              "        }    #T_d9595d30_95e5_11ea_af66_0242ac1c0002row5_col1 {\n",
              "            background-color:  #fa6547;\n",
              "            color:  #000000;\n",
              "        }    #T_d9595d30_95e5_11ea_af66_0242ac1c0002row6_col1 {\n",
              "            background-color:  #fa6547;\n",
              "            color:  #000000;\n",
              "        }    #T_d9595d30_95e5_11ea_af66_0242ac1c0002row7_col1 {\n",
              "            background-color:  #fa6849;\n",
              "            color:  #000000;\n",
              "        }    #T_d9595d30_95e5_11ea_af66_0242ac1c0002row8_col1 {\n",
              "            background-color:  #fa6849;\n",
              "            color:  #000000;\n",
              "        }    #T_d9595d30_95e5_11ea_af66_0242ac1c0002row9_col1 {\n",
              "            background-color:  #fb7151;\n",
              "            color:  #000000;\n",
              "        }    #T_d9595d30_95e5_11ea_af66_0242ac1c0002row10_col1 {\n",
              "            background-color:  #fb7757;\n",
              "            color:  #000000;\n",
              "        }    #T_d9595d30_95e5_11ea_af66_0242ac1c0002row11_col1 {\n",
              "            background-color:  #fcc1a8;\n",
              "            color:  #000000;\n",
              "        }    #T_d9595d30_95e5_11ea_af66_0242ac1c0002row12_col1 {\n",
              "            background-color:  #fcc4ad;\n",
              "            color:  #000000;\n",
              "        }    #T_d9595d30_95e5_11ea_af66_0242ac1c0002row13_col1 {\n",
              "            background-color:  #fdc6b0;\n",
              "            color:  #000000;\n",
              "        }    #T_d9595d30_95e5_11ea_af66_0242ac1c0002row14_col1 {\n",
              "            background-color:  #feeae0;\n",
              "            color:  #000000;\n",
              "        }    #T_d9595d30_95e5_11ea_af66_0242ac1c0002row15_col1 {\n",
              "            background-color:  #ffede5;\n",
              "            color:  #000000;\n",
              "        }    #T_d9595d30_95e5_11ea_af66_0242ac1c0002row16_col1 {\n",
              "            background-color:  #ffeee7;\n",
              "            color:  #000000;\n",
              "        }    #T_d9595d30_95e5_11ea_af66_0242ac1c0002row17_col1 {\n",
              "            background-color:  #fff2eb;\n",
              "            color:  #000000;\n",
              "        }    #T_d9595d30_95e5_11ea_af66_0242ac1c0002row18_col1 {\n",
              "            background-color:  #fff2eb;\n",
              "            color:  #000000;\n",
              "        }    #T_d9595d30_95e5_11ea_af66_0242ac1c0002row19_col1 {\n",
              "            background-color:  #fff5f0;\n",
              "            color:  #000000;\n",
              "        }</style><table id=\"T_d9595d30_95e5_11ea_af66_0242ac1c0002\" ><thead>    <tr>        <th class=\"blank level0\" ></th>        <th class=\"col_heading level0 col0\" >Count</th>        <th class=\"col_heading level0 col1\" >Words</th>    </tr></thead><tbody>\n",
              "                <tr>\n",
              "                        <th id=\"T_d9595d30_95e5_11ea_af66_0242ac1c0002level0_row0\" class=\"row_heading level0 row0\" >0</th>\n",
              "                        <td id=\"T_d9595d30_95e5_11ea_af66_0242ac1c0002row0_col0\" class=\"data row0 col0\" >get</td>\n",
              "                        <td id=\"T_d9595d30_95e5_11ea_af66_0242ac1c0002row0_col1\" class=\"data row0 col1\" >303</td>\n",
              "            </tr>\n",
              "            <tr>\n",
              "                        <th id=\"T_d9595d30_95e5_11ea_af66_0242ac1c0002level0_row1\" class=\"row_heading level0 row1\" >1</th>\n",
              "                        <td id=\"T_d9595d30_95e5_11ea_af66_0242ac1c0002row1_col0\" class=\"data row1 col0\" >ltgt</td>\n",
              "                        <td id=\"T_d9595d30_95e5_11ea_af66_0242ac1c0002row1_col1\" class=\"data row1 col1\" >276</td>\n",
              "            </tr>\n",
              "            <tr>\n",
              "                        <th id=\"T_d9595d30_95e5_11ea_af66_0242ac1c0002level0_row2\" class=\"row_heading level0 row2\" >2</th>\n",
              "                        <td id=\"T_d9595d30_95e5_11ea_af66_0242ac1c0002row2_col0\" class=\"data row2 col0\" >ok</td>\n",
              "                        <td id=\"T_d9595d30_95e5_11ea_af66_0242ac1c0002row2_col1\" class=\"data row2 col1\" >273</td>\n",
              "            </tr>\n",
              "            <tr>\n",
              "                        <th id=\"T_d9595d30_95e5_11ea_af66_0242ac1c0002level0_row3\" class=\"row_heading level0 row3\" >3</th>\n",
              "                        <td id=\"T_d9595d30_95e5_11ea_af66_0242ac1c0002row3_col0\" class=\"data row3 col0\" >go</td>\n",
              "                        <td id=\"T_d9595d30_95e5_11ea_af66_0242ac1c0002row3_col1\" class=\"data row3 col1\" >250</td>\n",
              "            </tr>\n",
              "            <tr>\n",
              "                        <th id=\"T_d9595d30_95e5_11ea_af66_0242ac1c0002level0_row4\" class=\"row_heading level0 row4\" >4</th>\n",
              "                        <td id=\"T_d9595d30_95e5_11ea_af66_0242ac1c0002row4_col0\" class=\"data row4 col0\" >ill</td>\n",
              "                        <td id=\"T_d9595d30_95e5_11ea_af66_0242ac1c0002row4_col1\" class=\"data row4 col1\" >238</td>\n",
              "            </tr>\n",
              "            <tr>\n",
              "                        <th id=\"T_d9595d30_95e5_11ea_af66_0242ac1c0002level0_row5\" class=\"row_heading level0 row5\" >5</th>\n",
              "                        <td id=\"T_d9595d30_95e5_11ea_af66_0242ac1c0002row5_col0\" class=\"data row5 col0\" >got</td>\n",
              "                        <td id=\"T_d9595d30_95e5_11ea_af66_0242ac1c0002row5_col1\" class=\"data row5 col1\" >232</td>\n",
              "            </tr>\n",
              "            <tr>\n",
              "                        <th id=\"T_d9595d30_95e5_11ea_af66_0242ac1c0002level0_row6\" class=\"row_heading level0 row6\" >6</th>\n",
              "                        <td id=\"T_d9595d30_95e5_11ea_af66_0242ac1c0002row6_col0\" class=\"data row6 col0\" >know</td>\n",
              "                        <td id=\"T_d9595d30_95e5_11ea_af66_0242ac1c0002row6_col1\" class=\"data row6 col1\" >232</td>\n",
              "            </tr>\n",
              "            <tr>\n",
              "                        <th id=\"T_d9595d30_95e5_11ea_af66_0242ac1c0002level0_row7\" class=\"row_heading level0 row7\" >7</th>\n",
              "                        <td id=\"T_d9595d30_95e5_11ea_af66_0242ac1c0002row7_col0\" class=\"data row7 col0\" >like</td>\n",
              "                        <td id=\"T_d9595d30_95e5_11ea_af66_0242ac1c0002row7_col1\" class=\"data row7 col1\" >231</td>\n",
              "            </tr>\n",
              "            <tr>\n",
              "                        <th id=\"T_d9595d30_95e5_11ea_af66_0242ac1c0002level0_row8\" class=\"row_heading level0 row8\" >8</th>\n",
              "                        <td id=\"T_d9595d30_95e5_11ea_af66_0242ac1c0002row8_col0\" class=\"data row8 col0\" >call</td>\n",
              "                        <td id=\"T_d9595d30_95e5_11ea_af66_0242ac1c0002row8_col1\" class=\"data row8 col1\" >231</td>\n",
              "            </tr>\n",
              "            <tr>\n",
              "                        <th id=\"T_d9595d30_95e5_11ea_af66_0242ac1c0002level0_row9\" class=\"row_heading level0 row9\" >9</th>\n",
              "                        <td id=\"T_d9595d30_95e5_11ea_af66_0242ac1c0002row9_col0\" class=\"data row9 col0\" >come</td>\n",
              "                        <td id=\"T_d9595d30_95e5_11ea_af66_0242ac1c0002row9_col1\" class=\"data row9 col1\" >227</td>\n",
              "            </tr>\n",
              "            <tr>\n",
              "                        <th id=\"T_d9595d30_95e5_11ea_af66_0242ac1c0002level0_row10\" class=\"row_heading level0 row10\" >10</th>\n",
              "                        <td id=\"T_d9595d30_95e5_11ea_af66_0242ac1c0002row10_col0\" class=\"data row10 col0\" >good</td>\n",
              "                        <td id=\"T_d9595d30_95e5_11ea_af66_0242ac1c0002row10_col1\" class=\"data row10 col1\" >224</td>\n",
              "            </tr>\n",
              "            <tr>\n",
              "                        <th id=\"T_d9595d30_95e5_11ea_af66_0242ac1c0002level0_row11\" class=\"row_heading level0 row11\" >11</th>\n",
              "                        <td id=\"T_d9595d30_95e5_11ea_af66_0242ac1c0002row11_col0\" class=\"data row11 col0\" >love</td>\n",
              "                        <td id=\"T_d9595d30_95e5_11ea_af66_0242ac1c0002row11_col1\" class=\"data row11 col1\" >191</td>\n",
              "            </tr>\n",
              "            <tr>\n",
              "                        <th id=\"T_d9595d30_95e5_11ea_af66_0242ac1c0002level0_row12\" class=\"row_heading level0 row12\" >12</th>\n",
              "                        <td id=\"T_d9595d30_95e5_11ea_af66_0242ac1c0002row12_col0\" class=\"data row12 col0\" >time</td>\n",
              "                        <td id=\"T_d9595d30_95e5_11ea_af66_0242ac1c0002row12_col1\" class=\"data row12 col1\" >189</td>\n",
              "            </tr>\n",
              "            <tr>\n",
              "                        <th id=\"T_d9595d30_95e5_11ea_af66_0242ac1c0002level0_row13\" class=\"row_heading level0 row13\" >13</th>\n",
              "                        <td id=\"T_d9595d30_95e5_11ea_af66_0242ac1c0002row13_col0\" class=\"data row13 col0\" >day</td>\n",
              "                        <td id=\"T_d9595d30_95e5_11ea_af66_0242ac1c0002row13_col1\" class=\"data row13 col1\" >188</td>\n",
              "            </tr>\n",
              "            <tr>\n",
              "                        <th id=\"T_d9595d30_95e5_11ea_af66_0242ac1c0002level0_row14\" class=\"row_heading level0 row14\" >14</th>\n",
              "                        <td id=\"T_d9595d30_95e5_11ea_af66_0242ac1c0002row14_col0\" class=\"data row14 col0\" >going</td>\n",
              "                        <td id=\"T_d9595d30_95e5_11ea_af66_0242ac1c0002row14_col1\" class=\"data row14 col1\" >167</td>\n",
              "            </tr>\n",
              "            <tr>\n",
              "                        <th id=\"T_d9595d30_95e5_11ea_af66_0242ac1c0002level0_row15\" class=\"row_heading level0 row15\" >15</th>\n",
              "                        <td id=\"T_d9595d30_95e5_11ea_af66_0242ac1c0002row15_col0\" class=\"data row15 col0\" >want</td>\n",
              "                        <td id=\"T_d9595d30_95e5_11ea_af66_0242ac1c0002row15_col1\" class=\"data row15 col1\" >164</td>\n",
              "            </tr>\n",
              "            <tr>\n",
              "                        <th id=\"T_d9595d30_95e5_11ea_af66_0242ac1c0002level0_row16\" class=\"row_heading level0 row16\" >16</th>\n",
              "                        <td id=\"T_d9595d30_95e5_11ea_af66_0242ac1c0002row16_col0\" class=\"data row16 col0\" >one</td>\n",
              "                        <td id=\"T_d9595d30_95e5_11ea_af66_0242ac1c0002row16_col1\" class=\"data row16 col1\" >163</td>\n",
              "            </tr>\n",
              "            <tr>\n",
              "                        <th id=\"T_d9595d30_95e5_11ea_af66_0242ac1c0002level0_row17\" class=\"row_heading level0 row17\" >17</th>\n",
              "                        <td id=\"T_d9595d30_95e5_11ea_af66_0242ac1c0002row17_col0\" class=\"data row17 col0\" >home</td>\n",
              "                        <td id=\"T_d9595d30_95e5_11ea_af66_0242ac1c0002row17_col1\" class=\"data row17 col1\" >160</td>\n",
              "            </tr>\n",
              "            <tr>\n",
              "                        <th id=\"T_d9595d30_95e5_11ea_af66_0242ac1c0002level0_row18\" class=\"row_heading level0 row18\" >18</th>\n",
              "                        <td id=\"T_d9595d30_95e5_11ea_af66_0242ac1c0002row18_col0\" class=\"data row18 col0\" >lor</td>\n",
              "                        <td id=\"T_d9595d30_95e5_11ea_af66_0242ac1c0002row18_col1\" class=\"data row18 col1\" >160</td>\n",
              "            </tr>\n",
              "            <tr>\n",
              "                        <th id=\"T_d9595d30_95e5_11ea_af66_0242ac1c0002level0_row19\" class=\"row_heading level0 row19\" >19</th>\n",
              "                        <td id=\"T_d9595d30_95e5_11ea_af66_0242ac1c0002row19_col0\" class=\"data row19 col0\" >need</td>\n",
              "                        <td id=\"T_d9595d30_95e5_11ea_af66_0242ac1c0002row19_col1\" class=\"data row19 col1\" >157</td>\n",
              "            </tr>\n",
              "    </tbody></table>"
            ],
            "text/plain": [
              "<pandas.io.formats.style.Styler at 0x7efe10833160>"
            ]
          },
          "metadata": {
            "tags": []
          },
          "execution_count": 215
        }
      ]
    },
    {
      "cell_type": "code",
      "metadata": {
        "id": "kzw2n-liG-NR",
        "colab_type": "code",
        "colab": {}
      },
      "source": [
        ""
      ],
      "execution_count": 0,
      "outputs": []
    },
    {
      "cell_type": "code",
      "metadata": {
        "id": "O-e1OqYM__Ic",
        "colab_type": "code",
        "outputId": "9984388f-9e92-4f66-b304-6e626ee5f235",
        "colab": {
          "base_uri": "https://localhost:8080/",
          "height": 438
        }
      },
      "source": [
        "spamListWords = df[df['label']=='spam'].clean_text.apply(lambda x:str(x).split())\n",
        "spam_common = Counter([word for lis in spamListWords for word in lis])\n",
        "spam_df = pd.DataFrame(spam_common.most_common(20),columns=['Word','Count'])\n",
        "spam_df.style.background_gradient(cmap='Blues')"
      ],
      "execution_count": 216,
      "outputs": [
        {
          "output_type": "execute_result",
          "data": {
            "text/html": [
              "<style  type=\"text/css\" >\n",
              "    #T_d960b062_95e5_11ea_af66_0242ac1c0002row0_col1 {\n",
              "            background-color:  #08306b;\n",
              "            color:  #f1f1f1;\n",
              "        }    #T_d960b062_95e5_11ea_af66_0242ac1c0002row1_col1 {\n",
              "            background-color:  #5aa2cf;\n",
              "            color:  #000000;\n",
              "        }    #T_d960b062_95e5_11ea_af66_0242ac1c0002row2_col1 {\n",
              "            background-color:  #a9cfe5;\n",
              "            color:  #000000;\n",
              "        }    #T_d960b062_95e5_11ea_af66_0242ac1c0002row3_col1 {\n",
              "            background-color:  #c9ddf0;\n",
              "            color:  #000000;\n",
              "        }    #T_d960b062_95e5_11ea_af66_0242ac1c0002row4_col1 {\n",
              "            background-color:  #cadef0;\n",
              "            color:  #000000;\n",
              "        }    #T_d960b062_95e5_11ea_af66_0242ac1c0002row5_col1 {\n",
              "            background-color:  #cee0f2;\n",
              "            color:  #000000;\n",
              "        }    #T_d960b062_95e5_11ea_af66_0242ac1c0002row6_col1 {\n",
              "            background-color:  #d0e1f2;\n",
              "            color:  #000000;\n",
              "        }    #T_d960b062_95e5_11ea_af66_0242ac1c0002row7_col1 {\n",
              "            background-color:  #d8e7f5;\n",
              "            color:  #000000;\n",
              "        }    #T_d960b062_95e5_11ea_af66_0242ac1c0002row8_col1 {\n",
              "            background-color:  #ddeaf7;\n",
              "            color:  #000000;\n",
              "        }    #T_d960b062_95e5_11ea_af66_0242ac1c0002row9_col1 {\n",
              "            background-color:  #e3eef9;\n",
              "            color:  #000000;\n",
              "        }    #T_d960b062_95e5_11ea_af66_0242ac1c0002row10_col1 {\n",
              "            background-color:  #edf4fc;\n",
              "            color:  #000000;\n",
              "        }    #T_d960b062_95e5_11ea_af66_0242ac1c0002row11_col1 {\n",
              "            background-color:  #eef5fc;\n",
              "            color:  #000000;\n",
              "        }    #T_d960b062_95e5_11ea_af66_0242ac1c0002row12_col1 {\n",
              "            background-color:  #eff6fc;\n",
              "            color:  #000000;\n",
              "        }    #T_d960b062_95e5_11ea_af66_0242ac1c0002row13_col1 {\n",
              "            background-color:  #f2f7fd;\n",
              "            color:  #000000;\n",
              "        }    #T_d960b062_95e5_11ea_af66_0242ac1c0002row14_col1 {\n",
              "            background-color:  #f2f8fd;\n",
              "            color:  #000000;\n",
              "        }    #T_d960b062_95e5_11ea_af66_0242ac1c0002row15_col1 {\n",
              "            background-color:  #f3f8fe;\n",
              "            color:  #000000;\n",
              "        }    #T_d960b062_95e5_11ea_af66_0242ac1c0002row16_col1 {\n",
              "            background-color:  #f4f9fe;\n",
              "            color:  #000000;\n",
              "        }    #T_d960b062_95e5_11ea_af66_0242ac1c0002row17_col1 {\n",
              "            background-color:  #f6faff;\n",
              "            color:  #000000;\n",
              "        }    #T_d960b062_95e5_11ea_af66_0242ac1c0002row18_col1 {\n",
              "            background-color:  #f7fbff;\n",
              "            color:  #000000;\n",
              "        }    #T_d960b062_95e5_11ea_af66_0242ac1c0002row19_col1 {\n",
              "            background-color:  #f7fbff;\n",
              "            color:  #000000;\n",
              "        }</style><table id=\"T_d960b062_95e5_11ea_af66_0242ac1c0002\" ><thead>    <tr>        <th class=\"blank level0\" ></th>        <th class=\"col_heading level0 col0\" >Word</th>        <th class=\"col_heading level0 col1\" >Count</th>    </tr></thead><tbody>\n",
              "                <tr>\n",
              "                        <th id=\"T_d960b062_95e5_11ea_af66_0242ac1c0002level0_row0\" class=\"row_heading level0 row0\" >0</th>\n",
              "                        <td id=\"T_d960b062_95e5_11ea_af66_0242ac1c0002row0_col0\" class=\"data row0 col0\" >call</td>\n",
              "                        <td id=\"T_d960b062_95e5_11ea_af66_0242ac1c0002row0_col1\" class=\"data row0 col1\" >348</td>\n",
              "            </tr>\n",
              "            <tr>\n",
              "                        <th id=\"T_d960b062_95e5_11ea_af66_0242ac1c0002level0_row1\" class=\"row_heading level0 row1\" >1</th>\n",
              "                        <td id=\"T_d960b062_95e5_11ea_af66_0242ac1c0002row1_col0\" class=\"data row1 col0\" >free</td>\n",
              "                        <td id=\"T_d960b062_95e5_11ea_af66_0242ac1c0002row1_col1\" class=\"data row1 col1\" >217</td>\n",
              "            </tr>\n",
              "            <tr>\n",
              "                        <th id=\"T_d960b062_95e5_11ea_af66_0242ac1c0002level0_row2\" class=\"row_heading level0 row2\" >2</th>\n",
              "                        <td id=\"T_d960b062_95e5_11ea_af66_0242ac1c0002row2_col0\" class=\"data row2 col0\" >txt</td>\n",
              "                        <td id=\"T_d960b062_95e5_11ea_af66_0242ac1c0002row2_col1\" class=\"data row2 col1\" >154</td>\n",
              "            </tr>\n",
              "            <tr>\n",
              "                        <th id=\"T_d960b062_95e5_11ea_af66_0242ac1c0002level0_row3\" class=\"row_heading level0 row3\" >3</th>\n",
              "                        <td id=\"T_d960b062_95e5_11ea_af66_0242ac1c0002row3_col0\" class=\"data row3 col0\" >mobile</td>\n",
              "                        <td id=\"T_d960b062_95e5_11ea_af66_0242ac1c0002row3_col1\" class=\"data row3 col1\" >123</td>\n",
              "            </tr>\n",
              "            <tr>\n",
              "                        <th id=\"T_d960b062_95e5_11ea_af66_0242ac1c0002level0_row4\" class=\"row_heading level0 row4\" >4</th>\n",
              "                        <td id=\"T_d960b062_95e5_11ea_af66_0242ac1c0002row4_col0\" class=\"data row4 col0\" >text</td>\n",
              "                        <td id=\"T_d960b062_95e5_11ea_af66_0242ac1c0002row4_col1\" class=\"data row4 col1\" >121</td>\n",
              "            </tr>\n",
              "            <tr>\n",
              "                        <th id=\"T_d960b062_95e5_11ea_af66_0242ac1c0002level0_row5\" class=\"row_heading level0 row5\" >5</th>\n",
              "                        <td id=\"T_d960b062_95e5_11ea_af66_0242ac1c0002row5_col0\" class=\"data row5 col0\" >stop</td>\n",
              "                        <td id=\"T_d960b062_95e5_11ea_af66_0242ac1c0002row5_col1\" class=\"data row5 col1\" >115</td>\n",
              "            </tr>\n",
              "            <tr>\n",
              "                        <th id=\"T_d960b062_95e5_11ea_af66_0242ac1c0002level0_row6\" class=\"row_heading level0 row6\" >6</th>\n",
              "                        <td id=\"T_d960b062_95e5_11ea_af66_0242ac1c0002row6_col0\" class=\"data row6 col0\" >claim</td>\n",
              "                        <td id=\"T_d960b062_95e5_11ea_af66_0242ac1c0002row6_col1\" class=\"data row6 col1\" >113</td>\n",
              "            </tr>\n",
              "            <tr>\n",
              "                        <th id=\"T_d960b062_95e5_11ea_af66_0242ac1c0002level0_row7\" class=\"row_heading level0 row7\" >7</th>\n",
              "                        <td id=\"T_d960b062_95e5_11ea_af66_0242ac1c0002row7_col0\" class=\"data row7 col0\" >reply</td>\n",
              "                        <td id=\"T_d960b062_95e5_11ea_af66_0242ac1c0002row7_col1\" class=\"data row7 col1\" >101</td>\n",
              "            </tr>\n",
              "            <tr>\n",
              "                        <th id=\"T_d960b062_95e5_11ea_af66_0242ac1c0002level0_row8\" class=\"row_heading level0 row8\" >8</th>\n",
              "                        <td id=\"T_d960b062_95e5_11ea_af66_0242ac1c0002row8_col0\" class=\"data row8 col0\" >prize</td>\n",
              "                        <td id=\"T_d960b062_95e5_11ea_af66_0242ac1c0002row8_col1\" class=\"data row8 col1\" >92</td>\n",
              "            </tr>\n",
              "            <tr>\n",
              "                        <th id=\"T_d960b062_95e5_11ea_af66_0242ac1c0002level0_row9\" class=\"row_heading level0 row9\" >9</th>\n",
              "                        <td id=\"T_d960b062_95e5_11ea_af66_0242ac1c0002row9_col0\" class=\"data row9 col0\" >get</td>\n",
              "                        <td id=\"T_d960b062_95e5_11ea_af66_0242ac1c0002row9_col1\" class=\"data row9 col1\" >83</td>\n",
              "            </tr>\n",
              "            <tr>\n",
              "                        <th id=\"T_d960b062_95e5_11ea_af66_0242ac1c0002level0_row10\" class=\"row_heading level0 row10\" >10</th>\n",
              "                        <td id=\"T_d960b062_95e5_11ea_af66_0242ac1c0002row10_col0\" class=\"data row10 col0\" >new</td>\n",
              "                        <td id=\"T_d960b062_95e5_11ea_af66_0242ac1c0002row10_col1\" class=\"data row10 col1\" >69</td>\n",
              "            </tr>\n",
              "            <tr>\n",
              "                        <th id=\"T_d960b062_95e5_11ea_af66_0242ac1c0002level0_row11\" class=\"row_heading level0 row11\" >11</th>\n",
              "                        <td id=\"T_d960b062_95e5_11ea_af66_0242ac1c0002row11_col0\" class=\"data row11 col0\" >send</td>\n",
              "                        <td id=\"T_d960b062_95e5_11ea_af66_0242ac1c0002row11_col1\" class=\"data row11 col1\" >68</td>\n",
              "            </tr>\n",
              "            <tr>\n",
              "                        <th id=\"T_d960b062_95e5_11ea_af66_0242ac1c0002level0_row12\" class=\"row_heading level0 row12\" >12</th>\n",
              "                        <td id=\"T_d960b062_95e5_11ea_af66_0242ac1c0002row12_col0\" class=\"data row12 col0\" >nokia</td>\n",
              "                        <td id=\"T_d960b062_95e5_11ea_af66_0242ac1c0002row12_col1\" class=\"data row12 col1\" >66</td>\n",
              "            </tr>\n",
              "            <tr>\n",
              "                        <th id=\"T_d960b062_95e5_11ea_af66_0242ac1c0002level0_row13\" class=\"row_heading level0 row13\" >13</th>\n",
              "                        <td id=\"T_d960b062_95e5_11ea_af66_0242ac1c0002row13_col0\" class=\"data row13 col0\" >urgent</td>\n",
              "                        <td id=\"T_d960b062_95e5_11ea_af66_0242ac1c0002row13_col1\" class=\"data row13 col1\" >63</td>\n",
              "            </tr>\n",
              "            <tr>\n",
              "                        <th id=\"T_d960b062_95e5_11ea_af66_0242ac1c0002level0_row14\" class=\"row_heading level0 row14\" >14</th>\n",
              "                        <td id=\"T_d960b062_95e5_11ea_af66_0242ac1c0002row14_col0\" class=\"data row14 col0\" >cash</td>\n",
              "                        <td id=\"T_d960b062_95e5_11ea_af66_0242ac1c0002row14_col1\" class=\"data row14 col1\" >62</td>\n",
              "            </tr>\n",
              "            <tr>\n",
              "                        <th id=\"T_d960b062_95e5_11ea_af66_0242ac1c0002level0_row15\" class=\"row_heading level0 row15\" >15</th>\n",
              "                        <td id=\"T_d960b062_95e5_11ea_af66_0242ac1c0002row15_col0\" class=\"data row15 col0\" >win</td>\n",
              "                        <td id=\"T_d960b062_95e5_11ea_af66_0242ac1c0002row15_col1\" class=\"data row15 col1\" >60</td>\n",
              "            </tr>\n",
              "            <tr>\n",
              "                        <th id=\"T_d960b062_95e5_11ea_af66_0242ac1c0002level0_row16\" class=\"row_heading level0 row16\" >16</th>\n",
              "                        <td id=\"T_d960b062_95e5_11ea_af66_0242ac1c0002row16_col0\" class=\"data row16 col0\" >tone</td>\n",
              "                        <td id=\"T_d960b062_95e5_11ea_af66_0242ac1c0002row16_col1\" class=\"data row16 col1\" >59</td>\n",
              "            </tr>\n",
              "            <tr>\n",
              "                        <th id=\"T_d960b062_95e5_11ea_af66_0242ac1c0002level0_row17\" class=\"row_heading level0 row17\" >17</th>\n",
              "                        <td id=\"T_d960b062_95e5_11ea_af66_0242ac1c0002row17_col0\" class=\"data row17 col0\" >contact</td>\n",
              "                        <td id=\"T_d960b062_95e5_11ea_af66_0242ac1c0002row17_col1\" class=\"data row17 col1\" >56</td>\n",
              "            </tr>\n",
              "            <tr>\n",
              "                        <th id=\"T_d960b062_95e5_11ea_af66_0242ac1c0002level0_row18\" class=\"row_heading level0 row18\" >18</th>\n",
              "                        <td id=\"T_d960b062_95e5_11ea_af66_0242ac1c0002row18_col0\" class=\"data row18 col0\" >service</td>\n",
              "                        <td id=\"T_d960b062_95e5_11ea_af66_0242ac1c0002row18_col1\" class=\"data row18 col1\" >55</td>\n",
              "            </tr>\n",
              "            <tr>\n",
              "                        <th id=\"T_d960b062_95e5_11ea_af66_0242ac1c0002level0_row19\" class=\"row_heading level0 row19\" >19</th>\n",
              "                        <td id=\"T_d960b062_95e5_11ea_af66_0242ac1c0002row19_col0\" class=\"data row19 col0\" >please</td>\n",
              "                        <td id=\"T_d960b062_95e5_11ea_af66_0242ac1c0002row19_col1\" class=\"data row19 col1\" >54</td>\n",
              "            </tr>\n",
              "    </tbody></table>"
            ],
            "text/plain": [
              "<pandas.io.formats.style.Styler at 0x7efe10767c88>"
            ]
          },
          "metadata": {
            "tags": []
          },
          "execution_count": 216
        }
      ]
    },
    {
      "cell_type": "markdown",
      "metadata": {
        "id": "MQLgMotwDiOS",
        "colab_type": "text"
      },
      "source": [
        "Lets plot Wordcloud"
      ]
    },
    {
      "cell_type": "code",
      "metadata": {
        "id": "n3myFXv_KR_6",
        "colab_type": "code",
        "outputId": "7e084d77-bc33-4efa-ddf2-cd3a7f6df478",
        "colab": {
          "base_uri": "https://localhost:8080/",
          "height": 202
        }
      },
      "source": [
        "!wget https://raw.githubusercontent.com/rasbt/datacollect/master/dataviz/twitter_cloud/twitter_mask.png"
      ],
      "execution_count": 217,
      "outputs": [
        {
          "output_type": "stream",
          "text": [
            "--2020-05-14 13:21:43--  https://raw.githubusercontent.com/rasbt/datacollect/master/dataviz/twitter_cloud/twitter_mask.png\n",
            "Resolving raw.githubusercontent.com (raw.githubusercontent.com)... 151.101.0.133, 151.101.64.133, 151.101.128.133, ...\n",
            "Connecting to raw.githubusercontent.com (raw.githubusercontent.com)|151.101.0.133|:443... connected.\n",
            "HTTP request sent, awaiting response... 200 OK\n",
            "Length: 51818 (51K) [image/png]\n",
            "Saving to: ‘twitter_mask.png.1’\n",
            "\n",
            "\rtwitter_mask.png.1    0%[                    ]       0  --.-KB/s               \rtwitter_mask.png.1  100%[===================>]  50.60K  --.-KB/s    in 0.02s   \n",
            "\n",
            "2020-05-14 13:21:44 (1.99 MB/s) - ‘twitter_mask.png.1’ saved [51818/51818]\n",
            "\n"
          ],
          "name": "stdout"
        }
      ]
    },
    {
      "cell_type": "code",
      "metadata": {
        "id": "VMe6oPWBH7mT",
        "colab_type": "code",
        "colab": {}
      },
      "source": [
        "def plot_wordcloud(text,title):\n",
        "  mask = np.array(Image.open('twitter_mask.png'))\n",
        "  wordcloud = WordCloud(width=400,height=400,background_color='white',mask=mask,stopwords=set(STOPWORDS),min_font_size=12).generate(str(text))\n",
        "  plt.figure(figsize=(10,10))\n",
        "  plt.imshow(wordcloud)\n",
        "  plt.axis('off')\n",
        "  plt.title(title,fontdict={'size':20,'color':'black'})\n",
        "  plt.show()"
      ],
      "execution_count": 0,
      "outputs": []
    },
    {
      "cell_type": "code",
      "metadata": {
        "id": "85ZGE3ASIteU",
        "colab_type": "code",
        "outputId": "d9de6f07-a9b2-4096-a9a6-79a5c7677ae1",
        "colab": {
          "base_uri": "https://localhost:8080/",
          "height": 503
        }
      },
      "source": [
        "plot_wordcloud(df[df['label']=='ham'].clean_text,'WordCloud of ham messages')"
      ],
      "execution_count": 219,
      "outputs": [
        {
          "output_type": "display_data",
          "data": {
            "image/png": "[encoded data removed]",
            "text/plain": [
              "<Figure size 720x720 with 1 Axes>"
            ]
          },
          "metadata": {
            "tags": [],
            "needs_background": "light"
          }
        }
      ]
    },
    {
      "cell_type": "code",
      "metadata": {
        "id": "wxKXmo-zLBvt",
        "colab_type": "code",
        "outputId": "41b6cb5b-fef0-47fd-a9ff-2f55ce31e31d",
        "colab": {
          "base_uri": "https://localhost:8080/",
          "height": 503
        }
      },
      "source": [
        "plot_wordcloud(df[df['label']=='spam'].clean_text,'WordCloud of spam messages')"
      ],
      "execution_count": 220,
      "outputs": [
        {
          "output_type": "display_data",
          "data": {
            "image/png": "[encoded data removed]",
            "text/plain": [
              "<Figure size 720x720 with 1 Axes>"
            ]
          },
          "metadata": {
            "tags": [],
            "needs_background": "light"
          }
        }
      ]
    },
    {
      "cell_type": "markdown",
      "metadata": {
        "id": "0b3GTpLWO5Ts",
        "colab_type": "text"
      },
      "source": [
        "<a id ='item6'></a>"
      ]
    },
    {
      "cell_type": "markdown",
      "metadata": {
        "id": "eMy2L4a4Q9kf",
        "colab_type": "text"
      },
      "source": [
        "##6.Modelling uisng ML Algorithms"
      ]
    },
    {
      "cell_type": "code",
      "metadata": {
        "id": "q_Qs8DoT5uHL",
        "colab_type": "code",
        "colab": {}
      },
      "source": [
        "y = df['label_num'].values\n",
        "X= df['clean_text'].values"
      ],
      "execution_count": 0,
      "outputs": []
    },
    {
      "cell_type": "code",
      "metadata": {
        "id": "N1NBu7Kh3ys3",
        "colab_type": "code",
        "colab": {}
      },
      "source": [
        "clfs = [MultinomialNB(),LogisticRegression(),SVC(),DecisionTreeClassifier(),RandomForestClassifier(),AdaBoostClassifier()]"
      ],
      "execution_count": 0,
      "outputs": []
    },
    {
      "cell_type": "code",
      "metadata": {
        "id": "0_KH8OI3Q_qY",
        "colab_type": "code",
        "colab": {}
      },
      "source": [
        "def performModel(X,y):\n",
        "  X_train,X_test,y_train,y_test = train_test_split(X,y, test_size=0.2,random_state=42)\n",
        "  for clf in clfs:\n",
        "    model_name = clf.__class__.__name__\n",
        "    clf.fit(X_train,y_train)\n",
        "    test_score = clf.score(X_test,y_test)\n",
        "    train_score = clf.score(X_train,y_train)\n",
        "    print(model_name +f' Train Score:{train_score:.2f} Test Score:{test_score:.2f}')"
      ],
      "execution_count": 0,
      "outputs": []
    },
    {
      "cell_type": "code",
      "metadata": {
        "id": "r-PFXtWU3P4N",
        "colab_type": "code",
        "outputId": "42da8de7-bbd2-4427-e56a-ab2278b07894",
        "colab": {
          "base_uri": "https://localhost:8080/",
          "height": 118
        }
      },
      "source": [
        "cv = CountVectorizer()\n",
        "cv_x=cv.fit_transform(X)\n",
        "performModel(cv_x,y)"
      ],
      "execution_count": 224,
      "outputs": [
        {
          "output_type": "stream",
          "text": [
            "MultinomialNB Train Score:0.99 Test Score:0.97\n",
            "LogisticRegression Train Score:0.99 Test Score:0.98\n",
            "SVC Train Score:1.00 Test Score:0.98\n",
            "DecisionTreeClassifier Train Score:1.00 Test Score:0.97\n",
            "RandomForestClassifier Train Score:1.00 Test Score:0.97\n",
            "AdaBoostClassifier Train Score:0.97 Test Score:0.96\n"
          ],
          "name": "stdout"
        }
      ]
    },
    {
      "cell_type": "code",
      "metadata": {
        "id": "RS7SLL7Q5yYP",
        "colab_type": "code",
        "outputId": "78fcc723-7bbb-49fb-f10c-0a8c6653c72f",
        "colab": {
          "base_uri": "https://localhost:8080/",
          "height": 118
        }
      },
      "source": [
        "tf_idf = TfidfVectorizer()\n",
        "tfidf_x = tf_idf.fit_transform(X)\n",
        "performModel(tfidf_x,y)"
      ],
      "execution_count": 225,
      "outputs": [
        {
          "output_type": "stream",
          "text": [
            "MultinomialNB Train Score:0.97 Test Score:0.96\n",
            "LogisticRegression Train Score:0.96 Test Score:0.95\n",
            "SVC Train Score:1.00 Test Score:0.98\n",
            "DecisionTreeClassifier Train Score:1.00 Test Score:0.96\n",
            "RandomForestClassifier Train Score:1.00 Test Score:0.98\n",
            "AdaBoostClassifier Train Score:0.97 Test Score:0.96\n"
          ],
          "name": "stdout"
        }
      ]
    },
    {
      "cell_type": "code",
      "metadata": {
        "id": "ecW1I8Fr6t-M",
        "colab_type": "code",
        "outputId": "cf7e51c1-cb2d-4213-fbd4-abcd6bdfc785",
        "colab": {
          "base_uri": "https://localhost:8080/",
          "height": 118
        }
      },
      "source": [
        "tf = TfidfTransformer()\n",
        "tf_x = tf.fit_transform(cv_x)\n",
        "performModel(tf_x,y)"
      ],
      "execution_count": 226,
      "outputs": [
        {
          "output_type": "stream",
          "text": [
            "MultinomialNB Train Score:0.97 Test Score:0.96\n",
            "LogisticRegression Train Score:0.96 Test Score:0.95\n",
            "SVC Train Score:1.00 Test Score:0.98\n",
            "DecisionTreeClassifier Train Score:1.00 Test Score:0.96\n",
            "RandomForestClassifier Train Score:1.00 Test Score:0.98\n",
            "AdaBoostClassifier Train Score:0.97 Test Score:0.96\n"
          ],
          "name": "stdout"
        }
      ]
    },
    {
      "cell_type": "markdown",
      "metadata": {
        "id": "_ZV-2Nty7cW2",
        "colab_type": "text"
      },
      "source": [
        "All the models have performed similarly"
      ]
    },
    {
      "cell_type": "markdown",
      "metadata": {
        "id": "nPT872iZ9aSL",
        "colab_type": "text"
      },
      "source": [
        "Lets use RandomForestClassifier for the final traning."
      ]
    },
    {
      "cell_type": "code",
      "metadata": {
        "id": "gPRYjz0DAJMq",
        "colab_type": "code",
        "colab": {}
      },
      "source": [
        "pipeline = Pipeline([('tfidf',TfidfVectorizer()),\n",
        "                     ('model',RandomForestClassifier())])"
      ],
      "execution_count": 0,
      "outputs": []
    },
    {
      "cell_type": "code",
      "metadata": {
        "id": "Zpd7LIzXCQ6p",
        "colab_type": "code",
        "colab": {
          "base_uri": "https://localhost:8080/",
          "height": 1000
        },
        "outputId": "87643538-227e-41b8-f20d-2a01f6e84655"
      },
      "source": [
        "accuracy=[]\n",
        "sk = StratifiedKFold(n_splits=10,random_state=None)\n",
        "for train_index, test_index in sk.split(X,y):\n",
        "  X_train, X_test = X[train_index],X[test_index]\n",
        "  y_train,y_test = y[train_index],y[test_index]\n",
        "  pipeline.fit(X_train,y_train)\n",
        "  y_pred = pipeline.predict(X_test)\n",
        "  accuracy.append(accuracy_score(y_test,y_pred))\n",
        "\n"
      ],
      "execution_count": 228,
      "outputs": [
        {
          "output_type": "execute_result",
          "data": {
            "text/plain": [
              "Pipeline(memory=None,\n",
              "         steps=[('tfidf',\n",
              "                 TfidfVectorizer(analyzer='word', binary=False,\n",
              "                                 decode_error='strict',\n",
              "                                 dtype=<class 'numpy.float64'>,\n",
              "                                 encoding='utf-8', input='content',\n",
              "                                 lowercase=True, max_df=1.0, max_features=None,\n",
              "                                 min_df=1, ngram_range=(1, 1), norm='l2',\n",
              "                                 preprocessor=None, smooth_idf=True,\n",
              "                                 stop_words=None, strip_accents=None,\n",
              "                                 sublinear_tf=False,\n",
              "                                 token_pattern='...\n",
              "                 RandomForestClassifier(bootstrap=True, ccp_alpha=0.0,\n",
              "                                        class_weight=None, criterion='gini',\n",
              "                                        max_depth=None, max_features='auto',\n",
              "                                        max_leaf_nodes=None, max_samples=None,\n",
              "                                        min_impurity_decrease=0.0,\n",
              "                                        min_impurity_split=None,\n",
              "                                        min_samples_leaf=1, min_samples_split=2,\n",
              "                                        min_weight_fraction_leaf=0.0,\n",
              "                                        n_estimators=100, n_jobs=None,\n",
              "                                        oob_score=False, random_state=None,\n",
              "                                        verbose=0, warm_start=False))],\n",
              "         verbose=False)"
            ]
          },
          "metadata": {
            "tags": []
          },
          "execution_count": 228
        },
        {
          "output_type": "execute_result",
          "data": {
            "text/plain": [
              "Pipeline(memory=None,\n",
              "         steps=[('tfidf',\n",
              "                 TfidfVectorizer(analyzer='word', binary=False,\n",
              "                                 decode_error='strict',\n",
              "                                 dtype=<class 'numpy.float64'>,\n",
              "                                 encoding='utf-8', input='content',\n",
              "                                 lowercase=True, max_df=1.0, max_features=None,\n",
              "                                 min_df=1, ngram_range=(1, 1), norm='l2',\n",
              "                                 preprocessor=None, smooth_idf=True,\n",
              "                                 stop_words=None, strip_accents=None,\n",
              "                                 sublinear_tf=False,\n",
              "                                 token_pattern='...\n",
              "                 RandomForestClassifier(bootstrap=True, ccp_alpha=0.0,\n",
              "                                        class_weight=None, criterion='gini',\n",
              "                                        max_depth=None, max_features='auto',\n",
              "                                        max_leaf_nodes=None, max_samples=None,\n",
              "                                        min_impurity_decrease=0.0,\n",
              "                                        min_impurity_split=None,\n",
              "                                        min_samples_leaf=1, min_samples_split=2,\n",
              "                                        min_weight_fraction_leaf=0.0,\n",
              "                                        n_estimators=100, n_jobs=None,\n",
              "                                        oob_score=False, random_state=None,\n",
              "                                        verbose=0, warm_start=False))],\n",
              "         verbose=False)"
            ]
          },
          "metadata": {
            "tags": []
          },
          "execution_count": 228
        },
        {
          "output_type": "execute_result",
          "data": {
            "text/plain": [
              "Pipeline(memory=None,\n",
              "         steps=[('tfidf',\n",
              "                 TfidfVectorizer(analyzer='word', binary=False,\n",
              "                                 decode_error='strict',\n",
              "                                 dtype=<class 'numpy.float64'>,\n",
              "                                 encoding='utf-8', input='content',\n",
              "                                 lowercase=True, max_df=1.0, max_features=None,\n",
              "                                 min_df=1, ngram_range=(1, 1), norm='l2',\n",
              "                                 preprocessor=None, smooth_idf=True,\n",
              "                                 stop_words=None, strip_accents=None,\n",
              "                                 sublinear_tf=False,\n",
              "                                 token_pattern='...\n",
              "                 RandomForestClassifier(bootstrap=True, ccp_alpha=0.0,\n",
              "                                        class_weight=None, criterion='gini',\n",
              "                                        max_depth=None, max_features='auto',\n",
              "                                        max_leaf_nodes=None, max_samples=None,\n",
              "                                        min_impurity_decrease=0.0,\n",
              "                                        min_impurity_split=None,\n",
              "                                        min_samples_leaf=1, min_samples_split=2,\n",
              "                                        min_weight_fraction_leaf=0.0,\n",
              "                                        n_estimators=100, n_jobs=None,\n",
              "                                        oob_score=False, random_state=None,\n",
              "                                        verbose=0, warm_start=False))],\n",
              "         verbose=False)"
            ]
          },
          "metadata": {
            "tags": []
          },
          "execution_count": 228
        },
        {
          "output_type": "execute_result",
          "data": {
            "text/plain": [
              "Pipeline(memory=None,\n",
              "         steps=[('tfidf',\n",
              "                 TfidfVectorizer(analyzer='word', binary=False,\n",
              "                                 decode_error='strict',\n",
              "                                 dtype=<class 'numpy.float64'>,\n",
              "                                 encoding='utf-8', input='content',\n",
              "                                 lowercase=True, max_df=1.0, max_features=None,\n",
              "                                 min_df=1, ngram_range=(1, 1), norm='l2',\n",
              "                                 preprocessor=None, smooth_idf=True,\n",
              "                                 stop_words=None, strip_accents=None,\n",
              "                                 sublinear_tf=False,\n",
              "                                 token_pattern='...\n",
              "                 RandomForestClassifier(bootstrap=True, ccp_alpha=0.0,\n",
              "                                        class_weight=None, criterion='gini',\n",
              "                                        max_depth=None, max_features='auto',\n",
              "                                        max_leaf_nodes=None, max_samples=None,\n",
              "                                        min_impurity_decrease=0.0,\n",
              "                                        min_impurity_split=None,\n",
              "                                        min_samples_leaf=1, min_samples_split=2,\n",
              "                                        min_weight_fraction_leaf=0.0,\n",
              "                                        n_estimators=100, n_jobs=None,\n",
              "                                        oob_score=False, random_state=None,\n",
              "                                        verbose=0, warm_start=False))],\n",
              "         verbose=False)"
            ]
          },
          "metadata": {
            "tags": []
          },
          "execution_count": 228
        },
        {
          "output_type": "execute_result",
          "data": {
            "text/plain": [
              "Pipeline(memory=None,\n",
              "         steps=[('tfidf',\n",
              "                 TfidfVectorizer(analyzer='word', binary=False,\n",
              "                                 decode_error='strict',\n",
              "                                 dtype=<class 'numpy.float64'>,\n",
              "                                 encoding='utf-8', input='content',\n",
              "                                 lowercase=True, max_df=1.0, max_features=None,\n",
              "                                 min_df=1, ngram_range=(1, 1), norm='l2',\n",
              "                                 preprocessor=None, smooth_idf=True,\n",
              "                                 stop_words=None, strip_accents=None,\n",
              "                                 sublinear_tf=False,\n",
              "                                 token_pattern='...\n",
              "                 RandomForestClassifier(bootstrap=True, ccp_alpha=0.0,\n",
              "                                        class_weight=None, criterion='gini',\n",
              "                                        max_depth=None, max_features='auto',\n",
              "                                        max_leaf_nodes=None, max_samples=None,\n",
              "                                        min_impurity_decrease=0.0,\n",
              "                                        min_impurity_split=None,\n",
              "                                        min_samples_leaf=1, min_samples_split=2,\n",
              "                                        min_weight_fraction_leaf=0.0,\n",
              "                                        n_estimators=100, n_jobs=None,\n",
              "                                        oob_score=False, random_state=None,\n",
              "                                        verbose=0, warm_start=False))],\n",
              "         verbose=False)"
            ]
          },
          "metadata": {
            "tags": []
          },
          "execution_count": 228
        },
        {
          "output_type": "execute_result",
          "data": {
            "text/plain": [
              "Pipeline(memory=None,\n",
              "         steps=[('tfidf',\n",
              "                 TfidfVectorizer(analyzer='word', binary=False,\n",
              "                                 decode_error='strict',\n",
              "                                 dtype=<class 'numpy.float64'>,\n",
              "                                 encoding='utf-8', input='content',\n",
              "                                 lowercase=True, max_df=1.0, max_features=None,\n",
              "                                 min_df=1, ngram_range=(1, 1), norm='l2',\n",
              "                                 preprocessor=None, smooth_idf=True,\n",
              "                                 stop_words=None, strip_accents=None,\n",
              "                                 sublinear_tf=False,\n",
              "                                 token_pattern='...\n",
              "                 RandomForestClassifier(bootstrap=True, ccp_alpha=0.0,\n",
              "                                        class_weight=None, criterion='gini',\n",
              "                                        max_depth=None, max_features='auto',\n",
              "                                        max_leaf_nodes=None, max_samples=None,\n",
              "                                        min_impurity_decrease=0.0,\n",
              "                                        min_impurity_split=None,\n",
              "                                        min_samples_leaf=1, min_samples_split=2,\n",
              "                                        min_weight_fraction_leaf=0.0,\n",
              "                                        n_estimators=100, n_jobs=None,\n",
              "                                        oob_score=False, random_state=None,\n",
              "                                        verbose=0, warm_start=False))],\n",
              "         verbose=False)"
            ]
          },
          "metadata": {
            "tags": []
          },
          "execution_count": 228
        },
        {
          "output_type": "execute_result",
          "data": {
            "text/plain": [
              "Pipeline(memory=None,\n",
              "         steps=[('tfidf',\n",
              "                 TfidfVectorizer(analyzer='word', binary=False,\n",
              "                                 decode_error='strict',\n",
              "                                 dtype=<class 'numpy.float64'>,\n",
              "                                 encoding='utf-8', input='content',\n",
              "                                 lowercase=True, max_df=1.0, max_features=None,\n",
              "                                 min_df=1, ngram_range=(1, 1), norm='l2',\n",
              "                                 preprocessor=None, smooth_idf=True,\n",
              "                                 stop_words=None, strip_accents=None,\n",
              "                                 sublinear_tf=False,\n",
              "                                 token_pattern='...\n",
              "                 RandomForestClassifier(bootstrap=True, ccp_alpha=0.0,\n",
              "                                        class_weight=None, criterion='gini',\n",
              "                                        max_depth=None, max_features='auto',\n",
              "                                        max_leaf_nodes=None, max_samples=None,\n",
              "                                        min_impurity_decrease=0.0,\n",
              "                                        min_impurity_split=None,\n",
              "                                        min_samples_leaf=1, min_samples_split=2,\n",
              "                                        min_weight_fraction_leaf=0.0,\n",
              "                                        n_estimators=100, n_jobs=None,\n",
              "                                        oob_score=False, random_state=None,\n",
              "                                        verbose=0, warm_start=False))],\n",
              "         verbose=False)"
            ]
          },
          "metadata": {
            "tags": []
          },
          "execution_count": 228
        },
        {
          "output_type": "execute_result",
          "data": {
            "text/plain": [
              "Pipeline(memory=None,\n",
              "         steps=[('tfidf',\n",
              "                 TfidfVectorizer(analyzer='word', binary=False,\n",
              "                                 decode_error='strict',\n",
              "                                 dtype=<class 'numpy.float64'>,\n",
              "                                 encoding='utf-8', input='content',\n",
              "                                 lowercase=True, max_df=1.0, max_features=None,\n",
              "                                 min_df=1, ngram_range=(1, 1), norm='l2',\n",
              "                                 preprocessor=None, smooth_idf=True,\n",
              "                                 stop_words=None, strip_accents=None,\n",
              "                                 sublinear_tf=False,\n",
              "                                 token_pattern='...\n",
              "                 RandomForestClassifier(bootstrap=True, ccp_alpha=0.0,\n",
              "                                        class_weight=None, criterion='gini',\n",
              "                                        max_depth=None, max_features='auto',\n",
              "                                        max_leaf_nodes=None, max_samples=None,\n",
              "                                        min_impurity_decrease=0.0,\n",
              "                                        min_impurity_split=None,\n",
              "                                        min_samples_leaf=1, min_samples_split=2,\n",
              "                                        min_weight_fraction_leaf=0.0,\n",
              "                                        n_estimators=100, n_jobs=None,\n",
              "                                        oob_score=False, random_state=None,\n",
              "                                        verbose=0, warm_start=False))],\n",
              "         verbose=False)"
            ]
          },
          "metadata": {
            "tags": []
          },
          "execution_count": 228
        },
        {
          "output_type": "execute_result",
          "data": {
            "text/plain": [
              "Pipeline(memory=None,\n",
              "         steps=[('tfidf',\n",
              "                 TfidfVectorizer(analyzer='word', binary=False,\n",
              "                                 decode_error='strict',\n",
              "                                 dtype=<class 'numpy.float64'>,\n",
              "                                 encoding='utf-8', input='content',\n",
              "                                 lowercase=True, max_df=1.0, max_features=None,\n",
              "                                 min_df=1, ngram_range=(1, 1), norm='l2',\n",
              "                                 preprocessor=None, smooth_idf=True,\n",
              "                                 stop_words=None, strip_accents=None,\n",
              "                                 sublinear_tf=False,\n",
              "                                 token_pattern='...\n",
              "                 RandomForestClassifier(bootstrap=True, ccp_alpha=0.0,\n",
              "                                        class_weight=None, criterion='gini',\n",
              "                                        max_depth=None, max_features='auto',\n",
              "                                        max_leaf_nodes=None, max_samples=None,\n",
              "                                        min_impurity_decrease=0.0,\n",
              "                                        min_impurity_split=None,\n",
              "                                        min_samples_leaf=1, min_samples_split=2,\n",
              "                                        min_weight_fraction_leaf=0.0,\n",
              "                                        n_estimators=100, n_jobs=None,\n",
              "                                        oob_score=False, random_state=None,\n",
              "                                        verbose=0, warm_start=False))],\n",
              "         verbose=False)"
            ]
          },
          "metadata": {
            "tags": []
          },
          "execution_count": 228
        },
        {
          "output_type": "execute_result",
          "data": {
            "text/plain": [
              "Pipeline(memory=None,\n",
              "         steps=[('tfidf',\n",
              "                 TfidfVectorizer(analyzer='word', binary=False,\n",
              "                                 decode_error='strict',\n",
              "                                 dtype=<class 'numpy.float64'>,\n",
              "                                 encoding='utf-8', input='content',\n",
              "                                 lowercase=True, max_df=1.0, max_features=None,\n",
              "                                 min_df=1, ngram_range=(1, 1), norm='l2',\n",
              "                                 preprocessor=None, smooth_idf=True,\n",
              "                                 stop_words=None, strip_accents=None,\n",
              "                                 sublinear_tf=False,\n",
              "                                 token_pattern='...\n",
              "                 RandomForestClassifier(bootstrap=True, ccp_alpha=0.0,\n",
              "                                        class_weight=None, criterion='gini',\n",
              "                                        max_depth=None, max_features='auto',\n",
              "                                        max_leaf_nodes=None, max_samples=None,\n",
              "                                        min_impurity_decrease=0.0,\n",
              "                                        min_impurity_split=None,\n",
              "                                        min_samples_leaf=1, min_samples_split=2,\n",
              "                                        min_weight_fraction_leaf=0.0,\n",
              "                                        n_estimators=100, n_jobs=None,\n",
              "                                        oob_score=False, random_state=None,\n",
              "                                        verbose=0, warm_start=False))],\n",
              "         verbose=False)"
            ]
          },
          "metadata": {
            "tags": []
          },
          "execution_count": 228
        }
      ]
    },
    {
      "cell_type": "code",
      "metadata": {
        "id": "-OT971zAChCj",
        "colab_type": "code",
        "outputId": "7cf02861-bf5c-43fc-d4a3-9baf9c069cf8",
        "colab": {
          "base_uri": "https://localhost:8080/",
          "height": 185
        }
      },
      "source": [
        "accuracy"
      ],
      "execution_count": 229,
      "outputs": [
        {
          "output_type": "execute_result",
          "data": {
            "text/plain": [
              "[0.9874326750448833,\n",
              " 0.9748201438848921,\n",
              " 0.9712230215827338,\n",
              " 0.9730215827338129,\n",
              " 0.9712230215827338,\n",
              " 0.9802158273381295,\n",
              " 0.9712230215827338,\n",
              " 0.9766187050359713,\n",
              " 0.9694244604316546,\n",
              " 0.9784172661870504]"
            ]
          },
          "metadata": {
            "tags": []
          },
          "execution_count": 229
        }
      ]
    },
    {
      "cell_type": "code",
      "metadata": {
        "id": "fe4pDsYrEDcU",
        "colab_type": "code",
        "outputId": "0ab759a4-278b-4500-e813-19324200dc0c",
        "colab": {
          "base_uri": "https://localhost:8080/",
          "height": 34
        }
      },
      "source": [
        "print(f'The minimum accuracy :{min(accuracy):.2f}, maximum accuracy :{max(accuracy):.2f}, average accuracy:{np.mean(accuracy):.2f}')"
      ],
      "execution_count": 230,
      "outputs": [
        {
          "output_type": "stream",
          "text": [
            "The minimum accuracy :0.97, maximum accuracy :0.99, average accuracy:0.98\n"
          ],
          "name": "stdout"
        }
      ]
    },
    {
      "cell_type": "code",
      "metadata": {
        "id": "2z1VpU9kLSEX",
        "colab_type": "code",
        "colab": {}
      },
      "source": [
        "def findBestHyperParams(est,params,X,y):\n",
        "  ranCV = RandomizedSearchCV(est,param_distributions=params,n_iter=10,n_jobs=-1,cv=5)\n",
        "  ranCV.fit(X,y)\n",
        "  return ranCV.best_params_, ranCV.best_score_"
      ],
      "execution_count": 0,
      "outputs": []
    },
    {
      "cell_type": "code",
      "metadata": {
        "id": "GGQTM_XLN6hH",
        "colab_type": "code",
        "colab": {}
      },
      "source": [
        "params={'n_estimators':[100,200,300,400,500],\n",
        "        'criterion':['gini','entropy'],\n",
        "        'max_depth':[3,5,10,None],\n",
        "        'bootstrap':[True,False],\n",
        "        'min_samples_leaf':[np.random.randint(1,4)]\n",
        "        }"
      ],
      "execution_count": 0,
      "outputs": []
    },
    {
      "cell_type": "code",
      "metadata": {
        "id": "T6hpNED-N3GE",
        "colab_type": "code",
        "colab": {}
      },
      "source": [
        "bestParams, bestScore = findBestHyperParams(RandomForestClassifier(),params,tf_x,y)"
      ],
      "execution_count": 0,
      "outputs": []
    },
    {
      "cell_type": "code",
      "metadata": {
        "id": "zoERLkG_QVMK",
        "colab_type": "code",
        "outputId": "d74e06fb-2b37-4a1f-92d0-0192a78c54c7",
        "colab": {
          "base_uri": "https://localhost:8080/",
          "height": 101
        }
      },
      "source": [
        "bestParams"
      ],
      "execution_count": 234,
      "outputs": [
        {
          "output_type": "execute_result",
          "data": {
            "text/plain": [
              "{'bootstrap': False,\n",
              " 'criterion': 'entropy',\n",
              " 'max_depth': None,\n",
              " 'min_samples_leaf': 2,\n",
              " 'n_estimators': 100}"
            ]
          },
          "metadata": {
            "tags": []
          },
          "execution_count": 234
        }
      ]
    },
    {
      "cell_type": "code",
      "metadata": {
        "id": "6vcrYbroQ8Pt",
        "colab_type": "code",
        "colab": {}
      },
      "source": [
        " X_train,X_test,y_train,y_test = train_test_split(X,y, test_size=0.2,random_state=42)\n",
        " "
      ],
      "execution_count": 0,
      "outputs": []
    },
    {
      "cell_type": "code",
      "metadata": {
        "id": "CQ_CN-HsQeb7",
        "colab_type": "code",
        "colab": {
          "base_uri": "https://localhost:8080/",
          "height": 420
        },
        "outputId": "b9911251-7fd6-4a52-8c07-44d9e183003a"
      },
      "source": [
        "model = Pipeline([('tfidf',TfidfVectorizer()),\n",
        "                     ('model',RandomForestClassifier(bootstrap=False,criterion='entropy',max_depth=None,min_samples_leaf=2,n_estimators=400))\n",
        "                     ])\n",
        "model.fit(X_train,y_train)\n",
        "y_pred = model.predict(X_test)"
      ],
      "execution_count": 236,
      "outputs": [
        {
          "output_type": "execute_result",
          "data": {
            "text/plain": [
              "Pipeline(memory=None,\n",
              "         steps=[('tfidf',\n",
              "                 TfidfVectorizer(analyzer='word', binary=False,\n",
              "                                 decode_error='strict',\n",
              "                                 dtype=<class 'numpy.float64'>,\n",
              "                                 encoding='utf-8', input='content',\n",
              "                                 lowercase=True, max_df=1.0, max_features=None,\n",
              "                                 min_df=1, ngram_range=(1, 1), norm='l2',\n",
              "                                 preprocessor=None, smooth_idf=True,\n",
              "                                 stop_words=None, strip_accents=None,\n",
              "                                 sublinear_tf=False,\n",
              "                                 token_pattern='...\n",
              "                 RandomForestClassifier(bootstrap=False, ccp_alpha=0.0,\n",
              "                                        class_weight=None, criterion='entropy',\n",
              "                                        max_depth=None, max_features='auto',\n",
              "                                        max_leaf_nodes=None, max_samples=None,\n",
              "                                        min_impurity_decrease=0.0,\n",
              "                                        min_impurity_split=None,\n",
              "                                        min_samples_leaf=2, min_samples_split=2,\n",
              "                                        min_weight_fraction_leaf=0.0,\n",
              "                                        n_estimators=400, n_jobs=None,\n",
              "                                        oob_score=False, random_state=None,\n",
              "                                        verbose=0, warm_start=False))],\n",
              "         verbose=False)"
            ]
          },
          "metadata": {
            "tags": []
          },
          "execution_count": 236
        }
      ]
    },
    {
      "cell_type": "code",
      "metadata": {
        "id": "L8X_YMMcI7L3",
        "colab_type": "code",
        "colab": {}
      },
      "source": [
        "def calMetrics(y_test,y_pred):\n",
        "  cf = confusion_matrix(y_test,y_pred)\n",
        "  sns.heatmap(cf,cmap='RdYlGn',annot=True)\n",
        "  plt.show()\n",
        "\n",
        "  print(classification_report(y_test,y_pred))\n",
        "  print(f'Accuracy Score :{accuracy_score(y_test,y_pred):.2f}')"
      ],
      "execution_count": 0,
      "outputs": []
    },
    {
      "cell_type": "code",
      "metadata": {
        "id": "Qm9dABf2JX5r",
        "colab_type": "code",
        "outputId": "2f0d191e-98c0-4e93-9f68-8335c995a0ff",
        "colab": {
          "base_uri": "https://localhost:8080/",
          "height": 433
        }
      },
      "source": [
        "calMetrics(y_test,y_pred)"
      ],
      "execution_count": 238,
      "outputs": [
        {
          "output_type": "display_data",
          "data": {
            "image/png": "[encoded data removed]",
            "text/plain": [
              "<Figure size 432x288 with 2 Axes>"
            ]
          },
          "metadata": {
            "tags": [],
            "needs_background": "light"
          }
        },
        {
          "output_type": "stream",
          "text": [
            "              precision    recall  f1-score   support\n",
            "\n",
            "           0       0.97      1.00      0.99       958\n",
            "           1       0.98      0.83      0.90       155\n",
            "\n",
            "    accuracy                           0.97      1113\n",
            "   macro avg       0.98      0.91      0.94      1113\n",
            "weighted avg       0.97      0.97      0.97      1113\n",
            "\n",
            "Accuracy Score :0.97\n"
          ],
          "name": "stdout"
        }
      ]
    },
    {
      "cell_type": "markdown",
      "metadata": {
        "id": "gI3uA1QKNtfC",
        "colab_type": "text"
      },
      "source": [
        "Checking the False Positive Texts - Ham incorectly classified"
      ]
    },
    {
      "cell_type": "code",
      "metadata": {
        "id": "Wjl6-wnqVl1K",
        "colab_type": "code",
        "outputId": "04e3d962-5832-46f2-cbd5-fbf5cfd25e75",
        "colab": {
          "base_uri": "https://localhost:8080/",
          "height": 50
        }
      },
      "source": [
        "X_test[y_pred>y_test]"
      ],
      "execution_count": 239,
      "outputs": [
        {
          "output_type": "execute_result",
          "data": {
            "text/plain": [
              "array(['total video converter free download type google search',\n",
              "       'purchase stuff today mail po box number'], dtype=object)"
            ]
          },
          "metadata": {
            "tags": []
          },
          "execution_count": 239
        }
      ]
    },
    {
      "cell_type": "markdown",
      "metadata": {
        "id": "5tlharYMVqEi",
        "colab_type": "text"
      },
      "source": [
        "Checking the False Negative Texts - Spam incorrectly classified"
      ]
    },
    {
      "cell_type": "code",
      "metadata": {
        "id": "Gk8u4LE7WEqm",
        "colab_type": "code",
        "outputId": "5487f1c0-5051-4738-868a-d7c45ac65138",
        "colab": {
          "base_uri": "https://localhost:8080/",
          "height": 470
        }
      },
      "source": [
        "X_test[y_pred<y_test]"
      ],
      "execution_count": 240,
      "outputs": [
        {
          "output_type": "execute_result",
          "data": {
            "text/plain": [
              "array(['donate unicefs asian tsunami disaster support fund texting donate added next bill',\n",
              "       'new message call',\n",
              "       'email alertfrom jeri stewartsize lowcost prescripiton drvgsto listen email call',\n",
              "       'want explicit sex secs ring costs min',\n",
              "       'claire havin borin time alone wanna cum chat hope c luv claire xx callså',\n",
              "       'cost',\n",
              "       'tonexs subscription renewed charged choose polys month wwwclubzedcouk billing msg',\n",
              "       'got takes take part wrc rally oz lucozade energy text rally le see packs lucozadecoukwrc itcould',\n",
              "       'text banneduk see cost textoperator xxx',\n",
              "       'new voicemail please call',\n",
              "       'enjoy jamster videosound gold club credits new videosounds logosmusicnews get fun jamstercouk help call',\n",
              "       'hi babe chloe r smashed saturday night great weekend missing sp visionsmscom text stop stop text',\n",
              "       'balance next question complete landmark big bob b barry c ben text b c good luck',\n",
              "       'new club fink met yet b c please leave msg wiv area reply promised carlie x callsåminmobsmore',\n",
              "       'hi sue years old work lapdancer love sex text live bedroom text sue textoperator',\n",
              "       'hi lucy hubby meetins day fri b alone hotel fancy cumin pls leave msg lucy x callså',\n",
              "       'oh god ive found number glad text back xafter msgs cst std ntwk chg',\n",
              "       'new message please call',\n",
              "       'sms ac jsco energy high may know leadership skills r strong psychic reply ans wquestion end reply end jsco',\n",
              "       'current leading bid pause auction send customer care',\n",
              "       'next amazing xxx video sent enjoy one vid enough text back keyword get next video',\n",
              "       'message brought gmw ltd connected', 'new voicemail please call',\n",
              "       'accordingly repeat text word ok mobile phone send',\n",
              "       'goal arsenal henry v liverpool henry scores simple shot yards pass bergkamp give arsenal goal margin mins',\n",
              "       'receiving weeks triple echo ringtone shortly enjoy',\n",
              "       'free game get rayman golf free games arcade get games settings reply post save press key arcade termsapply'],\n",
              "      dtype=object)"
            ]
          },
          "metadata": {
            "tags": []
          },
          "execution_count": 240
        }
      ]
    },
    {
      "cell_type": "markdown",
      "metadata": {
        "id": "8uNwoh8lW1or",
        "colab_type": "text"
      },
      "source": [
        "<a id='item7'></a>"
      ]
    },
    {
      "cell_type": "markdown",
      "metadata": {
        "id": "A21qN3JJWIdV",
        "colab_type": "text"
      },
      "source": [
        "##7.Model using Deep Learning"
      ]
    },
    {
      "cell_type": "code",
      "metadata": {
        "id": "6fxB5dTRW5FS",
        "colab_type": "code",
        "colab": {}
      },
      "source": [
        "import tensorflow as tf\n",
        "from tensorflow.keras.preprocessing.text import Tokenizer\n",
        "from tensorflow.keras.preprocessing.sequence import pad_sequences\n",
        "from tensorflow.keras.layers import Embedding,LSTM, Dropout,Dense, Bidirectional\n",
        "from tensorflow.keras.models import Sequential\n",
        "from tensorflow.keras.optimizers import RMSprop, Adam\n",
        "from tensorflow.keras.callbacks import ReduceLROnPlateau, EarlyStopping\n",
        "from tensorflow.keras import layers\n"
      ],
      "execution_count": 0,
      "outputs": []
    },
    {
      "cell_type": "code",
      "metadata": {
        "id": "Ta4EjfBBwBRR",
        "colab_type": "code",
        "colab": {}
      },
      "source": [
        "oov= '<oov>'\n",
        "max_len = max(df['text_len'])\n",
        "padding ='pre'\n",
        "trun='pre'"
      ],
      "execution_count": 0,
      "outputs": []
    },
    {
      "cell_type": "code",
      "metadata": {
        "id": "n5R0IBB03bU7",
        "colab_type": "code",
        "colab": {
          "base_uri": "https://localhost:8080/",
          "height": 34
        },
        "outputId": "8b96b5e5-096e-4127-9f75-8cedef671791"
      },
      "source": [
        "type(X)"
      ],
      "execution_count": 243,
      "outputs": [
        {
          "output_type": "execute_result",
          "data": {
            "text/plain": [
              "numpy.ndarray"
            ]
          },
          "metadata": {
            "tags": []
          },
          "execution_count": 243
        }
      ]
    },
    {
      "cell_type": "code",
      "metadata": {
        "id": "E0cHwQ9QXWkg",
        "colab_type": "code",
        "colab": {}
      },
      "source": [
        "tokenizer = Tokenizer(oov_token=oov)\n",
        "#create vocabulary\n",
        "tokenizer.fit_on_texts(list(X))\n",
        "word_index = tokenizer.word_index\n",
        "\n",
        "#transform each text in to integers\n",
        "text_sequence = tokenizer.texts_to_sequences(list(X))\n",
        "text_padded = pad_sequences(text_sequence,maxlen=17,padding=padding,truncating=trun)"
      ],
      "execution_count": 0,
      "outputs": []
    },
    {
      "cell_type": "code",
      "metadata": {
        "id": "pwXXzlKgh60V",
        "colab_type": "code",
        "colab": {
          "base_uri": "https://localhost:8080/",
          "height": 34
        },
        "outputId": "c36b5f21-aed3-4e6e-e1ba-8c7544f3f0ea"
      },
      "source": [
        "\n",
        "embedding_dim = 128\n",
        "corpus_size =len(word_index)+1\n",
        "corpus_size\n"
      ],
      "execution_count": 245,
      "outputs": [
        {
          "output_type": "execute_result",
          "data": {
            "text/plain": [
              "8299"
            ]
          },
          "metadata": {
            "tags": []
          },
          "execution_count": 245
        }
      ]
    },
    {
      "cell_type": "code",
      "metadata": {
        "id": "Z-KK1PR1ZZX2",
        "colab_type": "code",
        "colab": {}
      },
      "source": [
        "emb_lay = Embedding(input_dim=corpus_size, output_dim=embedding_dim, input_length=3)\n",
        "model = Sequential([emb_lay,\n",
        "                    tf.keras.layers.SpatialDropout1D(0.2),\n",
        "                    Bidirectional(LSTM(64,return_sequences=True)),\n",
        "                    Bidirectional(LSTM(34,return_sequences=True)),\n",
        "                    \n",
        "                    Dense(5,'relu'),\n",
        "                    Dropout(0.2),\n",
        "                    Dense(1,'sigmoid')\n",
        "                    ])\n",
        "model.compile(optimizer=RMSprop(lr=0.01),loss='binary_crossentropy',metrics=['accuracy'])"
      ],
      "execution_count": 0,
      "outputs": []
    },
    {
      "cell_type": "code",
      "metadata": {
        "id": "oIjR2iOWeWF6",
        "colab_type": "code",
        "colab": {}
      },
      "source": [
        "X_train,X_test,y_train,y_test = train_test_split(text_padded,y,test_size=0.3,random_state=42)"
      ],
      "execution_count": 0,
      "outputs": []
    },
    {
      "cell_type": "code",
      "metadata": {
        "id": "rU-Y9yGyetgu",
        "colab_type": "code",
        "colab": {
          "base_uri": "https://localhost:8080/",
          "height": 34
        },
        "outputId": "3cf192db-6331-430c-e7a8-922c94664f95"
      },
      "source": [
        "X_train.shape,y_train.shape"
      ],
      "execution_count": 280,
      "outputs": [
        {
          "output_type": "execute_result",
          "data": {
            "text/plain": [
              "((3892, 17), (3892,))"
            ]
          },
          "metadata": {
            "tags": []
          },
          "execution_count": 280
        }
      ]
    },
    {
      "cell_type": "code",
      "metadata": {
        "id": "qpBqoCiygk0C",
        "colab_type": "code",
        "colab": {}
      },
      "source": [
        "class MyCallback(tf.keras.callbacks.Callback):\n",
        "  def on_epoch_end(self,epochs,logs=None):\n",
        "    if logs['accuracy'] and logs['val_accuracy'] >=0.99:\n",
        "      self.stop.model_training = True\n",
        "      print('Model has reached 99% accuracy')"
      ],
      "execution_count": 0,
      "outputs": []
    },
    {
      "cell_type": "code",
      "metadata": {
        "id": "7fVEtQJadc_B",
        "colab_type": "code",
        "colab": {
          "base_uri": "https://localhost:8080/",
          "height": 625
        },
        "outputId": "3c2f2bbb-408b-4386-d8e7-6679615c3029"
      },
      "source": [
        "EPOCHS=10\n",
        "lrReduce = ReduceLROnPlateau(factor=0.1,monitor='val_accuracy',patience=1,min_delta=0.00001,verbose=1)\n",
        "earlyStopping = EarlyStopping(monitor='val_accuracy',min_delta=0.00001)\n",
        "history = model.fit(X_train,y_train,epochs=EPOCHS, batch_size=128, validation_split=0.2,callbacks=[lrReduce,MyCallback()])"
      ],
      "execution_count": 292,
      "outputs": [
        {
          "output_type": "stream",
          "text": [
            "Epoch 1/10\n",
            "WARNING:tensorflow:Model was constructed with shape (None, 3) for input Tensor(\"embedding_21_input:0\", shape=(None, 3), dtype=float32), but it was called on an input with incompatible shape (None, 17).\n",
            "WARNING:tensorflow:Model was constructed with shape (None, 3) for input Tensor(\"embedding_21_input:0\", shape=(None, 3), dtype=float32), but it was called on an input with incompatible shape (None, 17).\n",
            "25/25 [==============================] - ETA: 0s - loss: 0.2287 - accuracy: 0.9145WARNING:tensorflow:Model was constructed with shape (None, 3) for input Tensor(\"embedding_21_input:0\", shape=(None, 3), dtype=float32), but it was called on an input with incompatible shape (None, 17).\n",
            "25/25 [==============================] - 2s 99ms/step - loss: 0.2287 - accuracy: 0.9145 - val_loss: 0.7300 - val_accuracy: 0.6931 - lr: 0.0100\n",
            "Epoch 2/10\n",
            "25/25 [==============================] - 1s 35ms/step - loss: 0.0965 - accuracy: 0.9537 - val_loss: 0.1126 - val_accuracy: 0.9780 - lr: 0.0100\n",
            "Epoch 3/10\n",
            "25/25 [==============================] - ETA: 0s - loss: 0.0319 - accuracy: 0.9816\n",
            "Epoch 00003: ReduceLROnPlateau reducing learning rate to 0.0009999999776482583.\n",
            "25/25 [==============================] - 1s 34ms/step - loss: 0.0319 - accuracy: 0.9816 - val_loss: 0.1382 - val_accuracy: 0.9724 - lr: 0.0100\n",
            "Epoch 4/10\n",
            "25/25 [==============================] - 1s 35ms/step - loss: 0.0235 - accuracy: 0.9979 - val_loss: 0.1418 - val_accuracy: 0.9781 - lr: 1.0000e-03\n",
            "Epoch 5/10\n",
            "25/25 [==============================] - 1s 35ms/step - loss: 0.0191 - accuracy: 0.9980 - val_loss: 0.1651 - val_accuracy: 0.9788 - lr: 1.0000e-03\n",
            "Epoch 6/10\n",
            "25/25 [==============================] - ETA: 0s - loss: 0.0183 - accuracy: 0.9981\n",
            "Epoch 00006: ReduceLROnPlateau reducing learning rate to 9.999999310821295e-05.\n",
            "25/25 [==============================] - 1s 34ms/step - loss: 0.0183 - accuracy: 0.9981 - val_loss: 0.2001 - val_accuracy: 0.9773 - lr: 1.0000e-03\n",
            "Epoch 7/10\n",
            "25/25 [==============================] - ETA: 0s - loss: 0.0168 - accuracy: 0.9986\n",
            "Epoch 00007: ReduceLROnPlateau reducing learning rate to 9.999999019782991e-06.\n",
            "25/25 [==============================] - 1s 34ms/step - loss: 0.0168 - accuracy: 0.9986 - val_loss: 0.2012 - val_accuracy: 0.9775 - lr: 1.0000e-04\n",
            "Epoch 8/10\n",
            "25/25 [==============================] - ETA: 0s - loss: 0.0180 - accuracy: 0.9984\n",
            "Epoch 00008: ReduceLROnPlateau reducing learning rate to 9.99999883788405e-07.\n",
            "25/25 [==============================] - 1s 34ms/step - loss: 0.0180 - accuracy: 0.9984 - val_loss: 0.2013 - val_accuracy: 0.9775 - lr: 1.0000e-05\n",
            "Epoch 9/10\n",
            "25/25 [==============================] - ETA: 0s - loss: 0.0188 - accuracy: 0.9980\n",
            "Epoch 00009: ReduceLROnPlateau reducing learning rate to 9.99999883788405e-08.\n",
            "25/25 [==============================] - 1s 34ms/step - loss: 0.0188 - accuracy: 0.9980 - val_loss: 0.2013 - val_accuracy: 0.9775 - lr: 1.0000e-06\n",
            "Epoch 10/10\n",
            "25/25 [==============================] - ETA: 0s - loss: 0.0184 - accuracy: 0.9981\n",
            "Epoch 00010: ReduceLROnPlateau reducing learning rate to 9.999998695775504e-09.\n",
            "25/25 [==============================] - 1s 35ms/step - loss: 0.0184 - accuracy: 0.9981 - val_loss: 0.2013 - val_accuracy: 0.9775 - lr: 1.0000e-07\n"
          ],
          "name": "stdout"
        }
      ]
    },
    {
      "cell_type": "code",
      "metadata": {
        "id": "mwZ62TM_eGUp",
        "colab_type": "code",
        "colab": {
          "base_uri": "https://localhost:8080/",
          "height": 34
        },
        "outputId": "e84eb751-f67a-4c7c-cff0-45af25ba0127"
      },
      "source": [
        "loss, accuracy =model.evaluate(X_test,y_test)"
      ],
      "execution_count": 294,
      "outputs": [
        {
          "output_type": "stream",
          "text": [
            "53/53 [==============================] - 1s 10ms/step - loss: 0.1254 - accuracy: 0.9840\n"
          ],
          "name": "stdout"
        }
      ]
    },
    {
      "cell_type": "code",
      "metadata": {
        "id": "4y60lo3hYgQV",
        "colab_type": "code",
        "colab": {
          "base_uri": "https://localhost:8080/",
          "height": 34
        },
        "outputId": "ab9804b0-7d77-43f0-84f9-03d29188b3c8"
      },
      "source": [
        "print(f'Test accuracy:{accuracy:.2f}')"
      ],
      "execution_count": 296,
      "outputs": [
        {
          "output_type": "stream",
          "text": [
            "Test accuracy:0.98\n"
          ],
          "name": "stdout"
        }
      ]
    },
    {
      "cell_type": "code",
      "metadata": {
        "id": "4WjxuQ2PdcPB",
        "colab_type": "code",
        "colab": {}
      },
      "source": [
        ""
      ],
      "execution_count": 0,
      "outputs": []
    }
  ]
}